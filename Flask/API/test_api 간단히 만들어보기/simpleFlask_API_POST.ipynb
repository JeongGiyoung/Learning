{
 "cells": [
  {
   "cell_type": "markdown",
   "id": "3e243490",
   "metadata": {},
   "source": [
    "# # 출처\n",
    "  * https://rekt77.tistory.com/104?category=825845"
   ]
  },
  {
   "cell_type": "code",
   "execution_count": null,
   "id": "0a0e4ef0",
   "metadata": {
    "ExecuteTime": {
     "start_time": "2022-10-12T03:17:53.594Z"
    }
   },
   "outputs": [
    {
     "name": "stdout",
     "output_type": "stream",
     "text": [
      " * Serving Flask app '__main__'\n",
      " * Debug mode: off\n"
     ]
    },
    {
     "name": "stderr",
     "output_type": "stream",
     "text": [
      "WARNING: This is a development server. Do not use it in a production deployment. Use a production WSGI server instead.\n",
      " * Running on http://127.0.0.1:5000\n",
      "Press CTRL+C to quit\n",
      "127.0.0.1 - - [12/Oct/2022 12:17:55] \"GET / HTTP/1.1\" 200 -\n",
      "127.0.0.1 - - [12/Oct/2022 12:18:27] \"POST /userLogin HTTP/1.1\" 200 -\n"
     ]
    }
   ],
   "source": [
    "from flask import Flask, request, jsonify\n",
    "app = Flask(__name__)\n",
    "\n",
    "@app.route('/')\n",
    "def test():\n",
    "    return 'hello world!'\n",
    "    \n",
    "# userLogin과 environments인데요 userLogin은 POST 방식으로 접근해야하는 API입니다.\n",
    "## 동작방식은 받은 json을 그대로 돌려주는 형태입니다.  \n",
    "@app.route('/userLogin', methods = ['POST'])\n",
    "def userLogin():\n",
    "    user = request.get_json()#json 데이터를 받아옴\n",
    "    return jsonify(user)# 받아온 데이터를 다시 전송\n",
    "\n",
    "# environments는 URI 마지막 구분자에 넣어준 값을 json형태로 반환해주는 API입니다. 이 때의 키 값은 language가 됩니다. \n",
    "@app.route('/environments/<language>')\n",
    "def environments(language):\n",
    "    return jsonify({\"language\":language})\n",
    "\n",
    "if __name__ == \"__main__\":\n",
    "    app.run()"
   ]
  },
  {
   "cell_type": "markdown",
   "id": "eb57abf6",
   "metadata": {},
   "source": [
    "# # Restlet Client\n",
    "  * 그러면 위의 소스코드를 실행 시키고 테스트를 진행해 보겠습니다. test하기위한 도구는 Restlet 입니다.\n",
    "  * 링크: https://chrome.google.com/webstore/detail/restlet-client-rest-api-t/aejoelaoggembcahagimdiliamlcdmfm"
   ]
  },
  {
   "cell_type": "code",
   "execution_count": null,
   "id": "f24f41b5",
   "metadata": {},
   "outputs": [],
   "source": []
  }
 ],
 "metadata": {
  "kernelspec": {
   "display_name": "Python 3 (ipykernel)",
   "language": "python",
   "name": "python3"
  },
  "language_info": {
   "codemirror_mode": {
    "name": "ipython",
    "version": 3
   },
   "file_extension": ".py",
   "mimetype": "text/x-python",
   "name": "python",
   "nbconvert_exporter": "python",
   "pygments_lexer": "ipython3",
   "version": "3.7.13"
  },
  "toc": {
   "base_numbering": 1,
   "nav_menu": {},
   "number_sections": true,
   "sideBar": true,
   "skip_h1_title": false,
   "title_cell": "Table of Contents",
   "title_sidebar": "Contents",
   "toc_cell": false,
   "toc_position": {},
   "toc_section_display": true,
   "toc_window_display": false
  },
  "varInspector": {
   "cols": {
    "lenName": 16,
    "lenType": 16,
    "lenVar": 40
   },
   "kernels_config": {
    "python": {
     "delete_cmd_postfix": "",
     "delete_cmd_prefix": "del ",
     "library": "var_list.py",
     "varRefreshCmd": "print(var_dic_list())"
    },
    "r": {
     "delete_cmd_postfix": ") ",
     "delete_cmd_prefix": "rm(",
     "library": "var_list.r",
     "varRefreshCmd": "cat(var_dic_list()) "
    }
   },
   "types_to_exclude": [
    "module",
    "function",
    "builtin_function_or_method",
    "instance",
    "_Feature"
   ],
   "window_display": false
  }
 },
 "nbformat": 4,
 "nbformat_minor": 5
}
