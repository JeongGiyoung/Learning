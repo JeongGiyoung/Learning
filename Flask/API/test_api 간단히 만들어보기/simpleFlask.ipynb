{
 "cells": [
  {
   "cell_type": "markdown",
   "id": "b86caffd",
   "metadata": {},
   "source": [
    "# # 출처\n",
    "  * https://rekt77.tistory.com/103"
   ]
  },
  {
   "cell_type": "code",
   "execution_count": null,
   "id": "6636d01b",
   "metadata": {
    "ExecuteTime": {
     "start_time": "2022-10-12T03:16:00.954Z"
    }
   },
   "outputs": [
    {
     "name": "stdout",
     "output_type": "stream",
     "text": [
      " * Serving Flask app '__main__'\n",
      " * Debug mode: off\n"
     ]
    },
    {
     "name": "stderr",
     "output_type": "stream",
     "text": [
      "WARNING: This is a development server. Do not use it in a production deployment. Use a production WSGI server instead.\n",
      " * Running on http://127.0.0.1:5000\n",
      "Press CTRL+C to quit\n",
      "127.0.0.1 - - [12/Oct/2022 12:16:04] \"GET / HTTP/1.1\" 200 -\n"
     ]
    }
   ],
   "source": [
    "from flask import Flask\n",
    "app = Flask (__name__)\n",
    " \n",
    "@app.route('/')\n",
    "# URL의 / 경로를 요청하면 하위에 기재된 코드를 실행하는 것 입니다.\n",
    "# 이 함수에서는 Hello, World!를 리턴하기 때문에 Hello, World!가 출력되는 것입니다.\n",
    "# 이런식으로 경로를 설정하여 다른동작을 하게 하는것을 라우팅이라고 합니다.\n",
    "\n",
    "def hello_world():\n",
    "    return 'Hello, World!'\n",
    "\n",
    "@app.route('/user/<userName>') # URL뒤에 <>을 이용해 가변 경로를 적는다\n",
    "# 추가적으로 라우팅 함수는 URL을 변수로 받아와서 처리하게 구현할 수 도 있습니다.\n",
    "## hello_user를 보시면 라우팅 데코레이터에 <userName>이라는게 들어 있는걸 볼 수 있습니다. 이는 가변 경로에 대해 그 값을 변수로 사용하겠다는 의미입니다. 이러한 가변 경로를 변수로 사용하기 위해서는 hello_user의 인자 값으로 만들어 줘야하기 때문에 인자에 userName이 들어가 있는 것 입니다.\n",
    "def hello_user(userName):\n",
    "    return f'Hello, {userName}'\n",
    " \n",
    "if __name__ == \"__main__\":\n",
    "    app.run()"
   ]
  },
  {
   "cell_type": "code",
   "execution_count": null,
   "id": "3349030c",
   "metadata": {},
   "outputs": [],
   "source": []
  }
 ],
 "metadata": {
  "kernelspec": {
   "display_name": "Python 3 (ipykernel)",
   "language": "python",
   "name": "python3"
  },
  "language_info": {
   "codemirror_mode": {
    "name": "ipython",
    "version": 3
   },
   "file_extension": ".py",
   "mimetype": "text/x-python",
   "name": "python",
   "nbconvert_exporter": "python",
   "pygments_lexer": "ipython3",
   "version": "3.7.13"
  },
  "toc": {
   "base_numbering": 1,
   "nav_menu": {},
   "number_sections": true,
   "sideBar": true,
   "skip_h1_title": false,
   "title_cell": "Table of Contents",
   "title_sidebar": "Contents",
   "toc_cell": false,
   "toc_position": {},
   "toc_section_display": true,
   "toc_window_display": true
  },
  "varInspector": {
   "cols": {
    "lenName": 16,
    "lenType": 16,
    "lenVar": 40
   },
   "kernels_config": {
    "python": {
     "delete_cmd_postfix": "",
     "delete_cmd_prefix": "del ",
     "library": "var_list.py",
     "varRefreshCmd": "print(var_dic_list())"
    },
    "r": {
     "delete_cmd_postfix": ") ",
     "delete_cmd_prefix": "rm(",
     "library": "var_list.r",
     "varRefreshCmd": "cat(var_dic_list()) "
    }
   },
   "types_to_exclude": [
    "module",
    "function",
    "builtin_function_or_method",
    "instance",
    "_Feature"
   ],
   "window_display": false
  }
 },
 "nbformat": 4,
 "nbformat_minor": 5
}
