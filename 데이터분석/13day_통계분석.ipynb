{
 "cells": [
  {
   "cell_type": "markdown",
   "id": "80abde61",
   "metadata": {},
   "source": [
    "# 통계분석"
   ]
  },
  {
   "cell_type": "markdown",
   "id": "b5c239b6",
   "metadata": {},
   "source": [
    "### # 사용되는 라이브러리"
   ]
  },
  {
   "cell_type": "code",
   "execution_count": 3,
   "id": "38ca789b",
   "metadata": {},
   "outputs": [],
   "source": [
    "# scipy > stats : t검정에 사용\n",
    "\n",
    "from scipy import stats\n",
    "\n",
    "import numpy"
   ]
  },
  {
   "cell_type": "markdown",
   "id": "2639a079",
   "metadata": {},
   "source": [
    "### # 학생 키에 대한 데이터 생성"
   ]
  },
  {
   "cell_type": "code",
   "execution_count": 4,
   "id": "9e0d2929",
   "metadata": {},
   "outputs": [],
   "source": [
    "height_list = numpy.array([169, 167, 175, 166, 162,\n",
    "                         180, 172, 162, 173, 162,\n",
    "                         181, 175, 181, 181, 162,\n",
    "                         165, 172, 176, 167, 165])"
   ]
  },
  {
   "cell_type": "code",
   "execution_count": 6,
   "id": "98e391a5",
   "metadata": {},
   "outputs": [
    {
     "data": {
      "text/plain": [
       "numpy.ndarray"
      ]
     },
     "execution_count": 6,
     "metadata": {},
     "output_type": "execute_result"
    }
   ],
   "source": [
    "type(height_list)"
   ]
  },
  {
   "cell_type": "markdown",
   "id": "6c743046",
   "metadata": {},
   "source": [
    "### # t-검정"
   ]
  },
  {
   "cell_type": "code",
   "execution_count": 13,
   "id": "d6394116",
   "metadata": {},
   "outputs": [
    {
     "name": "stdout",
     "output_type": "stream",
     "text": [
      "Ttest_1sampResult(statistic=0.42270173526659166, pvalue=0.6772582597305596)\n",
      "t검정통계량 = 0.423, p-value = 0.677\n"
     ]
    }
   ],
   "source": [
    "tTestResult = stats.ttest_1samp(height_list, 170)\n",
    "\n",
    "print(tTestResult)\n",
    "\n",
    "print(\"t검정통계량 = %.3f, p-value = %.3f\" % (tTestResult))"
   ]
  },
  {
   "cell_type": "markdown",
   "id": "2ba168e9",
   "metadata": {},
   "source": [
    "### # 용어\n",
    "  * statistic + pvalue = 1\n",
    "    - statistic = 검정통계량(정확도)\n",
    "    - pvalue(p-value) = 유의수준(오차)\n",
    "  \n",
    "  * 170 : 귀무가설에서 채택한 값\n",
    "    = '집단의 키 평균은 170이다'\n",
    "    \n",
    "  * height_list 에 있는 값들은 표본 : 대립가설 증명을 위해 모은 표본\n",
    "    \n",
    "  * T-검정을 수행\n",
    "    - T-검정의 목적 : 귀무가설이 참인지 확인\n",
    "      + p-value < 0.05 채택\n",
    "      + p-value >= 0.05 기각\n",
    "  \n",
    "  * pvalue = 0.67... \n",
    "    - 0.05보다 크기 때문에 귀무가설 170은 기각.\n",
    "  \n",
    "  * 만약 0.05 미만이여서 귀무가설이 채택이 되었다면, 대립가설을 위해 모은 표본 height_list는 진행을 할 수 있게 된다.\n",
    "  \n",
    "### # 해석(문장 형태로)\n",
    "  * 귀무가설에서 채택한 값은 170이다. 표본 값들은 height_list 변수(표본집단)에 넣었다. height_list를 t-검정을 통해 p-value 값을 확인했다. p-value가 0.05보다 크기 때문에 height_list 귀무가설 170은 기각. 이후 대립가설을 진행할 수 있게 되었다."
   ]
  },
  {
   "cell_type": "markdown",
   "id": "ca7ee785",
   "metadata": {},
   "source": [
    "### # 두집단간 평균비교"
   ]
  },
  {
   "cell_type": "code",
   "execution_count": 19,
   "id": "c04cb63c",
   "metadata": {},
   "outputs": [
    {
     "data": {
      "text/plain": [
       "Ttest_indResult(statistic=-1.8253194633881713, pvalue=0.07582039848129221)"
      ]
     },
     "execution_count": 19,
     "metadata": {},
     "output_type": "execute_result"
    }
   ],
   "source": [
    "group1Heights = numpy.array([162, 168, 169, 165, 166, 168,\n",
    "                            162, 172, 157, 173, 158, 169,\n",
    "                            164, 170, 163, 175, 177, 162,\n",
    "                            175, 177])\n",
    "\n",
    "group2Heights = numpy.array([180, 181, 163, 164, 174, 169,\n",
    "                            164, 172, 162, 171, 180, 168,\n",
    "                            164, 169, 178, 177, 167, 179,\n",
    "                            172, 169])\n",
    "\n",
    "# 두집단간 평균비교\n",
    "tTestResult = stats.ttest_ind(group1Heights, group2Heights)\n",
    "\n",
    "tTestResult"
   ]
  },
  {
   "cell_type": "markdown",
   "id": "0b6383f4",
   "metadata": {},
   "source": [
    "### # 대응되는 두 집단. 가중치 부여된 특정 집단과의 분석"
   ]
  },
  {
   "cell_type": "code",
   "execution_count": 22,
   "id": "7208440e",
   "metadata": {},
   "outputs": [
    {
     "data": {
      "text/plain": [
       "Ttest_relResult(statistic=2.748931032383186, pvalue=0.012764513003338501)"
      ]
     },
     "execution_count": 22,
     "metadata": {},
     "output_type": "execute_result"
    }
   ],
   "source": [
    "# 20개의 체중 데이터\n",
    "\n",
    "beforeWeights = numpy.array([80, 82, 76, 82, 65, 73, 77,\n",
    "                            78, 61, 81, 80, 70, 60, 83,\n",
    "                            89, 84, 85, 81, 67, 60])\n",
    "\n",
    "# 20개의 랜던값 생성\n",
    "\n",
    "temp_list = []\n",
    "\n",
    "for i in beforeWeights :\n",
    "    # 랜덤한 가중치 부여\n",
    "    temp_list.append( i * numpy.random.normal(0.99, 0.02) )\n",
    "    \n",
    "afterWeights = numpy.array(temp_list)\n",
    "\n",
    "tTestResult = stats.ttest_rel(beforeWeights, afterWeights)\n",
    "\n",
    "tTestResult"
   ]
  },
  {
   "cell_type": "code",
   "execution_count": null,
   "id": "df1a7dc9",
   "metadata": {},
   "outputs": [],
   "source": []
  }
 ],
 "metadata": {
  "kernelspec": {
   "display_name": "Python 3 (ipykernel)",
   "language": "python",
   "name": "python3"
  },
  "language_info": {
   "codemirror_mode": {
    "name": "ipython",
    "version": 3
   },
   "file_extension": ".py",
   "mimetype": "text/x-python",
   "name": "python",
   "nbconvert_exporter": "python",
   "pygments_lexer": "ipython3",
   "version": "3.9.7"
  }
 },
 "nbformat": 4,
 "nbformat_minor": 5
}
