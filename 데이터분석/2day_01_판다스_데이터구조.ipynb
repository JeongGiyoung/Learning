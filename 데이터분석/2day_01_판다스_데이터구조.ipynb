{
 "cells": [
  {
   "cell_type": "markdown",
   "id": "03b461cc",
   "metadata": {},
   "source": [
    "# 데이터 구조 파악"
   ]
  },
  {
   "cell_type": "markdown",
   "id": "c1769daf",
   "metadata": {},
   "source": [
    "## pandas 라이브러리 활용"
   ]
  },
  {
   "cell_type": "markdown",
   "id": "43c871c6",
   "metadata": {},
   "source": [
    "### # 라이브러리 불러들이기"
   ]
  },
  {
   "cell_type": "code",
   "execution_count": 3,
   "id": "c00e79ff",
   "metadata": {},
   "outputs": [],
   "source": [
    "import pandas as pd"
   ]
  },
  {
   "cell_type": "markdown",
   "id": "3d9d52a7",
   "metadata": {},
   "source": [
    "## [Series]"
   ]
  },
  {
   "cell_type": "markdown",
   "id": "e9d8a9be",
   "metadata": {},
   "source": [
    "### = pd.Series( , index = )\n",
    "시리즈 데이터 만들기"
   ]
  },
  {
   "cell_type": "code",
   "execution_count": 8,
   "id": "d5e93cb1",
   "metadata": {
    "scrolled": true
   },
   "outputs": [
    {
     "data": {
      "text/plain": [
       "00       Doc\n",
       "11       Cat\n",
       "22     Tiger\n",
       "33      Lion\n",
       "44    Monkey\n",
       "dtype: object"
      ]
     },
     "execution_count": 8,
     "metadata": {},
     "output_type": "execute_result"
    }
   ],
   "source": [
    "sd1 = pd.Series(['Doc', 'Cat', 'Tiger', 'Lion', 'Monkey'], \n",
    "               index = ['00','11','22','33','44'])\n",
    "\n",
    "sd1"
   ]
  },
  {
   "cell_type": "markdown",
   "id": "bce73c40",
   "metadata": {},
   "source": [
    "### # 딕셔너리 -> 시리즈"
   ]
  },
  {
   "cell_type": "markdown",
   "id": "70c829a5",
   "metadata": {},
   "source": [
    "### = { 'key' : value ... }\n",
    "딕셔너리 만들기"
   ]
  },
  {
   "cell_type": "code",
   "execution_count": 16,
   "id": "b1e1fc33",
   "metadata": {},
   "outputs": [
    {
     "data": {
      "text/plain": [
       "{'a': 1, 'b': 2, 'c': 3}"
      ]
     },
     "execution_count": 16,
     "metadata": {},
     "output_type": "execute_result"
    }
   ],
   "source": [
    "dict_data = {'a' : 1 , 'b' : 2, 'c' : 3}\n",
    "\n",
    "dict_data"
   ]
  },
  {
   "cell_type": "code",
   "execution_count": 19,
   "id": "12f219cb",
   "metadata": {},
   "outputs": [
    {
     "data": {
      "text/plain": [
       "2"
      ]
     },
     "execution_count": 19,
     "metadata": {},
     "output_type": "execute_result"
    }
   ],
   "source": [
    "dict_data['b']"
   ]
  },
  {
   "cell_type": "markdown",
   "id": "3c7431b2",
   "metadata": {},
   "source": [
    "### 딕셔너리를 시리즈로 만들면 key 값은 인덱스가 된다."
   ]
  },
  {
   "cell_type": "code",
   "execution_count": 22,
   "id": "9b0edfe2",
   "metadata": {},
   "outputs": [
    {
     "data": {
      "text/plain": [
       "a    1\n",
       "b    2\n",
       "c    3\n",
       "dtype: int64"
      ]
     },
     "execution_count": 22,
     "metadata": {},
     "output_type": "execute_result"
    }
   ],
   "source": [
    "sd2 = pd.Series(dict_data)\n",
    "\n",
    "sd2"
   ]
  },
  {
   "cell_type": "code",
   "execution_count": 23,
   "id": "bc1bad9a",
   "metadata": {},
   "outputs": [
    {
     "data": {
      "text/plain": [
       "pandas.core.series.Series"
      ]
     },
     "execution_count": 23,
     "metadata": {},
     "output_type": "execute_result"
    }
   ],
   "source": [
    "type(sd2)"
   ]
  },
  {
   "cell_type": "markdown",
   "id": "e2e1ff99",
   "metadata": {},
   "source": [
    "### # 리스트 -> 시리즈"
   ]
  },
  {
   "cell_type": "code",
   "execution_count": 24,
   "id": "bd2e2c85",
   "metadata": {},
   "outputs": [],
   "source": [
    "list_data = ['Dog', 'Cat', 'Tiger']"
   ]
  },
  {
   "cell_type": "code",
   "execution_count": 25,
   "id": "c2dfc7fa",
   "metadata": {},
   "outputs": [
    {
     "data": {
      "text/plain": [
       "0      Dog\n",
       "1      Cat\n",
       "2    Tiger\n",
       "dtype: object"
      ]
     },
     "execution_count": 25,
     "metadata": {},
     "output_type": "execute_result"
    }
   ],
   "source": [
    "sd3 = pd.Series(list_data)\n",
    "\n",
    "sd3"
   ]
  },
  {
   "cell_type": "code",
   "execution_count": 26,
   "id": "bd7ebd3f",
   "metadata": {},
   "outputs": [
    {
     "data": {
      "text/plain": [
       "pandas.core.series.Series"
      ]
     },
     "execution_count": 26,
     "metadata": {},
     "output_type": "execute_result"
    }
   ],
   "source": [
    "type(sd3)"
   ]
  },
  {
   "cell_type": "markdown",
   "id": "815ad9b0",
   "metadata": {},
   "source": [
    "### # 튜플 -> 시리즈"
   ]
  },
  {
   "cell_type": "code",
   "execution_count": 32,
   "id": "a4cb2116",
   "metadata": {},
   "outputs": [
    {
     "data": {
      "text/plain": [
       "('이순신', '1991-03-15', '남자')"
      ]
     },
     "execution_count": 32,
     "metadata": {},
     "output_type": "execute_result"
    }
   ],
   "source": [
    "# '이순신', '1991-03-15', '남자'\n",
    "# 위 데이터를 튜플로 만든다.\n",
    "\n",
    "tup = ('이순신', '1991-03-15', '남자')\n",
    "\n",
    "tup"
   ]
  },
  {
   "cell_type": "code",
   "execution_count": 33,
   "id": "42eeef81",
   "metadata": {},
   "outputs": [
    {
     "data": {
      "text/plain": [
       "tuple"
      ]
     },
     "execution_count": 33,
     "metadata": {},
     "output_type": "execute_result"
    }
   ],
   "source": [
    "type(tup)"
   ]
  },
  {
   "cell_type": "code",
   "execution_count": 36,
   "id": "f61414a0",
   "metadata": {},
   "outputs": [
    {
     "data": {
      "text/plain": [
       "이름             이순신\n",
       "생년원일    1991-03-15\n",
       "성별              남자\n",
       "dtype: object"
      ]
     },
     "execution_count": 36,
     "metadata": {},
     "output_type": "execute_result"
    }
   ],
   "source": [
    "col_name = [\"이름\", \"생년원일\", \"성별\"]\n",
    "\n",
    "sd4 = pd.Series(tup,\n",
    "               index = col_name)\n",
    "\n",
    "sd4"
   ]
  },
  {
   "cell_type": "code",
   "execution_count": 37,
   "id": "c249fe45",
   "metadata": {},
   "outputs": [
    {
     "data": {
      "text/plain": [
       "pandas.core.series.Series"
      ]
     },
     "execution_count": 37,
     "metadata": {},
     "output_type": "execute_result"
    }
   ],
   "source": [
    "type(sd4)"
   ]
  },
  {
   "cell_type": "markdown",
   "id": "135e258a",
   "metadata": {},
   "source": [
    "## [데이터프레임]"
   ]
  },
  {
   "cell_type": "markdown",
   "id": "a119a890",
   "metadata": {},
   "source": [
    "### # 딕셔너리 -> 데이터프레임"
   ]
  },
  {
   "cell_type": "code",
   "execution_count": 70,
   "id": "f23b62d0",
   "metadata": {},
   "outputs": [
    {
     "data": {
      "text/plain": [
       "{'동물': ['Dog', 'Cat', 'Tiger', 'Lion', 'Monkey'], '나이': [7, 9, 2, 3, 1]}"
      ]
     },
     "execution_count": 70,
     "metadata": {},
     "output_type": "execute_result"
    }
   ],
   "source": [
    "# 동물 : 'Dog', 'Cat', 'Tiger', 'Lion', 'Monkey'\n",
    "# 나이 : 7,9,2,3,1\n",
    "# 위에 동물과 나이를 하나의 딕셔너리로 만든다.\n",
    "\n",
    "dict_ani = {'동물' : ['Dog', 'Cat', 'Tiger', 'Lion', 'Monkey'],\n",
    "            '나이' : [7,9,2,3,1]}\n",
    "\n",
    "dict_ani"
   ]
  },
  {
   "cell_type": "code",
   "execution_count": 71,
   "id": "e66120ee",
   "metadata": {},
   "outputs": [
    {
     "data": {
      "text/plain": [
       "['Dog', 'Cat', 'Tiger', 'Lion', 'Monkey']"
      ]
     },
     "execution_count": 71,
     "metadata": {},
     "output_type": "execute_result"
    }
   ],
   "source": [
    "dict_ani['동물']"
   ]
  },
  {
   "cell_type": "markdown",
   "id": "1288cc39",
   "metadata": {},
   "source": [
    "### = pd.DataFrame()\n",
    "데이터프레임으로 만들기"
   ]
  },
  {
   "cell_type": "code",
   "execution_count": 49,
   "id": "a807d1c7",
   "metadata": {},
   "outputs": [
    {
     "data": {
      "text/html": [
       "<div>\n",
       "<style scoped>\n",
       "    .dataframe tbody tr th:only-of-type {\n",
       "        vertical-align: middle;\n",
       "    }\n",
       "\n",
       "    .dataframe tbody tr th {\n",
       "        vertical-align: top;\n",
       "    }\n",
       "\n",
       "    .dataframe thead th {\n",
       "        text-align: right;\n",
       "    }\n",
       "</style>\n",
       "<table border=\"1\" class=\"dataframe\">\n",
       "  <thead>\n",
       "    <tr style=\"text-align: right;\">\n",
       "      <th></th>\n",
       "      <th>동물</th>\n",
       "      <th>나이</th>\n",
       "    </tr>\n",
       "  </thead>\n",
       "  <tbody>\n",
       "    <tr>\n",
       "      <th>0</th>\n",
       "      <td>Dog</td>\n",
       "      <td>7</td>\n",
       "    </tr>\n",
       "    <tr>\n",
       "      <th>1</th>\n",
       "      <td>Cat</td>\n",
       "      <td>9</td>\n",
       "    </tr>\n",
       "    <tr>\n",
       "      <th>2</th>\n",
       "      <td>Tiger</td>\n",
       "      <td>2</td>\n",
       "    </tr>\n",
       "    <tr>\n",
       "      <th>3</th>\n",
       "      <td>Lion</td>\n",
       "      <td>3</td>\n",
       "    </tr>\n",
       "    <tr>\n",
       "      <th>4</th>\n",
       "      <td>Monkey</td>\n",
       "      <td>1</td>\n",
       "    </tr>\n",
       "  </tbody>\n",
       "</table>\n",
       "</div>"
      ],
      "text/plain": [
       "       동물  나이\n",
       "0     Dog   7\n",
       "1     Cat   9\n",
       "2   Tiger   2\n",
       "3    Lion   3\n",
       "4  Monkey   1"
      ]
     },
     "execution_count": 49,
     "metadata": {},
     "output_type": "execute_result"
    }
   ],
   "source": [
    "df1 = pd.DataFrame(dict_ani)\n",
    "\n",
    "df1"
   ]
  },
  {
   "cell_type": "code",
   "execution_count": 50,
   "id": "caba61a9",
   "metadata": {},
   "outputs": [
    {
     "data": {
      "text/plain": [
       "pandas.core.frame.DataFrame"
      ]
     },
     "execution_count": 50,
     "metadata": {},
     "output_type": "execute_result"
    }
   ],
   "source": [
    "type(df1)"
   ]
  },
  {
   "cell_type": "markdown",
   "id": "6693c787",
   "metadata": {},
   "source": [
    "### # 리스트 -> 데이터프레임"
   ]
  },
  {
   "cell_type": "code",
   "execution_count": 53,
   "id": "fc09d45d",
   "metadata": {},
   "outputs": [
    {
     "data": {
      "text/plain": [
       "[['Dog', 7], ['Cat', 9], ['Tiger', 2], ['Tiger', 3], ['Monkey', 1]]"
      ]
     },
     "execution_count": 53,
     "metadata": {},
     "output_type": "execute_result"
    }
   ],
   "source": [
    "# 2행 5열 리스트 만들기\n",
    "\n",
    "list_data = [['Dog', 7],\n",
    "             ['Cat', 9],\n",
    "             ['Tiger', 2],\n",
    "             ['Tiger', 3],\n",
    "             ['Monkey', 1]]\n",
    "list_data"
   ]
  },
  {
   "cell_type": "markdown",
   "id": "0b2fabf6",
   "metadata": {},
   "source": [
    "### # 데이터프레임으로 만들기"
   ]
  },
  {
   "cell_type": "code",
   "execution_count": 62,
   "id": "f847ac12",
   "metadata": {},
   "outputs": [
    {
     "name": "stdout",
     "output_type": "stream",
     "text": [
      "       동물  나이\n",
      "0     Dog   7\n",
      "1     Cat   9\n",
      "2   Tiger   2\n",
      "3   Tiger   3\n",
      "4  Monkey   1\n",
      "<class 'pandas.core.frame.DataFrame'>\n"
     ]
    }
   ],
   "source": [
    "df2 = pd.DataFrame(list_data, \n",
    "                  columns = ['동물', '나이'])\n",
    "\n",
    "print(df2)\n",
    "\n",
    "print(type(df2))"
   ]
  },
  {
   "cell_type": "markdown",
   "id": "a7c5ed57",
   "metadata": {},
   "source": [
    "### 변수.dtypes\n",
    "각 열의 데이터 타입 확인"
   ]
  },
  {
   "cell_type": "code",
   "execution_count": 72,
   "id": "24f74e5f",
   "metadata": {},
   "outputs": [
    {
     "data": {
      "text/plain": [
       "동물    object\n",
       "나이     int64\n",
       "dtype: object"
      ]
     },
     "execution_count": 72,
     "metadata": {},
     "output_type": "execute_result"
    }
   ],
   "source": [
    "df2.dtypes"
   ]
  },
  {
   "cell_type": "markdown",
   "id": "7a48d8ff",
   "metadata": {},
   "source": [
    "### # 비어있는 데이터프레임 만들기\n",
    "df_null = pd.DataFrame()"
   ]
  },
  {
   "cell_type": "code",
   "execution_count": 66,
   "id": "cf4bb62d",
   "metadata": {},
   "outputs": [
    {
     "data": {
      "text/html": [
       "<div>\n",
       "<style scoped>\n",
       "    .dataframe tbody tr th:only-of-type {\n",
       "        vertical-align: middle;\n",
       "    }\n",
       "\n",
       "    .dataframe tbody tr th {\n",
       "        vertical-align: top;\n",
       "    }\n",
       "\n",
       "    .dataframe thead th {\n",
       "        text-align: right;\n",
       "    }\n",
       "</style>\n",
       "<table border=\"1\" class=\"dataframe\">\n",
       "  <thead>\n",
       "    <tr style=\"text-align: right;\">\n",
       "      <th></th>\n",
       "    </tr>\n",
       "  </thead>\n",
       "  <tbody>\n",
       "  </tbody>\n",
       "</table>\n",
       "</div>"
      ],
      "text/plain": [
       "Empty DataFrame\n",
       "Columns: []\n",
       "Index: []"
      ]
     },
     "execution_count": 66,
     "metadata": {},
     "output_type": "execute_result"
    }
   ],
   "source": [
    "df_null = pd.DataFrame()\n",
    "\n",
    "df_null"
   ]
  },
  {
   "cell_type": "markdown",
   "id": "2a14b252",
   "metadata": {},
   "source": [
    "### # 컬럼(변수) 만들기\n",
    "df_null[\" \"] = \" \""
   ]
  },
  {
   "cell_type": "code",
   "execution_count": 68,
   "id": "d0bbd043",
   "metadata": {},
   "outputs": [
    {
     "data": {
      "text/html": [
       "<div>\n",
       "<style scoped>\n",
       "    .dataframe tbody tr th:only-of-type {\n",
       "        vertical-align: middle;\n",
       "    }\n",
       "\n",
       "    .dataframe tbody tr th {\n",
       "        vertical-align: top;\n",
       "    }\n",
       "\n",
       "    .dataframe thead th {\n",
       "        text-align: right;\n",
       "    }\n",
       "</style>\n",
       "<table border=\"1\" class=\"dataframe\">\n",
       "  <thead>\n",
       "    <tr style=\"text-align: right;\">\n",
       "      <th></th>\n",
       "      <th>동물</th>\n",
       "    </tr>\n",
       "  </thead>\n",
       "  <tbody>\n",
       "  </tbody>\n",
       "</table>\n",
       "</div>"
      ],
      "text/plain": [
       "Empty DataFrame\n",
       "Columns: [동물]\n",
       "Index: []"
      ]
     },
     "execution_count": 68,
     "metadata": {},
     "output_type": "execute_result"
    }
   ],
   "source": [
    "df_null[\"동물\"] = \"Dog\"\n",
    "\n",
    "df_null"
   ]
  }
 ],
 "metadata": {
  "kernelspec": {
   "display_name": "Python 3 (ipykernel)",
   "language": "python",
   "name": "python3"
  },
  "language_info": {
   "codemirror_mode": {
    "name": "ipython",
    "version": 3
   },
   "file_extension": ".py",
   "mimetype": "text/x-python",
   "name": "python",
   "nbconvert_exporter": "python",
   "pygments_lexer": "ipython3",
   "version": "3.9.7"
  }
 },
 "nbformat": 4,
 "nbformat_minor": 5
}
