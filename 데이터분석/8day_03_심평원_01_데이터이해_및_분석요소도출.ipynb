{
 "cells": [
  {
   "cell_type": "markdown",
   "id": "d16d53d5",
   "metadata": {},
   "source": [
    "# txt 파일 읽어 들이기"
   ]
  },
  {
   "cell_type": "code",
   "execution_count": 1,
   "id": "9a405ab6",
   "metadata": {},
   "outputs": [],
   "source": [
    "import pandas as pd"
   ]
  },
  {
   "cell_type": "code",
   "execution_count": 2,
   "id": "dd4d1d52",
   "metadata": {},
   "outputs": [],
   "source": [
    "# 20Table\n",
    "\n",
    "df_20TABLE = pd.read_csv(\"./files_org/SAMPLE_DB_20TABLE_2013.txt\",\n",
    "                         sep = \",\") # 쉼표로 구분한다.\n",
    "\n",
    "# 30Table\n",
    "\n",
    "df_30TABLE = pd.read_csv(\"./files_org/SAMPLE_DB_30TABLE_2013.txt\",\n",
    "                         sep = \",\") # 쉼표로 구분한다.\n",
    "\n",
    "# 40Table\n",
    "\n",
    "df_40TABLE = pd.read_csv(\"./files_org/SAMPLE_DB_40TABLE_2013.txt\",\n",
    "                         sep = \",\") # 쉼표로 구분한다.\n",
    "\n",
    "# 53Table\n",
    "\n",
    "df_53TABLE = pd.read_csv(\"./files_org/SAMPLE_DB_53TABLE_2013.txt\",\n",
    "                         sep = \",\") # 쉼표로 구분한다."
   ]
  },
  {
   "cell_type": "code",
   "execution_count": null,
   "id": "46688d0c",
   "metadata": {},
   "outputs": [],
   "source": [
    "df_20TABLE"
   ]
  },
  {
   "cell_type": "markdown",
   "id": "c4db5afe",
   "metadata": {},
   "source": [
    "## 컬럼명 일괄 변경\n",
    "  * 메타정의서에 있는 데이터랑 mapping"
   ]
  },
  {
   "cell_type": "markdown",
   "id": "7105dd39",
   "metadata": {},
   "source": [
    "### # 메타정의서에서 컬럼명 가지고 오기"
   ]
  },
  {
   "cell_type": "code",
   "execution_count": 14,
   "id": "0641ab2c",
   "metadata": {},
   "outputs": [],
   "source": [
    "df_20TABLE_col = pd.read_excel(\"./files_org/표본자료 변수 테이블(2012-2013).xlsx\",\n",
    "                              sheet_name = \"20table_명세서일반내역\", # 사용할 sheet 이름 지정\n",
    "                              usecols = \"A, D\") # 사용할 특정 열 지정\n",
    "\n",
    "df_30TABLE_col = pd.read_excel(\"./files_org/표본자료 변수 테이블(2012-2013).xlsx\",\n",
    "                              sheet_name = \"30table_진료내역\", # 사용할 sheet 이름 지정\n",
    "                              usecols = \"A, D\") # 사용할 특정 열 지정\n",
    "\n",
    "df_40TABLE_col = pd.read_excel(\"./files_org/표본자료 변수 테이블(2012-2013).xlsx\",\n",
    "                              sheet_name = \"40table_상병\", # 사용할 sheet 이름 지정\n",
    "                              usecols = \"A, D\") # 사용할 특정 열 지정\n",
    "\n",
    "df_53TABLE_col = pd.read_excel(\"./files_org/표본자료 변수 테이블(2012-2013).xlsx\",\n",
    "                              sheet_name = \"53table_처방전상세내역\", # 사용할 sheet 이름 지정\n",
    "                              usecols = \"A, D\") # 사용할 특정 열 지정"
   ]
  },
  {
   "cell_type": "markdown",
   "id": "77c14743",
   "metadata": {},
   "source": [
    "### # 데이터프레임 형태를 딕셔너리 형태로 변환"
   ]
  },
  {
   "cell_type": "code",
   "execution_count": null,
   "id": "f96b3030",
   "metadata": {},
   "outputs": [],
   "source": [
    "df_20TABLE_col.to_dict(\"records\")"
   ]
  },
  {
   "cell_type": "markdown",
   "id": "afea7965",
   "metadata": {},
   "source": [
    "### # 딕셔너리 형태로 전환한 데이터를 새로운 변수에 저장"
   ]
  },
  {
   "cell_type": "code",
   "execution_count": 165,
   "id": "45f4d626",
   "metadata": {},
   "outputs": [],
   "source": [
    "df_20TABLE_col_list = df_20TABLE_col.to_dict(\"records\")"
   ]
  },
  {
   "cell_type": "markdown",
   "id": "08cde0b3",
   "metadata": {},
   "source": [
    "### # 딕셔너리에 새로운 key 값과 value 값을 만드는 방법"
   ]
  },
  {
   "cell_type": "markdown",
   "id": "c0a8f5ed",
   "metadata": {},
   "source": [
    "1."
   ]
  },
  {
   "cell_type": "code",
   "execution_count": 166,
   "id": "165f0a3d",
   "metadata": {},
   "outputs": [],
   "source": [
    "d = dict(a=1, b=2, c=3)"
   ]
  },
  {
   "cell_type": "markdown",
   "id": "5ee3b82f",
   "metadata": {},
   "source": [
    "2."
   ]
  },
  {
   "cell_type": "code",
   "execution_count": 167,
   "id": "057901d5",
   "metadata": {},
   "outputs": [],
   "source": [
    "d = {}\n",
    "\n",
    "d[\"key1\"] = 3\n",
    "d[\"key2\"] = 4"
   ]
  },
  {
   "cell_type": "code",
   "execution_count": 168,
   "id": "5c565cde",
   "metadata": {},
   "outputs": [
    {
     "data": {
      "text/plain": [
       "{'key1': 3, 'key2': 4}"
      ]
     },
     "execution_count": 168,
     "metadata": {},
     "output_type": "execute_result"
    }
   ],
   "source": [
    "d"
   ]
  },
  {
   "cell_type": "markdown",
   "id": "0caa18c6",
   "metadata": {},
   "source": [
    "### # for문으로 자동화"
   ]
  },
  {
   "cell_type": "markdown",
   "id": "c35d98a4",
   "metadata": {},
   "source": [
    "#### 방법 1."
   ]
  },
  {
   "cell_type": "code",
   "execution_count": 169,
   "id": "c00b1477",
   "metadata": {},
   "outputs": [],
   "source": [
    "df_20TABLE_col_dict = {} # 새로운 딕셔너리 만들기\n",
    "\n",
    "\n",
    "for idx in range(0, len(df_20TABLE_col_list)) :\n",
    "    df_20TABLE_col_dict[df_20TABLE_col_list[idx][\"변수명\"]] = df_20TABLE_col_list[idx][\"표준한글컬럼명\"]"
   ]
  },
  {
   "cell_type": "markdown",
   "id": "0a99ee90",
   "metadata": {},
   "source": [
    "#### 방법 2."
   ]
  },
  {
   "cell_type": "code",
   "execution_count": 170,
   "id": "be6e8cb7",
   "metadata": {},
   "outputs": [],
   "source": [
    "new_dict_20 = {}\n",
    "\n",
    "for dict_kv in df_20TABLE_col_list :\n",
    "    new_dict_20[dict_kv[\"변수명\"]] = dict_kv[\"표준한글컬럼명\"]"
   ]
  },
  {
   "cell_type": "markdown",
   "id": "ac62df7c",
   "metadata": {},
   "source": [
    "### # rename 함수로 컬럼명 일괄 변경"
   ]
  },
  {
   "cell_type": "code",
   "execution_count": 171,
   "id": "363aa15a",
   "metadata": {},
   "outputs": [],
   "source": [
    "df_20TABLE_kor = df_20TABLE.rename(columns = new_dict_20)"
   ]
  },
  {
   "cell_type": "markdown",
   "id": "57c8db7f",
   "metadata": {},
   "source": [
    "### # 파일로 저장\n",
    "  * 인덱스 번호 새로 부여 하지 않기"
   ]
  },
  {
   "cell_type": "code",
   "execution_count": 175,
   "id": "fe0e3c11",
   "metadata": {},
   "outputs": [],
   "source": [
    "df_20TABLE_kor.to_excel(\"./files_new/df_20TABLE_kor_명세서일반내역.xlsx\",\n",
    "                        index = False)"
   ]
  },
  {
   "cell_type": "markdown",
   "id": "a0d87112",
   "metadata": {},
   "source": [
    "### # 나머지도 변경 및 저장"
   ]
  },
  {
   "cell_type": "code",
   "execution_count": 177,
   "id": "8695e459",
   "metadata": {},
   "outputs": [],
   "source": [
    "# 30TABLE \n",
    "\n",
    "df_30TABLE_col.to_dict(\"records\") #딕셔너리 형태로 전환\n",
    "\n",
    "df_30TABLE_col_list = df_30TABLE_col.to_dict(\"records\") # 딕셔너리 형태로 전환한 데이터를 새로운 변수에 저장\n",
    "\n",
    "new_dict_30 = {}\n",
    "\n",
    "for dict_kv in df_30TABLE_col_list :\n",
    "    new_dict_30[dict_kv[\"변수명\"]] = dict_kv[\"표준한글컬럼명\"] # for문으로 자동화\n",
    "\n",
    "df_30TABLE_kor = df_30TABLE.rename(columns = new_dict_30) # rename 함수로 컬럼명 일괄 변경\n",
    "\n",
    "# 40TABLE\n",
    "\n",
    "df_40TABLE_col.to_dict(\"records\") #딕셔너리 형태로 전환\n",
    "\n",
    "df_40TABLE_col_list = df_40TABLE_col.to_dict(\"records\") # 딕셔너리 형태로 전환한 데이터를 새로운 변수에 저장\n",
    "\n",
    "new_dict_40 = {}\n",
    "\n",
    "for dict_kv in df_40TABLE_col_list :\n",
    "    new_dict_40[dict_kv[\"변수명\"]] = dict_kv[\"표준한글컬럼명\"] # for문으로 자동화\n",
    "\n",
    "df_40TABLE_kor = df_40TABLE.rename(columns = new_dict_40) # rename 함수로 컬럼명 일괄 변경\n",
    "\n",
    "# 53TABLE\n",
    "\n",
    "df_53TABLE_col.to_dict(\"records\") #딕셔너리 형태로 전환\n",
    "\n",
    "df_53TABLE_col_list = df_53TABLE_col.to_dict(\"records\") # 딕셔너리 형태로 전환한 데이터를 새로운 변수에 저장\n",
    "\n",
    "new_dict_53 = {}\n",
    "\n",
    "for dict_kv in df_30TABLE_col_list :\n",
    "    new_dict_53[dict_kv[\"변수명\"]] = dict_kv[\"표준한글컬럼명\"] # for문으로 자동화\n",
    "\n",
    "df_53TABLE_kor = df_53TABLE.rename(columns = new_dict_53) # rename 함수로 컬럼명 일괄 변경\n",
    "\n",
    "# 파일로 저장\n",
    "\n",
    "df_30TABLE_kor.to_excel(\"./files_new/df_30TABLE_kor_진료내역.xlsx\", index = False)\n",
    "df_40TABLE_kor.to_excel(\"./files_new/df_40TABLE_kor_상병.xlsx\", index = False)\n",
    "df_53TABLE_kor.to_excel(\"./files_new/df_53TABLE_kor_처방전상세내역.xlsx\", index = False)"
   ]
  },
  {
   "cell_type": "markdown",
   "id": "bfc484b3",
   "metadata": {},
   "source": [
    "### # 위에 작업을 한 번에 할 수 있는 방법 찾기"
   ]
  },
  {
   "cell_type": "code",
   "execution_count": null,
   "id": "8792dddb",
   "metadata": {},
   "outputs": [],
   "source": [
    "df_30TABLE_col = pd.read_excel(\"./files_org/표본자료 변수 테이블(2012-2013).xlsx\",\n",
    "                              sheet_name = \"30table_진료내역\", # 사용할 sheet 이름 지정\n",
    "                              usecols = \"A, D\") # 사용할 특정 열 지정"
   ]
  },
  {
   "cell_type": "code",
   "execution_count": 207,
   "id": "49f93682",
   "metadata": {},
   "outputs": [],
   "source": [
    "number = (20,30,40,53)\n",
    "\n",
    "list = []\n",
    "\n",
    "name = []\n",
    "\n",
    "for num in number :\n",
    "    temp = \"df_{}TABLE_col\".format(num)\n",
    "    list.append(temp)\n",
    "    \n",
    "for file in list :\n",
    "    temp1 = file+\"_list\"\n",
    "    name.append(temp1)\n",
    "    \n",
    "for "
   ]
  },
  {
   "cell_type": "code",
   "execution_count": 208,
   "id": "7bbb997a",
   "metadata": {},
   "outputs": [
    {
     "data": {
      "text/plain": [
       "['df_20TABLE_col_list',\n",
       " 'df_30TABLE_col_list',\n",
       " 'df_40TABLE_col_list',\n",
       " 'df_53TABLE_col_list']"
      ]
     },
     "execution_count": 208,
     "metadata": {},
     "output_type": "execute_result"
    }
   ],
   "source": [
    "name"
   ]
  },
  {
   "cell_type": "code",
   "execution_count": 189,
   "id": "537a92b7",
   "metadata": {},
   "outputs": [],
   "source": [
    "df_30TABLE_col.to_dict(\"records\") #딕셔너리 형태로 전환\n",
    "\n",
    "df_30TABLE_col_list = df_30TABLE_col.to_dict(\"records\") # 딕셔너리 형태로 전환한 데이터를 새로운 변수에 저장\n",
    "\n",
    "new_dict_30 = {}\n",
    "\n",
    "\n",
    "\n",
    "for num in number :\n",
    "\n",
    "\n",
    "for dict_kv in df_30TABLE_col_list :\n",
    "    new_dict_30[dict_kv[\"변수명\"]] = dict_kv[\"표준한글컬럼명\"] # for문으로 자동화\n",
    "\n",
    "df_30TABLE_kor = df_30TABLE.rename(columns = new_dict_30) # rename 함수로 컬럼명 일괄 변경"
   ]
  },
  {
   "cell_type": "code",
   "execution_count": null,
   "id": "c02728eb",
   "metadata": {},
   "outputs": [],
   "source": [
    "df_30TABLE_col"
   ]
  }
 ],
 "metadata": {
  "kernelspec": {
   "display_name": "Python 3 (ipykernel)",
   "language": "python",
   "name": "python3"
  },
  "language_info": {
   "codemirror_mode": {
    "name": "ipython",
    "version": 3
   },
   "file_extension": ".py",
   "mimetype": "text/x-python",
   "name": "python",
   "nbconvert_exporter": "python",
   "pygments_lexer": "ipython3",
   "version": "3.9.7"
  }
 },
 "nbformat": 4,
 "nbformat_minor": 5
}
