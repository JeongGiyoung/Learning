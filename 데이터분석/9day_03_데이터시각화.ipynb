{
 "cells": [
  {
   "cell_type": "markdown",
   "id": "c90315e9",
   "metadata": {},
   "source": [
    "# 데이터 시각화 분석"
   ]
  },
  {
   "cell_type": "markdown",
   "id": "edee3d61",
   "metadata": {},
   "source": [
    "### # 월별, 연령대별 본인부담비용 시각화 분석"
   ]
  },
  {
   "cell_type": "code",
   "execution_count": 2,
   "id": "0eb3fef0",
   "metadata": {},
   "outputs": [],
   "source": [
    "import pandas as pd"
   ]
  },
  {
   "cell_type": "code",
   "execution_count": null,
   "id": "f87afea6",
   "metadata": {},
   "outputs": [],
   "source": [
    "df_month_age_any = pd.read_excel(\"./files_org/df_month_age_any_월별연령대별본인부담비용.xlsx\") \n",
    "\n",
    "df_month_age_any"
   ]
  },
  {
   "cell_type": "markdown",
   "id": "22e4e9dc",
   "metadata": {},
   "source": [
    "### # 시각화 라이브러리 "
   ]
  },
  {
   "cell_type": "code",
   "execution_count": 6,
   "id": "94aefcd2",
   "metadata": {},
   "outputs": [],
   "source": [
    "import matplotlib.pyplot as plt\n",
    "import seaborn as sns"
   ]
  },
  {
   "cell_type": "markdown",
   "id": "8f30d6a9",
   "metadata": {},
   "source": [
    "### # 월별로 병원을 많이 찾는 연령대 분석\n",
    "  * 피봇 테이블"
   ]
  },
  {
   "cell_type": "code",
   "execution_count": 17,
   "id": "2209202d",
   "metadata": {},
   "outputs": [],
   "source": [
    "pivot_month_age = df_month_age_any.pivot_table(values = \"수진자연령\",\n",
    "                            index = \"요양개시월\",\n",
    "                            columns = \"연령대\",\n",
    "                            aggfunc = \"count\")"
   ]
  },
  {
   "cell_type": "markdown",
   "id": "05d2727c",
   "metadata": {},
   "source": [
    "### # 피봇테이블에 NaN(결측치) 데이터가 보인다\n",
    "  * 평균값, 중간값, 0 중에 하나로 대체한다.\n",
    "  * 0으로 대체한다."
   ]
  },
  {
   "cell_type": "code",
   "execution_count": 20,
   "id": "164e4aa9",
   "metadata": {},
   "outputs": [],
   "source": [
    "pivot_month_age = pivot_month_age.fillna(0)"
   ]
  },
  {
   "cell_type": "code",
   "execution_count": null,
   "id": "5c5382e5",
   "metadata": {},
   "outputs": [],
   "source": [
    "pivot_month_age"
   ]
  },
  {
   "cell_type": "markdown",
   "id": "c0e37eb9",
   "metadata": {},
   "source": [
    "### # 선그래프"
   ]
  },
  {
   "cell_type": "code",
   "execution_count": null,
   "id": "673318c7",
   "metadata": {},
   "outputs": [],
   "source": [
    "'''\n",
    "rc가 붙은 함수는 이후에 이 설정을 유지하는 뜻\n",
    "  * plt.rc(\"font\", family = \"Malgun Gothic\", size = 10)\n",
    "'''\n",
    "\n",
    "# 그래프 크기 지정 (너비, 높이)\n",
    "plt.rcParams[\"figure.figsize\"] = (20, 10)\n",
    "\n",
    "# 선의 두께 지정\n",
    "plt.rcParams[\"lines.linewidth\"] = 2\n",
    "\n",
    "# 폰트 지정\n",
    "plt.rc(\"font\", family = \"Malgun Gothic\", size = 10)\n",
    "\n",
    "# 데이터 넣기\n",
    "pivot_month_age.plot()\n",
    "\n",
    "# y축 이름\n",
    "plt.ylabel(\"연령별 수진자수\")\n",
    "\n",
    "# x축 표시할 눈금 범위 지정\n",
    "plt.xticks([1,2,3,4,5,6,7,8,9,10,11,12])\n",
    "\n",
    "# 그래프 제목\n",
    "plt.title(\"연령 및 월별로 병원을 많이 찾는 연령대 분석\")\n",
    "\n",
    "# 그래프에 grid 선 그리기\n",
    "plt.grid(True)\n",
    "\n",
    "# 범례 표시\n",
    "plt.legend(loc=\"upper right\")\n",
    "\n",
    "# 그래프 출력\n",
    "plt.show()"
   ]
  },
  {
   "cell_type": "markdown",
   "id": "30ae09b7",
   "metadata": {},
   "source": [
    "### # 히트맵 그리기"
   ]
  },
  {
   "cell_type": "code",
   "execution_count": null,
   "id": "97cc7eef",
   "metadata": {},
   "outputs": [],
   "source": [
    "plt.figure(figsize = (16, 10)) # 그래프 크기 설정\n",
    "\n",
    "sns.heatmap(pivot_month_age, # 피봇 데이터 넣어서 그래프 그리기\n",
    "            annot = True, # True = 수치 표시, False = 수치 생략\n",
    "            fmt = \".0f\", # fmt=\".0f\" 옵션을 하면 소숫점 0자리, \"0.1f\"는 소숫점 1자리까지 표현.\n",
    "            cmap = \"rocket_r\") \n",
    "\n",
    "plt.title(\"연령 및 월별로 병원을 많이 찾는 연령대 분석\") # 타이틀 넣기\n",
    "          \n",
    "plt.show() # 보여주기"
   ]
  },
  {
   "cell_type": "markdown",
   "id": "d737c0fd",
   "metadata": {},
   "source": [
    "### # 월별 연령대별 본인부담금을 많이 내는 연령대 분석\n",
    "  * 결과에 대한 해석"
   ]
  },
  {
   "cell_type": "code",
   "execution_count": 26,
   "id": "6f8418e1",
   "metadata": {},
   "outputs": [
    {
     "data": {
      "text/html": [
       "<div>\n",
       "<style scoped>\n",
       "    .dataframe tbody tr th:only-of-type {\n",
       "        vertical-align: middle;\n",
       "    }\n",
       "\n",
       "    .dataframe tbody tr th {\n",
       "        vertical-align: top;\n",
       "    }\n",
       "\n",
       "    .dataframe thead th {\n",
       "        text-align: right;\n",
       "    }\n",
       "</style>\n",
       "<table border=\"1\" class=\"dataframe\">\n",
       "  <thead>\n",
       "    <tr style=\"text-align: right;\">\n",
       "      <th></th>\n",
       "      <th>수진자연령</th>\n",
       "      <th>요양개시일자</th>\n",
       "      <th>심결본인부담금</th>\n",
       "      <th>연령대</th>\n",
       "      <th>요양개시월</th>\n",
       "    </tr>\n",
       "  </thead>\n",
       "  <tbody>\n",
       "    <tr>\n",
       "      <th>0</th>\n",
       "      <td>3</td>\n",
       "      <td>20131211</td>\n",
       "      <td>2900</td>\n",
       "      <td>9세이하</td>\n",
       "      <td>12</td>\n",
       "    </tr>\n",
       "  </tbody>\n",
       "</table>\n",
       "</div>"
      ],
      "text/plain": [
       "   수진자연령    요양개시일자  심결본인부담금   연령대  요양개시월\n",
       "0      3  20131211     2900  9세이하     12"
      ]
     },
     "execution_count": 26,
     "metadata": {},
     "output_type": "execute_result"
    }
   ],
   "source": [
    "df_month_age_any.head(1)"
   ]
  },
  {
   "cell_type": "code",
   "execution_count": null,
   "id": "261d418a",
   "metadata": {},
   "outputs": [],
   "source": [
    "pivot_month_age_self = df_month_age_any.pivot_table(values = \"심결본인부담금\",\n",
    "                            index = \"요양개시월\",\n",
    "                            columns = \"연령대\",\n",
    "                            aggfunc = \"sum\") # 평균을 내면 인원수가 달라지기 때문에 수치에 왜곡이 있을 수 있다.\n",
    "\n",
    "pivot_month_age_self[\"90대\"] = pivot_month_age_self[\"90대\"].fillna(pivot_month_age_self[\"90대\"].mean())\n",
    "\n",
    "# 선그래프\n",
    "\n",
    "# 그래프 크기 지정 (너비, 높이)\n",
    "plt.rcParams[\"figure.figsize\"] = (20, 10)\n",
    "\n",
    "# 선의 두께 지정\n",
    "plt.rcParams[\"lines.linewidth\"] = 2\n",
    "\n",
    "# 폰트 지정\n",
    "plt.rc(\"font\", family = \"Malgun Gothic\", size = 10)\n",
    "\n",
    "# 데이터 넣기\n",
    "pivot_month_age_self.plot()\n",
    "\n",
    "# y축 이름\n",
    "plt.ylabel(\"연령별 수진자수\")\n",
    "\n",
    "# x축 표시할 눈금 범위 지정\n",
    "plt.xticks([1,2,3,4,5,6,7,8,9,10,11,12])\n",
    "\n",
    "# 그래프 제목\n",
    "plt.title(\"연령 및 월별로 병원을 많이 찾는 연령대 분석\")\n",
    "\n",
    "# 그래프에 grid 선 그리기\n",
    "plt.grid(True)\n",
    "\n",
    "# 범례 표시\n",
    "plt.legend(loc=\"upper right\")\n",
    "\n",
    "# 그래프 출력\n",
    "plt.show()\n",
    "\n",
    "\n",
    "# 히트맵\n",
    "plt.figure(figsize = (16, 10)) # 그래프 크기 설정\n",
    "\n",
    "sns.heatmap(pivot_month_age_self, # 피봇 데이터 넣어서 그래프 그리기\n",
    "            annot = True, # True = 수치 표시, False = 수치 생략\n",
    "            fmt = \".0f\", # fmt=\".0f\" 옵션을 하면 소숫점 0자리, \"0.1f\"는 소숫점 1자리까지 표현.\n",
    "            cmap = \"rocket_r\") \n",
    "\n",
    "plt.title(\"월별 연령대별 본인부담금을 많이 내는 연령대 분석\") # 타이틀 넣기\n",
    "          \n",
    "plt.show() # 보여주기"
   ]
  },
  {
   "cell_type": "markdown",
   "id": "621585d0",
   "metadata": {},
   "source": [
    "### # 해석\n",
    "  * 본인부담금을 가장 많이 내는 연령대는 60대, 70대, 50대, 40대 순이다.\n",
    "  * 50 ~ 70대는 10 ~ 12월에 본인부담금을 많이 내는 반면, 20대는 1월 ~ 3월, 40대는 8월과 12월에 많이 낸다.\n",
    "  * 10대에서 부터 서서히 본인부담은 많아지다가 60대에 최고치에 도달하고, 80대부터 본인부담금이 현저히 줄어든다."
   ]
  }
 ],
 "metadata": {
  "kernelspec": {
   "display_name": "Python 3 (ipykernel)",
   "language": "python",
   "name": "python3"
  },
  "language_info": {
   "codemirror_mode": {
    "name": "ipython",
    "version": 3
   },
   "file_extension": ".py",
   "mimetype": "text/x-python",
   "name": "python",
   "nbconvert_exporter": "python",
   "pygments_lexer": "ipython3",
   "version": "3.9.7"
  }
 },
 "nbformat": 4,
 "nbformat_minor": 5
}
