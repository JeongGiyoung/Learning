{
 "cells": [
  {
   "cell_type": "markdown",
   "id": "62c2f97d",
   "metadata": {},
   "source": [
    "# 데이터 전처리 및 가공\n",
    "  * 전처리(cleansing)\n",
    "    - 이상치, 결측치, 중복데이터"
   ]
  },
  {
   "cell_type": "markdown",
   "id": "4d2588e8",
   "metadata": {},
   "source": [
    "### # 파일 불러오기\n",
    "  * df_20TABLE_kor_명세서일반내역.xlsx"
   ]
  },
  {
   "cell_type": "code",
   "execution_count": 1,
   "id": "48e9b26e",
   "metadata": {},
   "outputs": [],
   "source": [
    "import pandas as pd"
   ]
  },
  {
   "cell_type": "code",
   "execution_count": 2,
   "id": "148e78a7",
   "metadata": {},
   "outputs": [],
   "source": [
    "# 20Table\n",
    "\n",
    "df_20TABLE_org = pd.read_excel(\"./files_org/df_20TABLE_kor_명세서일반내역.xlsx\")"
   ]
  },
  {
   "cell_type": "code",
   "execution_count": null,
   "id": "f6414ffe",
   "metadata": {},
   "outputs": [],
   "source": [
    "df_20TABLE_org"
   ]
  },
  {
   "cell_type": "markdown",
   "id": "031f5933",
   "metadata": {},
   "source": [
    "### # 위에 데이터를 가지고 유추할 수 있는 주제 선정하기\n",
    "  * 연령별 심결요양급여비용총액 대비 심결본인부담금 및 심결보험자부담금 비율\n",
    "  * 수진자 성별 비율\n",
    "  * 주된 상병 비율\n",
    "  * 전체 진료과목 비율\n",
    "  * 최초 요양 개시 평균 연령\n",
    "  * 요양 종료 평균 연령\n",
    "  * 평균 요양 기간(요양 종료 평균 연령 ~ 요양 개시 평균 연령)\n",
    "  * 요양 종료시 진료결과 비율\n",
    "  * ..."
   ]
  },
  {
   "cell_type": "markdown",
   "id": "3e220334",
   "metadata": {},
   "source": [
    "### # 여러 컬럼 한 번에 불러오기\n",
    "  * 수진자 연령, 요양개시 일자, 심결본인부담금"
   ]
  },
  {
   "cell_type": "code",
   "execution_count": null,
   "id": "5ced6995",
   "metadata": {},
   "outputs": [],
   "source": [
    "df_20TABLE_org[[\"수진자연령\", \"요양개시일자\", \"심결본인부담금\"]]"
   ]
  },
  {
   "cell_type": "markdown",
   "id": "1975b5c2",
   "metadata": {},
   "source": [
    "### # 데이터프레임 새로 만들기\n",
    "  * 데이터프레임 이름 : df_month_age"
   ]
  },
  {
   "cell_type": "markdown",
   "id": "df8646f3",
   "metadata": {},
   "source": [
    "방법 1 : 직접 만들기"
   ]
  },
  {
   "cell_type": "code",
   "execution_count": null,
   "id": "36e47b7f",
   "metadata": {},
   "outputs": [],
   "source": [
    "df_month_age = pd.DataFrame()\n",
    "\n",
    "df_month_age[\"수진자연령\"] = df_20TABLE_org[\"수진자연령\"]\n",
    "df_month_age[\"요양개시일자\"] = df_20TABLE_org[\"요양개시일자\"]\n",
    "df_month_age[\"심결본인부담금\"] = df_20TABLE_org[\"심결본인부담금\"]"
   ]
  },
  {
   "cell_type": "markdown",
   "id": "00071d12",
   "metadata": {},
   "source": [
    "방법 2 : 변수 만들어서 넣기"
   ]
  },
  {
   "cell_type": "code",
   "execution_count": 51,
   "id": "67195b84",
   "metadata": {},
   "outputs": [],
   "source": [
    "df_month_age = df_20TABLE_org[[\"수진자연령\", \"요양개시일자\", \"심결본인부담금\"]]"
   ]
  },
  {
   "cell_type": "markdown",
   "id": "f0f733f4",
   "metadata": {},
   "source": [
    "방법 3 : pd.DataFrame 함수 사용"
   ]
  },
  {
   "cell_type": "code",
   "execution_count": 11,
   "id": "4868f431",
   "metadata": {},
   "outputs": [],
   "source": [
    "df_month_age = pd.DataFrame(df_20TABLE_org, \n",
    "                            columns = [\"수진자연령\", \"요양개시일자\", \"심결본인부담금\"])"
   ]
  },
  {
   "cell_type": "markdown",
   "id": "1aef4665",
   "metadata": {},
   "source": [
    "### # 결측치 확인"
   ]
  },
  {
   "cell_type": "code",
   "execution_count": null,
   "id": "d99dc4b7",
   "metadata": {},
   "outputs": [],
   "source": [
    "df_month_age.info()"
   ]
  },
  {
   "cell_type": "markdown",
   "id": "254a3789",
   "metadata": {},
   "source": [
    "### # 연령대 나누기\n",
    "  * 9세 이하부터 10살 단위로 100세 이상까지로 \n",
    "  * 조건식 묶는 방법\n",
    "    - tips[(tips[\"sex\"] == 'Male') & (tips[\"smoker\"] == 'No')]"
   ]
  },
  {
   "cell_type": "code",
   "execution_count": 22,
   "id": "3f50bcaf",
   "metadata": {
    "collapsed": true
   },
   "outputs": [
    {
     "ename": "ValueError",
     "evalue": "The truth value of a Series is ambiguous. Use a.empty, a.bool(), a.item(), a.any() or a.all().",
     "output_type": "error",
     "traceback": [
      "\u001b[1;31m---------------------------------------------------------------------------\u001b[0m",
      "\u001b[1;31mValueError\u001b[0m                                Traceback (most recent call last)",
      "\u001b[1;32m~\\AppData\\Local\\Temp/ipykernel_1376/1171050675.py\u001b[0m in \u001b[0;36m<module>\u001b[1;34m\u001b[0m\n\u001b[0;32m      1\u001b[0m \u001b[0mdf_month_age\u001b[0m\u001b[1;33m[\u001b[0m\u001b[1;33m(\u001b[0m\u001b[0mdf_month_age\u001b[0m\u001b[1;33m[\u001b[0m\u001b[1;34m\"수진자연령\"\u001b[0m\u001b[1;33m]\u001b[0m \u001b[1;33m<\u001b[0m \u001b[1;36m10\u001b[0m\u001b[1;33m)\u001b[0m\u001b[1;33m]\u001b[0m\u001b[1;33m\u001b[0m\u001b[1;33m\u001b[0m\u001b[0m\n\u001b[1;32m----> 2\u001b[1;33m \u001b[0mdf_month_age\u001b[0m\u001b[1;33m[\u001b[0m\u001b[1;33m(\u001b[0m\u001b[0mdf_month_age\u001b[0m\u001b[1;33m[\u001b[0m\u001b[1;34m\"수진자연령\"\u001b[0m\u001b[1;33m]\u001b[0m \u001b[1;33m>=\u001b[0m \u001b[1;36m10\u001b[0m \u001b[1;33m&\u001b[0m \u001b[0mdf_month_age\u001b[0m\u001b[1;33m[\u001b[0m\u001b[1;34m\"수진자연령\"\u001b[0m\u001b[1;33m]\u001b[0m \u001b[1;33m<\u001b[0m \u001b[1;36m20\u001b[0m\u001b[1;33m)\u001b[0m\u001b[1;33m]\u001b[0m\u001b[1;33m\u001b[0m\u001b[1;33m\u001b[0m\u001b[0m\n\u001b[0m\u001b[0;32m      3\u001b[0m \u001b[0mdf_month_age\u001b[0m\u001b[1;33m[\u001b[0m\u001b[1;33m(\u001b[0m\u001b[0mdf_month_age\u001b[0m\u001b[1;33m[\u001b[0m\u001b[1;34m\"수진자연령\"\u001b[0m\u001b[1;33m]\u001b[0m \u001b[1;33m>=\u001b[0m \u001b[1;36m20\u001b[0m \u001b[1;33m&\u001b[0m \u001b[0mdf_month_age\u001b[0m\u001b[1;33m[\u001b[0m\u001b[1;34m\"수진자연령\"\u001b[0m\u001b[1;33m]\u001b[0m \u001b[1;33m<\u001b[0m \u001b[1;36m30\u001b[0m\u001b[1;33m)\u001b[0m\u001b[1;33m]\u001b[0m\u001b[1;33m\u001b[0m\u001b[1;33m\u001b[0m\u001b[0m\n\u001b[0;32m      4\u001b[0m \u001b[0mdf_month_age\u001b[0m\u001b[1;33m[\u001b[0m\u001b[1;33m(\u001b[0m\u001b[0mdf_month_age\u001b[0m\u001b[1;33m[\u001b[0m\u001b[1;34m\"수진자연령\"\u001b[0m\u001b[1;33m]\u001b[0m \u001b[1;33m>=\u001b[0m \u001b[1;36m30\u001b[0m \u001b[1;33m&\u001b[0m \u001b[0mdf_month_age\u001b[0m\u001b[1;33m[\u001b[0m\u001b[1;34m\"수진자연령\"\u001b[0m\u001b[1;33m]\u001b[0m \u001b[1;33m<\u001b[0m \u001b[1;36m40\u001b[0m\u001b[1;33m)\u001b[0m\u001b[1;33m]\u001b[0m\u001b[1;33m\u001b[0m\u001b[1;33m\u001b[0m\u001b[0m\n\u001b[0;32m      5\u001b[0m \u001b[0mdf_month_age\u001b[0m\u001b[1;33m[\u001b[0m\u001b[1;33m(\u001b[0m\u001b[0mdf_month_age\u001b[0m\u001b[1;33m[\u001b[0m\u001b[1;34m\"수진자연령\"\u001b[0m\u001b[1;33m]\u001b[0m \u001b[1;33m>=\u001b[0m \u001b[1;36m40\u001b[0m \u001b[1;33m&\u001b[0m \u001b[0mdf_month_age\u001b[0m\u001b[1;33m[\u001b[0m\u001b[1;34m\"수진자연령\"\u001b[0m\u001b[1;33m]\u001b[0m \u001b[1;33m<\u001b[0m \u001b[1;36m50\u001b[0m\u001b[1;33m)\u001b[0m\u001b[1;33m]\u001b[0m\u001b[1;33m\u001b[0m\u001b[1;33m\u001b[0m\u001b[0m\n",
      "\u001b[1;32m~\\anaconda3\\lib\\site-packages\\pandas\\core\\generic.py\u001b[0m in \u001b[0;36m__nonzero__\u001b[1;34m(self)\u001b[0m\n\u001b[0;32m   1535\u001b[0m     \u001b[1;33m@\u001b[0m\u001b[0mfinal\u001b[0m\u001b[1;33m\u001b[0m\u001b[1;33m\u001b[0m\u001b[0m\n\u001b[0;32m   1536\u001b[0m     \u001b[1;32mdef\u001b[0m \u001b[0m__nonzero__\u001b[0m\u001b[1;33m(\u001b[0m\u001b[0mself\u001b[0m\u001b[1;33m)\u001b[0m\u001b[1;33m:\u001b[0m\u001b[1;33m\u001b[0m\u001b[1;33m\u001b[0m\u001b[0m\n\u001b[1;32m-> 1537\u001b[1;33m         raise ValueError(\n\u001b[0m\u001b[0;32m   1538\u001b[0m             \u001b[1;34mf\"The truth value of a {type(self).__name__} is ambiguous. \"\u001b[0m\u001b[1;33m\u001b[0m\u001b[1;33m\u001b[0m\u001b[0m\n\u001b[0;32m   1539\u001b[0m             \u001b[1;34m\"Use a.empty, a.bool(), a.item(), a.any() or a.all().\"\u001b[0m\u001b[1;33m\u001b[0m\u001b[1;33m\u001b[0m\u001b[0m\n",
      "\u001b[1;31mValueError\u001b[0m: The truth value of a Series is ambiguous. Use a.empty, a.bool(), a.item(), a.any() or a.all()."
     ]
    }
   ],
   "source": [
    "df_month_age[(df_month_age[\"수진자연령\"] < 10)]\n",
    "df_month_age[(df_month_age[\"수진자연령\"] >= 10) & (df_month_age[\"수진자연령\"] < 20)]\n",
    "df_month_age[(df_month_age[\"수진자연령\"] >= 20) & (df_month_age[\"수진자연령\"] < 30)]\n",
    "df_month_age[(df_month_age[\"수진자연령\"] >= 30) & (df_month_age[\"수진자연령\"] < 40)]\n",
    "df_month_age[(df_month_age[\"수진자연령\"] >= 40) & (df_month_age[\"수진자연령\"] < 50)]\n",
    "df_month_age[(df_month_age[\"수진자연령\"] >= 50) & (df_month_age[\"수진자연령\"] < 60)]\n",
    "df_month_age[(df_month_age[\"수진자연령\"] >= 60) & (df_month_age[\"수진자연령\"] < 70)]\n",
    "df_month_age[(df_month_age[\"수진자연령\"] >= 70) & (df_month_age[\"수진자연령\"] < 80)]\n",
    "df_month_age[(df_month_age[\"수진자연령\"] >= 80) & (df_month_age[\"수진자연령\"] < 90)]\n",
    "df_month_age[(df_month_age[\"수진자연령\"] >= 90) & (df_month_age[\"수진자연령\"] < 100)]\n",
    "df_month_age[(df_month_age[\"수진자연령\"] >= 100)]"
   ]
  },
  {
   "cell_type": "markdown",
   "id": "78408c89",
   "metadata": {},
   "source": [
    "### # 9세 이하 만들기"
   ]
  },
  {
   "cell_type": "code",
   "execution_count": null,
   "id": "f52b9b80",
   "metadata": {},
   "outputs": [],
   "source": [
    "df_9under = df_month_age[(df_month_age[\"수진자연령\"] < 10)] \n",
    "\n",
    "# 인덱스 재배열\n",
    "df_9under = df_9under.reset_index(drop=True)\n",
    "\n",
    "# \"연령대\" 컬럼 추가 후 값은 모두 \"9세이하\" 넣기\n",
    "\n",
    "df_9under[\"연령대\"] = \"9세이하\"\n",
    "\n",
    "\n",
    "# ------\n",
    "df_9under.head()"
   ]
  },
  {
   "cell_type": "markdown",
   "id": "f0bfb28f",
   "metadata": {},
   "source": [
    "### # 20대~ 90대까지 만들기\n",
    "  * 컬럼값 : 10대, 20대 ... 90대\n",
    "  * 변수명 : df_10, df_20 ... df_90"
   ]
  },
  {
   "cell_type": "code",
   "execution_count": 83,
   "id": "f92e5ce1",
   "metadata": {},
   "outputs": [],
   "source": [
    "# 10대\n",
    "df_10 = df_month_age[(df_month_age[\"수진자연령\"] >= 10) & (df_month_age[\"수진자연령\"] < 20)]\n",
    "\n",
    "# 인덱스 재배열\n",
    "df_10 = df_10.reset_index(drop=True)\n",
    "\n",
    "# \"연령대\" 컬럼 추가 후 값 넣기\n",
    "df_10[\"연령대\"] = \"10대\"\n",
    "\n",
    "# -----\n",
    "\n",
    "# 20대\n",
    "df_20 = df_month_age[(df_month_age[\"수진자연령\"] >= 20) & (df_month_age[\"수진자연령\"] < 30)]\n",
    "\n",
    "# 인덱스 재배열\n",
    "df_20 = df_20.reset_index(drop=True)\n",
    "\n",
    "# \"연령대\" 컬럼 추가 후 값넣기\n",
    "df_20[\"연령대\"] = \"20대\"\n",
    "\n",
    "# -----\n",
    "\n",
    "# 30대\n",
    "df_30 = df_month_age[(df_month_age[\"수진자연령\"] >= 30) & (df_month_age[\"수진자연령\"] < 40)]\n",
    "\n",
    "# 인덱스 재배열\n",
    "df_30 = df_30.reset_index(drop=True)\n",
    "\n",
    "# \"연령대\" 컬럼 추가 후 값넣기\n",
    "df_30[\"연령대\"] = \"30대\"\n",
    "\n",
    "# -----\n",
    "\n",
    "# 40대\n",
    "df_40 = df_month_age[(df_month_age[\"수진자연령\"] >= 40) & (df_month_age[\"수진자연령\"] < 50)]\n",
    "\n",
    "# 인덱스 재배열\n",
    "df_40 = df_40.reset_index(drop=True)\n",
    "\n",
    "# \"연령대\" 컬럼 추가 후 값넣기\n",
    "df_40[\"연령대\"] = \"40대\"\n",
    "\n",
    "# -----\n",
    "\n",
    "# 50대\n",
    "df_50 = df_month_age[(df_month_age[\"수진자연령\"] >= 50) & (df_month_age[\"수진자연령\"] < 60)]\n",
    "\n",
    "# 인덱스 재배열\n",
    "df_50 = df_50.reset_index(drop=True)\n",
    "\n",
    "# \"연령대\" 컬럼 추가 후 값넣기\n",
    "df_50[\"연령대\"] = \"50대\"\n",
    "\n",
    "# -----\n",
    "\n",
    "# 60대\n",
    "df_60 = df_month_age[(df_month_age[\"수진자연령\"] >= 60) & (df_month_age[\"수진자연령\"] < 70)]\n",
    "\n",
    "# 인덱스 재배열\n",
    "df_60 = df_60.reset_index(drop=True)\n",
    "\n",
    "# \"연령대\" 컬럼 추가 후 값넣기\n",
    "df_60[\"연령대\"] = \"60대\"\n",
    "\n",
    "# -----\n",
    "\n",
    "# 70대\n",
    "df_70 = df_month_age[(df_month_age[\"수진자연령\"] >= 70) & (df_month_age[\"수진자연령\"] < 80)]\n",
    "\n",
    "# 인덱스 재배열\n",
    "df_70 = df_70.reset_index(drop=True)\n",
    "\n",
    "# \"연령대\" 컬럼 추가 후 값넣기\n",
    "df_70[\"연령대\"] = \"70대\"\n",
    "\n",
    "# -----\n",
    "\n",
    "# 80대\n",
    "df_80 = df_month_age[(df_month_age[\"수진자연령\"] >= 80) & (df_month_age[\"수진자연령\"] < 90)]\n",
    "\n",
    "# 인덱스 재배열\n",
    "df_80 = df_80.reset_index(drop=True)\n",
    "\n",
    "# \"연령대\" 컬럼 추가 후 값넣기\n",
    "df_80[\"연령대\"] = \"80대\"\n",
    "\n",
    "# -----\n",
    "\n",
    "# 90대\n",
    "df_90 = df_month_age[(df_month_age[\"수진자연령\"] >= 90) & (df_month_age[\"수진자연령\"] < 100)]\n",
    "\n",
    "# 인덱스 재배열\n",
    "df_90 = df_90.reset_index(drop=True)\n",
    "\n",
    "# \"연령대\" 컬럼 추가 후 값넣기\n",
    "df_90[\"연령대\"] = \"90대\"\n",
    "\n",
    "# -----\n",
    "\n",
    "# 100세 이상\n",
    "df_100over = df_month_age[(df_month_age[\"수진자연령\"] >= 100)]\n",
    "\n",
    "# 인덱스 재배열\n",
    "df_100over = df_100over.reset_index(drop=True)\n",
    "\n",
    "# \"연령대\" 컬럼 추가 후 값넣기\n",
    "df_100over[\"연령대\"] = \"100세이상\""
   ]
  },
  {
   "cell_type": "markdown",
   "id": "63f4746a",
   "metadata": {},
   "source": [
    "### #  변수들 합치기\n",
    "  * 새 변수명 : df_month_age_any\n",
    "  * df_9under ~ df_90 까지 모두 행단위로 추가\n",
    "  * 인덱스 reset"
   ]
  },
  {
   "cell_type": "markdown",
   "id": "62d1a129",
   "metadata": {},
   "source": [
    "방법 1. concat 사용"
   ]
  },
  {
   "cell_type": "code",
   "execution_count": null,
   "id": "1412ae52",
   "metadata": {},
   "outputs": [],
   "source": [
    "df_month_age_any = pd.concat([df_9under,\n",
    "                              df_10,\n",
    "                              df_20,\n",
    "                              df_30,\n",
    "                              df_40,\n",
    "                              df_50,\n",
    "                              df_60,\n",
    "                              df_70,\n",
    "                              df_80,\n",
    "                              df_90,\n",
    "                              df_100over], axis = 0)\n",
    "\n",
    "df_month_age_any = df_month_age_any.reset_index(drop = True)\n",
    "\n",
    "df_month_age_any"
   ]
  },
  {
   "cell_type": "markdown",
   "id": "468c1e69",
   "metadata": {},
   "source": [
    "방법 2. append 사용"
   ]
  },
  {
   "cell_type": "code",
   "execution_count": 49,
   "id": "ab7db4c3",
   "metadata": {},
   "outputs": [],
   "source": [
    "df_month_age_any1 = pd.DataFrame()\n",
    "\n",
    "df_month_age_any1 = df_month_age_any1.append([df_9under,\n",
    "                              df_10,\n",
    "                              df_20,\n",
    "                              df_30,\n",
    "                              df_40,\n",
    "                              df_50,\n",
    "                              df_60,\n",
    "                              df_70,\n",
    "                              df_80,\n",
    "                              df_90,\n",
    "                              df_100over])\n",
    "\n",
    "df_month_age_any1 = df_month_age_any1.reset_index(drop = True)\n",
    "\n",
    "df_month_age_any1"
   ]
  },
  {
   "cell_type": "markdown",
   "id": "71df151c",
   "metadata": {},
   "source": [
    "### # 위에 작업 코드 줄여보기"
   ]
  },
  {
   "cell_type": "code",
   "execution_count": null,
   "id": "5d05d75c",
   "metadata": {},
   "outputs": [],
   "source": [
    "df = pd.DataFrame()\n",
    "\n",
    "# 9세 이하\n",
    "df = df_month_age[(df_month_age[\"수진자연령\"] < 10)] \n",
    "df[\"연령대\"] = \"9세이하\"\n",
    "\n",
    "# 10대 ~ 90대 자동화\n",
    "for i in range(10,91,10) :\n",
    "    temp = df_month_age[(df_month_age[\"수진자연령\"] >= i) & (df_month_age[\"수진자연령\"] < i+10)]\n",
    "    temp[\"연령대\"] = \"{}대\".format(i)\n",
    "    df = df.append(temp, ignore_index = True)\n",
    "\n",
    "# 100세 이상\n",
    "df_100over = df_month_age[(df_month_age[\"수진자연령\"] >= 100)]\n",
    "df_100over[\"연령대\"] = \"100세이상\"\n",
    "df = df.append(df_100over, ignore_index = True)\n",
    "\n",
    "# 전체 인덱스 재배열\n",
    "df = df.reset_index(drop = True)\n",
    "\n",
    "df"
   ]
  },
  {
   "cell_type": "markdown",
   "id": "6d8858c8",
   "metadata": {},
   "source": [
    "# 요양개시일자 처리"
   ]
  },
  {
   "cell_type": "markdown",
   "id": "1000d0b0",
   "metadata": {},
   "source": [
    "### # 요양개시일자에서 월만 추출\n",
    "  * 값을 문자열로 변환\n",
    "    - slice는 문자열만 사용 가능"
   ]
  },
  {
   "cell_type": "markdown",
   "id": "f86c98a4",
   "metadata": {},
   "source": [
    "현재 요양개시일자 컬럼은 정수 type이기 때문에 slice 함수를 사용할 수 없다.\n",
    "  * "
   ]
  },
  {
   "cell_type": "code",
   "execution_count": null,
   "id": "a3ced60a",
   "metadata": {},
   "outputs": [],
   "source": [
    "df_month_age_any.info()"
   ]
  },
  {
   "cell_type": "markdown",
   "id": "d4e0efeb",
   "metadata": {},
   "source": [
    "### # apply(str), 혹은 astype(str) 함수 이용"
   ]
  },
  {
   "cell_type": "code",
   "execution_count": 121,
   "id": "e4be9275",
   "metadata": {},
   "outputs": [],
   "source": [
    "df_month_age_any[\"요양개시일자\"] = df_month_age_any[\"요양개시일자\"].astype(str)\n",
    "# df_month_age_any[\"요양개시일자\"] = df_month_age_any[\"요양개시일자\"].apply(str)"
   ]
  },
  {
   "cell_type": "markdown",
   "id": "8a930b1a",
   "metadata": {},
   "source": [
    "방법 1 : 문자열 타입을 글자 단위로 추출\n",
    "  * str[ : ]"
   ]
  },
  {
   "cell_type": "code",
   "execution_count": null,
   "id": "f2d67005",
   "metadata": {},
   "outputs": [],
   "source": [
    "df_month_age_any[\"요양개시월\"] = df_month_age_any[\"요양개시일자\"].str[4:6]\n",
    "\n",
    "df_month_age_any"
   ]
  },
  {
   "cell_type": "markdown",
   "id": "3737567b",
   "metadata": {},
   "source": [
    "방법 2 : slice 함수 사용"
   ]
  },
  {
   "cell_type": "code",
   "execution_count": null,
   "id": "3c154095",
   "metadata": {},
   "outputs": [],
   "source": [
    "df_month_age_any[\"요양개시월\"] = df_month_age_any[\"요양개시일자\"].str.slice(4, 6)\n",
    "\n",
    "df_month_age_any"
   ]
  },
  {
   "cell_type": "markdown",
   "id": "4dae5c07",
   "metadata": {},
   "source": [
    "### # 파일로 저장"
   ]
  },
  {
   "cell_type": "code",
   "execution_count": 126,
   "id": "bf715089",
   "metadata": {},
   "outputs": [],
   "source": [
    "df_month_age_any.to_excel(\"./files_org/df_month_age_any_월별연령대별본인부담비용.xlsx\", index = False)"
   ]
  }
 ],
 "metadata": {
  "kernelspec": {
   "display_name": "Python 3 (ipykernel)",
   "language": "python",
   "name": "python3"
  },
  "language_info": {
   "codemirror_mode": {
    "name": "ipython",
    "version": 3
   },
   "file_extension": ".py",
   "mimetype": "text/x-python",
   "name": "python",
   "nbconvert_exporter": "python",
   "pygments_lexer": "ipython3",
   "version": "3.9.7"
  }
 },
 "nbformat": 4,
 "nbformat_minor": 5
}
