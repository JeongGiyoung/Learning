{
 "cells": [
  {
   "cell_type": "code",
   "execution_count": 1,
   "id": "ff1fc14d",
   "metadata": {},
   "outputs": [],
   "source": [
    "from bs4 import BeautifulSoup\n",
    "from selenium import webdriver\n",
    "import time"
   ]
  },
  {
   "cell_type": "code",
   "execution_count": 2,
   "id": "90a7c508",
   "metadata": {},
   "outputs": [],
   "source": [
    "import cv2\n",
    "import numpy as np\n",
    "import requests"
   ]
  },
  {
   "cell_type": "code",
   "execution_count": 3,
   "id": "3f4f73d3",
   "metadata": {
    "scrolled": true
   },
   "outputs": [
    {
     "name": "stderr",
     "output_type": "stream",
     "text": [
      "C:\\Users\\admin\\AppData\\Local\\Temp\\ipykernel_10968\\420471950.py:5: DeprecationWarning: executable_path has been deprecated, please pass in a Service object\n",
      "  driver = webdriver.Chrome(\"C:/Users/admin/Desktop/chromedriver_win32/chromedriver.exe\")\n"
     ]
    },
    {
     "name": "stdout",
     "output_type": "stream",
     "text": [
      "39,000원\n",
      "36,570원\n",
      "89,000원\n",
      "31,600원\n",
      "25,900원\n",
      "54,900원\n",
      "12,800원\n",
      "28,900원\n",
      "13,900원\n",
      "11,000원\n",
      "23,000원\n",
      "6,960원\n",
      "28,000원\n",
      "12,000원\n",
      "28,000원\n",
      "46,000원\n",
      "9,700원\n",
      "8,500원\n",
      "22,000원\n",
      "8,900원\n",
      "5,900원\n",
      "27,200원\n",
      "12,900원\n",
      "20,000원\n",
      "80,000원\n"
     ]
    }
   ],
   "source": [
    "search_list = []\n",
    "search_list_src = []\n",
    "search_list_price = []\n",
    "\n",
    "driver = webdriver.Chrome(\"C:/Users/admin/Desktop/chromedriver_win32/chromedriver.exe\")\n",
    "\n",
    "# 3초 기다려주기, 웹페이지 로딩까지\n",
    "driver.implicitly_wait(3)\n",
    "\n",
    "# 드라이버 실행\n",
    "driver.get(\"https://search.shopping.naver.com/search/all?query=\" + '곰인형')\n",
    "\n",
    "y = 2\n",
    "for timer in range(0, 5):\n",
    "    driver.execute_script(\"window.scrollTo(0, \" + str(y) + \")\")\n",
    "    y = y + 1000\n",
    "    time.sleep(1)\n",
    "\n",
    "soup = BeautifulSoup(driver.page_source, 'html.parser')\n",
    "\n",
    "select = \"#__next > div > div.style_container__1YjHN > div.style_inner__18zZX > div.style_content_wrap__1PzEo > div.style_content__2T20F > ul > div\"\n",
    "\n",
    "\n",
    "for i in soup.select(select)[0].find_all(\"div\", class_='basicList_title__3P9Q7') :\n",
    "    search_list.append(i.text)\n",
    "\n",
    "for i in soup.select(select)[0].find_all(\"div\", class_ = 'thumbnail_thumb_wrap__1pEkS _wrapper'):\n",
    "    tmp = i.find_all(\"img\")\n",
    "    for index in tmp :\n",
    "        search_list_src.append(index['src'])\n",
    "\n",
    "for i in soup.select(select)[0].find_all(\"span\", class_='price_num__2WUXn'):\n",
    "    print(i.text)\n",
    "    search_list_price.append(i.text)"
   ]
  },
  {
   "cell_type": "code",
   "execution_count": 4,
   "id": "2421cf3a",
   "metadata": {},
   "outputs": [
    {
     "data": {
      "text/plain": [
       "[]"
      ]
     },
     "execution_count": 4,
     "metadata": {},
     "output_type": "execute_result"
    }
   ],
   "source": [
    "tmp"
   ]
  },
  {
   "cell_type": "code",
   "execution_count": 6,
   "id": "5d7cd4a1",
   "metadata": {},
   "outputs": [
    {
     "name": "stdout",
     "output_type": "stream",
     "text": [
      "(140, 140, 3)\n",
      "(140, 140, 3)\n",
      "(140, 140, 3)\n",
      "(140, 140, 3)\n",
      "(140, 140, 3)\n",
      "(140, 140, 3)\n",
      "(140, 140, 3)\n",
      "(140, 140, 3)\n",
      "(140, 140, 3)\n",
      "(140, 140, 3)\n",
      "(140, 140, 3)\n",
      "(140, 140, 3)\n",
      "(140, 140, 3)\n",
      "(140, 140, 3)\n",
      "(140, 140, 3)\n",
      "(140, 140, 3)\n",
      "(140, 140, 3)\n",
      "(140, 140, 3)\n",
      "(140, 140, 3)\n",
      "(140, 140, 3)\n",
      "(140, 140, 3)\n",
      "(140, 140, 3)\n"
     ]
    }
   ],
   "source": [
    "for index in search_list_src :\n",
    "\n",
    "    image_nparray = np.asarray(bytearray(requests.get(index).content), dtype=np.uint8)\n",
    "\n",
    "    image = cv2.imdecode(image_nparray, cv2.IMREAD_COLOR)\n",
    "\n",
    "    print(image.shape)\n",
    "\n",
    "    cv2.imshow('Image from url', image)\n",
    "    cv2.waitKey(0)\n",
    "\n",
    "cv2.destroyAllWindows() "
   ]
  },
  {
   "cell_type": "code",
   "execution_count": null,
   "id": "553d0874",
   "metadata": {},
   "outputs": [],
   "source": []
  }
 ],
 "metadata": {
  "kernelspec": {
   "display_name": "Python 3 (ipykernel)",
   "language": "python",
   "name": "python3"
  },
  "language_info": {
   "codemirror_mode": {
    "name": "ipython",
    "version": 3
   },
   "file_extension": ".py",
   "mimetype": "text/x-python",
   "name": "python",
   "nbconvert_exporter": "python",
   "pygments_lexer": "ipython3",
   "version": "3.8.13"
  }
 },
 "nbformat": 4,
 "nbformat_minor": 5
}
