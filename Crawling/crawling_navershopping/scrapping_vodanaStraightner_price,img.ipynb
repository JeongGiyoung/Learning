{
 "cells": [
  {
   "cell_type": "code",
   "execution_count": 1,
   "id": "8665e907",
   "metadata": {},
   "outputs": [],
   "source": [
    "from bs4 import BeautifulSoup\n",
    "from selenium import webdriver\n",
    "import time"
   ]
  },
  {
   "cell_type": "markdown",
   "id": "36e4d1be",
   "metadata": {},
   "source": [
    "# # 네이버 랭킹 순으로 scrapping"
   ]
  },
  {
   "cell_type": "code",
   "execution_count": 3,
   "id": "72d15a49",
   "metadata": {},
   "outputs": [
    {
     "name": "stderr",
     "output_type": "stream",
     "text": [
      "C:\\Users\\admin\\AppData\\Local\\Temp\\ipykernel_11860\\1847671576.py:14: DeprecationWarning: executable_path has been deprecated, please pass in a Service object\n",
      "  driver = webdriver.Chrome(\"C:/Users/admin/Desktop/chromedriver_win32/chromedriver.exe\"\n"
     ]
    }
   ],
   "source": [
    "shop_search = '보다나 물결 고데기 블루 40'\n",
    "\n",
    "search_list = []\n",
    "search_list_src = []\n",
    "search_list_price = []\n",
    "\n",
    "'''\n",
    "# 드라이버 옵션 생성\n",
    "options = webdriver.ChromeOptions()\n",
    "# 창 숨기는 옵션 추가\n",
    "options.add_argument(\"headless\")\n",
    "'''\n",
    "\n",
    "driver = webdriver.Chrome(\"C:/Users/admin/Desktop/chromedriver_win32/chromedriver.exe\"\n",
    "                                  #, options=options\n",
    "                                  )\n",
    "\n",
    "# 3초 기다려주기, 웹페이지 로딩까지\n",
    "driver.implicitly_wait(3)\n",
    "\n",
    "# 드라이버 실행\n",
    "driver.get(\"https://search.shopping.naver.com/search/all?query=\" + shop_search)\n",
    "\n",
    "y = 2\n",
    "for timer in range(0, 5):\n",
    "    driver.execute_script(\"window.scrollTo(0, \" + str(y) + \")\")\n",
    "    y = y + 1000\n",
    "    time.sleep(1)\n",
    "\n",
    "soup = BeautifulSoup(driver.page_source, 'html.parser')\n",
    "\n",
    "select = \"#__next > div > div.style_container__1YjHN > div.style_inner__18zZX > div.style_content_wrap__1PzEo > div.style_content__2T20F > ul > div\"\n",
    "\n",
    "# text\n",
    "for i in soup.select(select)[0].find_all(\"div\", class_='basicList_title__3P9Q7'):\n",
    "    # print(i.text)\n",
    "    search_list.append(i.text)\n",
    "\n",
    "# img\n",
    "for i in soup.select(select)[0].find_all(\"div\", class_='thumbnail_thumb_wrap__1pEkS _wrapper'):\n",
    "    tmp = i.find_all(\"img\")\n",
    "    for index in tmp:\n",
    "        search_list_src.append(index['src'])\n",
    "\n",
    "# price\n",
    "for i in soup.select(select)[0].find_all(\"span\", class_='price_num__2WUXn'):\n",
    "    #print(i.text)\n",
    "    search_list_price.append(i.text)\n",
    "\n",
    "driver.close()"
   ]
  }
 ],
 "metadata": {
  "kernelspec": {
   "display_name": "Python 3 (ipykernel)",
   "language": "python",
   "name": "python3"
  },
  "language_info": {
   "codemirror_mode": {
    "name": "ipython",
    "version": 3
   },
   "file_extension": ".py",
   "mimetype": "text/x-python",
   "name": "python",
   "nbconvert_exporter": "python",
   "pygments_lexer": "ipython3",
   "version": "3.8.13"
  }
 },
 "nbformat": 4,
 "nbformat_minor": 5
}
