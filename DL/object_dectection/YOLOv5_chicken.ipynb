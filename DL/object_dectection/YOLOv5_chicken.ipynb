{
  "nbformat": 4,
  "nbformat_minor": 0,
  "metadata": {
    "colab": {
      "name": "YOLOv5.ipynb",
      "provenance": [],
      "collapsed_sections": [],
      "machine_shape": "hm"
    },
    "kernelspec": {
      "name": "python3",
      "display_name": "Python 3"
    },
    "accelerator": "GPU"
  },
  "cells": [
    {
      "cell_type": "markdown",
      "source": [
        "# # https://youtu.be/GRtgLlwxpc4"
      ],
      "metadata": {
        "id": "S_X_kYkwN97Y"
      }
    },
    {
      "cell_type": "markdown",
      "metadata": {
        "id": "7mGmQbAO5pQb"
      },
      "source": [
        "# # 필요한 라이브러리"
      ]
    },
    {
      "cell_type": "code",
      "source": [
        "from google.colab import drive\n",
        "drive.mount('/content/drive')"
      ],
      "metadata": {
        "id": "lgbi7LgKKNcA",
        "colab": {
          "base_uri": "https://localhost:8080/"
        },
        "outputId": "c38dbb51-7e9d-4db4-8a5f-3ee2c634df3d"
      },
      "execution_count": 12,
      "outputs": [
        {
          "output_type": "stream",
          "name": "stdout",
          "text": [
            "Mounted at /content/drive\n"
          ]
        }
      ]
    },
    {
      "cell_type": "code",
      "source": [
        "from IPython.display import Image"
      ],
      "metadata": {
        "id": "O_yQy8nSKE1H"
      },
      "execution_count": 11,
      "outputs": []
    },
    {
      "cell_type": "code",
      "metadata": {
        "id": "wbvMlHd_QwMG",
        "colab": {
          "base_uri": "https://localhost:8080/"
        },
        "outputId": "37dd8d98-f49f-439f-f8cb-b038d61e7669"
      },
      "source": [
        "!git clone https://github.com/ultralytics/yolov5  # clone\n",
        "%cd yolov5\n",
        "%pip install -qr requirements.txt  # install\n",
        "\n",
        "import torch\n",
        "import utils\n",
        "display = utils.notebook_init()  # checks"
      ],
      "execution_count": 1,
      "outputs": [
        {
          "output_type": "stream",
          "name": "stderr",
          "text": [
            "YOLOv5 🚀 v6.1-236-gdcf8073 Python-3.7.13 torch-1.11.0+cu113 CUDA:0 (Tesla T4, 15110MiB)\n"
          ]
        },
        {
          "output_type": "stream",
          "name": "stdout",
          "text": [
            "Setup complete ✅ (2 CPUs, 12.7 GB RAM, 38.7/78.2 GB disk)\n"
          ]
        }
      ]
    },
    {
      "cell_type": "markdown",
      "source": [
        "# # 이후 순서\n",
        "  * 인식할 이미지 수집\n",
        "    - train_data(폴더)\n",
        "      + images(폴더)\n",
        "        * train(폴더)\n",
        "          - 이미지들 -> makesense.ai 에서 레이블링\n",
        "        * val(폴더)\n",
        "          - 이미지들 -> makesense.ai 에서 레이블링\n",
        "      + labels(폴더)\n",
        "        * train(폴더)\n",
        "          - 레이블링한 txt 파일들\n",
        "        * val(폴더)\n",
        "          - 레이블링한 txt 파일들\n",
        "  * 코랩에 train_data 폴더 zip 파일 업로드"
      ],
      "metadata": {
        "id": "8o_yJgztHZPW"
      }
    },
    {
      "cell_type": "code",
      "source": [
        "!unzip -q ../train_data.zip -d ../"
      ],
      "metadata": {
        "id": "-EmtydKUC8C_"
      },
      "execution_count": 3,
      "outputs": []
    },
    {
      "cell_type": "markdown",
      "source": [
        "# # 전처리\n",
        "  * yolov5 - data - coco128.yaml 다운로드\n",
        "    - 수정\n",
        "  * custom_data.yaml 로 파일명 변경"
      ],
      "metadata": {
        "id": "hos3crBzIW4H"
      }
    },
    {
      "cell_type": "code",
      "source": [
        "Image('/content/drive/MyDrive/Colab Notebooks/Learning/딥러닝/객체인식/res/train_data yaml 예시.png')"
      ],
      "metadata": {
        "colab": {
          "base_uri": "https://localhost:8080/",
          "height": 184
        },
        "id": "by1a7tkLIsem",
        "outputId": "3abef22b-cbf7-4209-dc22-6437086c555a"
      },
      "execution_count": 13,
      "outputs": [
        {
          "output_type": "execute_result",
          "data": {
            "text/plain": [
              "<IPython.core.display.Image object>"
            ],
            "image/png": "[encoded data removed]"
          },
          "metadata": {},
          "execution_count": 13
        }
      ]
    },
    {
      "cell_type": "markdown",
      "source": [
        "# # 훈련\n",
        "  * coco128.yaml -> custom_data.yaml"
      ],
      "metadata": {
        "id": "xSxKMXrKK8km"
      }
    },
    {
      "cell_type": "code",
      "metadata": {
        "id": "1NcFxRcFdJ_O",
        "colab": {
          "base_uri": "https://localhost:8080/"
        },
        "outputId": "8d38afb3-337c-4a98-8456-c24dff3057a5"
      },
      "source": [
        "# Train YOLOv5s on COCO128 for 3 epochs\n",
        "!python train.py --img 640 --batch 16 --epochs 60 --data custom_data.yaml --weights yolov5s.pt --cache"
      ],
      "execution_count": 8,
      "outputs": [
        {
          "output_type": "stream",
          "name": "stdout",
          "text": [
            "\u001b[34m\u001b[1mtrain: \u001b[0mweights=yolov5s.pt, cfg=, data=custom_data.yaml, hyp=data/hyps/hyp.scratch-low.yaml, epochs=60, batch_size=16, imgsz=640, rect=False, resume=False, nosave=False, noval=False, noautoanchor=False, noplots=False, evolve=None, bucket=, cache=ram, image_weights=False, device=, multi_scale=False, single_cls=False, optimizer=SGD, sync_bn=False, workers=8, project=runs/train, name=exp, exist_ok=False, quad=False, cos_lr=False, label_smoothing=0.0, patience=100, freeze=[0], save_period=-1, local_rank=-1, entity=None, upload_dataset=False, bbox_interval=-1, artifact_alias=latest\n",
            "\u001b[34m\u001b[1mgithub: \u001b[0mup to date with https://github.com/ultralytics/yolov5 ✅\n",
            "YOLOv5 🚀 v6.1-236-gdcf8073 Python-3.7.13 torch-1.11.0+cu113 CUDA:0 (Tesla T4, 15110MiB)\n",
            "\n",
            "\u001b[34m\u001b[1mhyperparameters: \u001b[0mlr0=0.01, lrf=0.01, momentum=0.937, weight_decay=0.0005, warmup_epochs=3.0, warmup_momentum=0.8, warmup_bias_lr=0.1, box=0.05, cls=0.5, cls_pw=1.0, obj=1.0, obj_pw=1.0, iou_t=0.2, anchor_t=4.0, fl_gamma=0.0, hsv_h=0.015, hsv_s=0.7, hsv_v=0.4, degrees=0.0, translate=0.1, scale=0.5, shear=0.0, perspective=0.0, flipud=0.0, fliplr=0.5, mosaic=1.0, mixup=0.0, copy_paste=0.0\n",
            "\u001b[34m\u001b[1mWeights & Biases: \u001b[0mrun 'pip install wandb' to automatically track and visualize YOLOv5 🚀 runs (RECOMMENDED)\n",
            "\u001b[34m\u001b[1mTensorBoard: \u001b[0mStart with 'tensorboard --logdir runs/train', view at http://localhost:6006/\n",
            "Overriding model.yaml nc=80 with nc=1\n",
            "\n",
            "                 from  n    params  module                                  arguments                     \n",
            "  0                -1  1      3520  models.common.Conv                      [3, 32, 6, 2, 2]              \n",
            "  1                -1  1     18560  models.common.Conv                      [32, 64, 3, 2]                \n",
            "  2                -1  1     18816  models.common.C3                        [64, 64, 1]                   \n",
            "  3                -1  1     73984  models.common.Conv                      [64, 128, 3, 2]               \n",
            "  4                -1  2    115712  models.common.C3                        [128, 128, 2]                 \n",
            "  5                -1  1    295424  models.common.Conv                      [128, 256, 3, 2]              \n",
            "  6                -1  3    625152  models.common.C3                        [256, 256, 3]                 \n",
            "  7                -1  1   1180672  models.common.Conv                      [256, 512, 3, 2]              \n",
            "  8                -1  1   1182720  models.common.C3                        [512, 512, 1]                 \n",
            "  9                -1  1    656896  models.common.SPPF                      [512, 512, 5]                 \n",
            " 10                -1  1    131584  models.common.Conv                      [512, 256, 1, 1]              \n",
            " 11                -1  1         0  torch.nn.modules.upsampling.Upsample    [None, 2, 'nearest']          \n",
            " 12           [-1, 6]  1         0  models.common.Concat                    [1]                           \n",
            " 13                -1  1    361984  models.common.C3                        [512, 256, 1, False]          \n",
            " 14                -1  1     33024  models.common.Conv                      [256, 128, 1, 1]              \n",
            " 15                -1  1         0  torch.nn.modules.upsampling.Upsample    [None, 2, 'nearest']          \n",
            " 16           [-1, 4]  1         0  models.common.Concat                    [1]                           \n",
            " 17                -1  1     90880  models.common.C3                        [256, 128, 1, False]          \n",
            " 18                -1  1    147712  models.common.Conv                      [128, 128, 3, 2]              \n",
            " 19          [-1, 14]  1         0  models.common.Concat                    [1]                           \n",
            " 20                -1  1    296448  models.common.C3                        [256, 256, 1, False]          \n",
            " 21                -1  1    590336  models.common.Conv                      [256, 256, 3, 2]              \n",
            " 22          [-1, 10]  1         0  models.common.Concat                    [1]                           \n",
            " 23                -1  1   1182720  models.common.C3                        [512, 512, 1, False]          \n",
            " 24      [17, 20, 23]  1     16182  models.yolo.Detect                      [1, [[10, 13, 16, 30, 33, 23], [30, 61, 62, 45, 59, 119], [116, 90, 156, 198, 373, 326]], [128, 256, 512]]\n",
            "Model summary: 270 layers, 7022326 parameters, 7022326 gradients, 15.8 GFLOPs\n",
            "\n",
            "Transferred 343/349 items from yolov5s.pt\n",
            "\u001b[34m\u001b[1mAMP: \u001b[0mchecks passed ✅\n",
            "Scaled weight_decay = 0.0005\n",
            "\u001b[34m\u001b[1moptimizer:\u001b[0m SGD with parameter groups 57 weight (no decay), 60 weight, 60 bias\n",
            "\u001b[34m\u001b[1malbumentations: \u001b[0mversion 1.0.3 required by YOLOv5, but version 0.1.12 is currently installed\n",
            "\u001b[34m\u001b[1mtrain: \u001b[0mScanning '/content/yolov5/../train_data/labels/train.cache' images and labels... 22 found, 0 missing, 0 empty, 0 corrupt: 100% 22/22 [00:00<?, ?it/s]\n",
            "\u001b[34m\u001b[1mtrain: \u001b[0mCaching images (0.0GB ram): 100% 22/22 [00:00<00:00, 274.42it/s]\n",
            "\u001b[34m\u001b[1mval: \u001b[0mScanning '/content/yolov5/../train_data/labels/val.cache' images and labels... 8 found, 0 missing, 0 empty, 0 corrupt: 100% 8/8 [00:00<?, ?it/s]\n",
            "\u001b[34m\u001b[1mval: \u001b[0mCaching images (0.0GB ram): 100% 8/8 [00:00<00:00, 285.78it/s]\n",
            "Plotting labels to runs/train/exp4/labels.jpg... \n",
            "\n",
            "\u001b[34m\u001b[1mAutoAnchor: \u001b[0m2.69 anchors/target, 1.000 Best Possible Recall (BPR). Current anchors are a good fit to dataset ✅\n",
            "Image sizes 640 train, 640 val\n",
            "Using 2 dataloader workers\n",
            "Logging results to \u001b[1mruns/train/exp4\u001b[0m\n",
            "Starting training for 60 epochs...\n",
            "\n",
            "     Epoch   gpu_mem       box       obj       cls    labels  img_size\n",
            "      0/59     3.73G    0.1055    0.0349         0        19       640: 100% 2/2 [00:02<00:00,  1.07s/it]\n",
            "               Class     Images     Labels          P          R     mAP@.5 mAP@.5:.95: 100% 1/1 [00:00<00:00,  2.11it/s]\n",
            "                 all          8         10    0.00292        0.7    0.00675    0.00145\n",
            "\n",
            "     Epoch   gpu_mem       box       obj       cls    labels  img_size\n",
            "      1/59     3.73G    0.1081   0.03613         0        24       640: 100% 2/2 [00:00<00:00,  3.99it/s]\n",
            "               Class     Images     Labels          P          R     mAP@.5 mAP@.5:.95: 100% 1/1 [00:00<00:00,  2.59it/s]\n",
            "                 all          8         10    0.00292        0.7    0.00972    0.00199\n",
            "\n",
            "     Epoch   gpu_mem       box       obj       cls    labels  img_size\n",
            "      2/59     3.73G    0.1008   0.03347         0        14       640: 100% 2/2 [00:00<00:00,  4.80it/s]\n",
            "               Class     Images     Labels          P          R     mAP@.5 mAP@.5:.95: 100% 1/1 [00:00<00:00,  3.47it/s]\n",
            "                 all          8         10    0.00333        0.8    0.00866    0.00201\n",
            "\n",
            "     Epoch   gpu_mem       box       obj       cls    labels  img_size\n",
            "      3/59     3.73G     0.101   0.04157         0        26       640: 100% 2/2 [00:00<00:00,  4.80it/s]\n",
            "               Class     Images     Labels          P          R     mAP@.5 mAP@.5:.95: 100% 1/1 [00:00<00:00,  3.49it/s]\n",
            "                 all          8         10    0.00333        0.8    0.00862    0.00217\n",
            "\n",
            "     Epoch   gpu_mem       box       obj       cls    labels  img_size\n",
            "      4/59     3.73G    0.1278    0.0348         0        18       640: 100% 2/2 [00:00<00:00,  4.36it/s]\n",
            "               Class     Images     Labels          P          R     mAP@.5 mAP@.5:.95: 100% 1/1 [00:00<00:00,  3.72it/s]\n",
            "                 all          8         10    0.00333        0.8     0.0106    0.00295\n",
            "\n",
            "     Epoch   gpu_mem       box       obj       cls    labels  img_size\n",
            "      5/59     3.73G   0.08953   0.03564         0        18       640: 100% 2/2 [00:00<00:00,  5.12it/s]\n",
            "               Class     Images     Labels          P          R     mAP@.5 mAP@.5:.95: 100% 1/1 [00:00<00:00,  3.87it/s]\n",
            "                 all          8         10    0.00417          1     0.0116    0.00303\n",
            "\n",
            "     Epoch   gpu_mem       box       obj       cls    labels  img_size\n",
            "      6/59     3.73G   0.06958   0.03538         0        20       640: 100% 2/2 [00:00<00:00,  4.96it/s]\n",
            "               Class     Images     Labels          P          R     mAP@.5 mAP@.5:.95: 100% 1/1 [00:00<00:00,  4.01it/s]\n",
            "                 all          8         10    0.00417          1     0.0186    0.00468\n",
            "\n",
            "     Epoch   gpu_mem       box       obj       cls    labels  img_size\n",
            "      7/59     3.73G   0.08314   0.03594         0        18       640: 100% 2/2 [00:00<00:00,  5.02it/s]\n",
            "               Class     Images     Labels          P          R     mAP@.5 mAP@.5:.95: 100% 1/1 [00:00<00:00,  4.07it/s]\n",
            "                 all          8         10    0.00417          1     0.0233    0.00558\n",
            "\n",
            "     Epoch   gpu_mem       box       obj       cls    labels  img_size\n",
            "      8/59     3.73G    0.1058    0.0405         0        19       640: 100% 2/2 [00:00<00:00,  4.85it/s]\n",
            "               Class     Images     Labels          P          R     mAP@.5 mAP@.5:.95: 100% 1/1 [00:00<00:00,  4.02it/s]\n",
            "                 all          8         10    0.00417          1     0.0239    0.00701\n",
            "\n",
            "     Epoch   gpu_mem       box       obj       cls    labels  img_size\n",
            "      9/59     3.73G   0.08766   0.03637         0        15       640: 100% 2/2 [00:00<00:00,  5.07it/s]\n",
            "               Class     Images     Labels          P          R     mAP@.5 mAP@.5:.95: 100% 1/1 [00:00<00:00,  4.18it/s]\n",
            "                 all          8         10    0.00417          1     0.0325    0.00873\n",
            "\n",
            "     Epoch   gpu_mem       box       obj       cls    labels  img_size\n",
            "     10/59     3.73G   0.08209    0.0331         0        18       640: 100% 2/2 [00:00<00:00,  5.35it/s]\n",
            "               Class     Images     Labels          P          R     mAP@.5 mAP@.5:.95: 100% 1/1 [00:00<00:00,  4.34it/s]\n",
            "                 all          8         10    0.00417          1     0.0366    0.00949\n",
            "\n",
            "     Epoch   gpu_mem       box       obj       cls    labels  img_size\n",
            "     11/59     3.73G    0.0953   0.03947         0        22       640: 100% 2/2 [00:00<00:00,  4.88it/s]\n",
            "               Class     Images     Labels          P          R     mAP@.5 mAP@.5:.95: 100% 1/1 [00:00<00:00,  4.35it/s]\n",
            "                 all          8         10    0.00417          1     0.0487      0.011\n",
            "\n",
            "     Epoch   gpu_mem       box       obj       cls    labels  img_size\n",
            "     12/59     3.73G   0.08527   0.03268         0        14       640: 100% 2/2 [00:00<00:00,  4.76it/s]\n",
            "               Class     Images     Labels          P          R     mAP@.5 mAP@.5:.95: 100% 1/1 [00:00<00:00,  4.91it/s]\n",
            "                 all          8         10    0.00429          1      0.065     0.0258\n",
            "\n",
            "     Epoch   gpu_mem       box       obj       cls    labels  img_size\n",
            "     13/59     3.73G    0.0704   0.03664         0        19       640: 100% 2/2 [00:00<00:00,  5.05it/s]\n",
            "               Class     Images     Labels          P          R     mAP@.5 mAP@.5:.95: 100% 1/1 [00:00<00:00,  5.60it/s]\n",
            "                 all          8         10    0.00417          1     0.0935     0.0299\n",
            "\n",
            "     Epoch   gpu_mem       box       obj       cls    labels  img_size\n",
            "     14/59     3.73G   0.05746   0.03423         0        16       640: 100% 2/2 [00:00<00:00,  4.77it/s]\n",
            "               Class     Images     Labels          P          R     mAP@.5 mAP@.5:.95: 100% 1/1 [00:00<00:00,  5.32it/s]\n",
            "                 all          8         10    0.00417          1      0.122     0.0375\n",
            "\n",
            "     Epoch   gpu_mem       box       obj       cls    labels  img_size\n",
            "     15/59     3.73G   0.06863   0.04239         0        25       640: 100% 2/2 [00:00<00:00,  5.30it/s]\n",
            "               Class     Images     Labels          P          R     mAP@.5 mAP@.5:.95: 100% 1/1 [00:00<00:00,  5.65it/s]\n",
            "                 all          8         10     0.0124          1      0.196     0.0849\n",
            "\n",
            "     Epoch   gpu_mem       box       obj       cls    labels  img_size\n",
            "     16/59     3.73G   0.06319   0.03814         0        22       640: 100% 2/2 [00:00<00:00,  5.02it/s]\n",
            "               Class     Images     Labels          P          R     mAP@.5 mAP@.5:.95: 100% 1/1 [00:00<00:00,  7.15it/s]\n",
            "                 all          8         10     0.0305          1      0.165     0.0602\n",
            "\n",
            "     Epoch   gpu_mem       box       obj       cls    labels  img_size\n",
            "     17/59     3.73G   0.06166   0.03306         0        15       640: 100% 2/2 [00:00<00:00,  5.10it/s]\n",
            "               Class     Images     Labels          P          R     mAP@.5 mAP@.5:.95: 100% 1/1 [00:00<00:00,  6.82it/s]\n",
            "                 all          8         10     0.0454          1      0.359      0.106\n",
            "\n",
            "     Epoch   gpu_mem       box       obj       cls    labels  img_size\n",
            "     18/59     3.73G   0.07159   0.03105         0        20       640: 100% 2/2 [00:00<00:00,  5.36it/s]\n",
            "               Class     Images     Labels          P          R     mAP@.5 mAP@.5:.95: 100% 1/1 [00:00<00:00,  7.80it/s]\n",
            "                 all          8         10      0.283        0.3      0.356      0.197\n",
            "\n",
            "     Epoch   gpu_mem       box       obj       cls    labels  img_size\n",
            "     19/59     3.73G   0.07839   0.03594         0        20       640: 100% 2/2 [00:00<00:00,  5.25it/s]\n",
            "               Class     Images     Labels          P          R     mAP@.5 mAP@.5:.95: 100% 1/1 [00:00<00:00,  7.78it/s]\n",
            "                 all          8         10      0.272      0.154      0.353      0.163\n",
            "\n",
            "     Epoch   gpu_mem       box       obj       cls    labels  img_size\n",
            "     20/59     3.73G   0.06369   0.03722         0        21       640: 100% 2/2 [00:00<00:00,  5.84it/s]\n",
            "               Class     Images     Labels          P          R     mAP@.5 mAP@.5:.95: 100% 1/1 [00:00<00:00,  6.24it/s]\n",
            "                 all          8         10      0.265        0.4      0.334      0.135\n",
            "\n",
            "     Epoch   gpu_mem       box       obj       cls    labels  img_size\n",
            "     21/59     3.73G   0.05457   0.02838         0        14       640: 100% 2/2 [00:00<00:00,  5.31it/s]\n",
            "               Class     Images     Labels          P          R     mAP@.5 mAP@.5:.95: 100% 1/1 [00:00<00:00,  8.74it/s]\n",
            "                 all          8         10      0.307        0.4      0.343      0.104\n",
            "\n",
            "     Epoch   gpu_mem       box       obj       cls    labels  img_size\n",
            "     22/59     3.73G   0.05647   0.03545         0        23       640: 100% 2/2 [00:00<00:00,  5.25it/s]\n",
            "               Class     Images     Labels          P          R     mAP@.5 mAP@.5:.95: 100% 1/1 [00:00<00:00,  8.06it/s]\n",
            "                 all          8         10       0.28        0.6      0.304      0.107\n",
            "\n",
            "     Epoch   gpu_mem       box       obj       cls    labels  img_size\n",
            "     23/59     3.73G   0.04398   0.03244         0        25       640: 100% 2/2 [00:00<00:00,  5.10it/s]\n",
            "               Class     Images     Labels          P          R     mAP@.5 mAP@.5:.95: 100% 1/1 [00:00<00:00,  9.26it/s]\n",
            "                 all          8         10      0.307        0.7      0.407      0.154\n",
            "\n",
            "     Epoch   gpu_mem       box       obj       cls    labels  img_size\n",
            "     24/59     3.73G   0.04832   0.03093         0        16       640: 100% 2/2 [00:00<00:00,  5.59it/s]\n",
            "               Class     Images     Labels          P          R     mAP@.5 mAP@.5:.95: 100% 1/1 [00:00<00:00,  8.29it/s]\n",
            "                 all          8         10      0.447        0.4      0.454      0.193\n",
            "\n",
            "     Epoch   gpu_mem       box       obj       cls    labels  img_size\n",
            "     25/59     3.73G   0.06172   0.03487         0        23       640: 100% 2/2 [00:00<00:00,  5.32it/s]\n",
            "               Class     Images     Labels          P          R     mAP@.5 mAP@.5:.95: 100% 1/1 [00:00<00:00,  8.09it/s]\n",
            "                 all          8         10      0.483        0.3      0.431      0.186\n",
            "\n",
            "     Epoch   gpu_mem       box       obj       cls    labels  img_size\n",
            "     26/59     3.73G    0.0473   0.03074         0        22       640: 100% 2/2 [00:00<00:00,  5.06it/s]\n",
            "               Class     Images     Labels          P          R     mAP@.5 mAP@.5:.95: 100% 1/1 [00:00<00:00,  9.34it/s]\n",
            "                 all          8         10      0.287        0.4      0.452       0.19\n",
            "\n",
            "     Epoch   gpu_mem       box       obj       cls    labels  img_size\n",
            "     27/59     3.73G   0.04104   0.02768         0        19       640: 100% 2/2 [00:00<00:00,  4.55it/s]\n",
            "               Class     Images     Labels          P          R     mAP@.5 mAP@.5:.95: 100% 1/1 [00:00<00:00,  8.88it/s]\n",
            "                 all          8         10      0.287        0.4      0.452       0.19\n",
            "\n",
            "     Epoch   gpu_mem       box       obj       cls    labels  img_size\n",
            "     28/59     3.73G   0.06781   0.02532         0        17       640: 100% 2/2 [00:00<00:00,  4.89it/s]\n",
            "               Class     Images     Labels          P          R     mAP@.5 mAP@.5:.95: 100% 1/1 [00:00<00:00,  9.18it/s]\n",
            "                 all          8         10      0.527        0.5       0.55      0.205\n",
            "\n",
            "     Epoch   gpu_mem       box       obj       cls    labels  img_size\n",
            "     29/59     3.73G   0.04684   0.02894         0        20       640: 100% 2/2 [00:00<00:00,  4.90it/s]\n",
            "               Class     Images     Labels          P          R     mAP@.5 mAP@.5:.95: 100% 1/1 [00:00<00:00,  9.40it/s]\n",
            "                 all          8         10      0.369        0.5      0.429      0.183\n",
            "\n",
            "     Epoch   gpu_mem       box       obj       cls    labels  img_size\n",
            "     30/59     3.73G   0.04161   0.02774         0        19       640: 100% 2/2 [00:00<00:00,  4.99it/s]\n",
            "               Class     Images     Labels          P          R     mAP@.5 mAP@.5:.95: 100% 1/1 [00:00<00:00,  9.51it/s]\n",
            "                 all          8         10      0.369        0.5      0.429      0.183\n",
            "\n",
            "     Epoch   gpu_mem       box       obj       cls    labels  img_size\n",
            "     31/59     3.73G   0.03874   0.02923         0        23       640: 100% 2/2 [00:00<00:00,  4.96it/s]\n",
            "               Class     Images     Labels          P          R     mAP@.5 mAP@.5:.95: 100% 1/1 [00:00<00:00,  9.17it/s]\n",
            "                 all          8         10      0.276      0.495       0.37      0.196\n",
            "\n",
            "     Epoch   gpu_mem       box       obj       cls    labels  img_size\n",
            "     32/59     3.73G   0.04907     0.029         0        19       640: 100% 2/2 [00:00<00:00,  4.53it/s]\n",
            "               Class     Images     Labels          P          R     mAP@.5 mAP@.5:.95: 100% 1/1 [00:00<00:00,  9.31it/s]\n",
            "                 all          8         10      0.264        0.8      0.307      0.142\n",
            "\n",
            "     Epoch   gpu_mem       box       obj       cls    labels  img_size\n",
            "     33/59     3.73G    0.0351   0.02453         0        17       640: 100% 2/2 [00:00<00:00,  5.02it/s]\n",
            "               Class     Images     Labels          P          R     mAP@.5 mAP@.5:.95: 100% 1/1 [00:00<00:00,  9.17it/s]\n",
            "                 all          8         10      0.264        0.8      0.307      0.142\n",
            "\n",
            "     Epoch   gpu_mem       box       obj       cls    labels  img_size\n",
            "     34/59     3.73G   0.03847   0.02675         0        16       640: 100% 2/2 [00:00<00:00,  5.03it/s]\n",
            "               Class     Images     Labels          P          R     mAP@.5 mAP@.5:.95: 100% 1/1 [00:00<00:00,  9.31it/s]\n",
            "                 all          8         10      0.452        0.4       0.44      0.228\n",
            "\n",
            "     Epoch   gpu_mem       box       obj       cls    labels  img_size\n",
            "     35/59     3.73G   0.03358   0.02555         0        17       640: 100% 2/2 [00:00<00:00,  5.15it/s]\n",
            "               Class     Images     Labels          P          R     mAP@.5 mAP@.5:.95: 100% 1/1 [00:00<00:00,  8.66it/s]\n",
            "                 all          8         10      0.451        0.5      0.513      0.245\n",
            "\n",
            "     Epoch   gpu_mem       box       obj       cls    labels  img_size\n",
            "     36/59     3.73G   0.04585   0.02468         0        15       640: 100% 2/2 [00:00<00:00,  5.04it/s]\n",
            "               Class     Images     Labels          P          R     mAP@.5 mAP@.5:.95: 100% 1/1 [00:00<00:00,  9.64it/s]\n",
            "                 all          8         10      0.451        0.5      0.513      0.245\n",
            "\n",
            "     Epoch   gpu_mem       box       obj       cls    labels  img_size\n",
            "     37/59     3.73G   0.07311   0.02746         0        19       640: 100% 2/2 [00:00<00:00,  4.72it/s]\n",
            "               Class     Images     Labels          P          R     mAP@.5 mAP@.5:.95: 100% 1/1 [00:00<00:00,  9.73it/s]\n",
            "                 all          8         10       0.45        0.6      0.463      0.207\n",
            "\n",
            "     Epoch   gpu_mem       box       obj       cls    labels  img_size\n",
            "     38/59     3.73G   0.04772   0.02817         0        18       640: 100% 2/2 [00:00<00:00,  5.70it/s]\n",
            "               Class     Images     Labels          P          R     mAP@.5 mAP@.5:.95: 100% 1/1 [00:00<00:00,  6.23it/s]\n",
            "                 all          8         10      0.336        0.5      0.371      0.193\n",
            "\n",
            "     Epoch   gpu_mem       box       obj       cls    labels  img_size\n",
            "     39/59     3.73G   0.04809   0.02163         0        15       640: 100% 2/2 [00:00<00:00,  5.49it/s]\n",
            "               Class     Images     Labels          P          R     mAP@.5 mAP@.5:.95: 100% 1/1 [00:00<00:00,  9.35it/s]\n",
            "                 all          8         10      0.336        0.5      0.371      0.193\n",
            "\n",
            "     Epoch   gpu_mem       box       obj       cls    labels  img_size\n",
            "     40/59     3.73G   0.05675    0.0269         0        19       640: 100% 2/2 [00:00<00:00,  4.85it/s]\n",
            "               Class     Images     Labels          P          R     mAP@.5 mAP@.5:.95: 100% 1/1 [00:00<00:00, 10.08it/s]\n",
            "                 all          8         10      0.352        0.6      0.464      0.232\n",
            "\n",
            "     Epoch   gpu_mem       box       obj       cls    labels  img_size\n",
            "     41/59     3.73G   0.06269   0.03305         0        31       640: 100% 2/2 [00:00<00:00,  5.07it/s]\n",
            "               Class     Images     Labels          P          R     mAP@.5 mAP@.5:.95: 100% 1/1 [00:00<00:00,  9.28it/s]\n",
            "                 all          8         10      0.371        0.6      0.454      0.225\n",
            "\n",
            "     Epoch   gpu_mem       box       obj       cls    labels  img_size\n",
            "     42/59     3.73G   0.04017   0.02656         0        17       640: 100% 2/2 [00:00<00:00,  4.94it/s]\n",
            "               Class     Images     Labels          P          R     mAP@.5 mAP@.5:.95: 100% 1/1 [00:00<00:00,  9.49it/s]\n",
            "                 all          8         10      0.371        0.6      0.454      0.225\n",
            "\n",
            "     Epoch   gpu_mem       box       obj       cls    labels  img_size\n",
            "     43/59     3.73G   0.04897   0.03083         0        26       640: 100% 2/2 [00:00<00:00,  4.44it/s]\n",
            "               Class     Images     Labels          P          R     mAP@.5 mAP@.5:.95: 100% 1/1 [00:00<00:00,  9.03it/s]\n",
            "                 all          8         10      0.301        0.5      0.375      0.205\n",
            "\n",
            "     Epoch   gpu_mem       box       obj       cls    labels  img_size\n",
            "     44/59     3.73G   0.04407   0.02651         0        23       640: 100% 2/2 [00:00<00:00,  4.93it/s]\n",
            "               Class     Images     Labels          P          R     mAP@.5 mAP@.5:.95: 100% 1/1 [00:00<00:00,  9.92it/s]\n",
            "                 all          8         10      0.301        0.5      0.375      0.205\n",
            "\n",
            "     Epoch   gpu_mem       box       obj       cls    labels  img_size\n",
            "     45/59     3.73G   0.03828    0.0258         0        17       640: 100% 2/2 [00:00<00:00,  4.92it/s]\n",
            "               Class     Images     Labels          P          R     mAP@.5 mAP@.5:.95: 100% 1/1 [00:00<00:00,  9.60it/s]\n",
            "                 all          8         10       0.44        0.5      0.503      0.231\n",
            "\n",
            "     Epoch   gpu_mem       box       obj       cls    labels  img_size\n",
            "     46/59     3.73G   0.04904   0.02488         0        18       640: 100% 2/2 [00:00<00:00,  5.01it/s]\n",
            "               Class     Images     Labels          P          R     mAP@.5 mAP@.5:.95: 100% 1/1 [00:00<00:00,  9.06it/s]\n",
            "                 all          8         10       0.44        0.5      0.503      0.231\n",
            "\n",
            "     Epoch   gpu_mem       box       obj       cls    labels  img_size\n",
            "     47/59     3.73G   0.05688   0.02518         0        23       640: 100% 2/2 [00:00<00:00,  4.91it/s]\n",
            "               Class     Images     Labels          P          R     mAP@.5 mAP@.5:.95: 100% 1/1 [00:00<00:00,  8.93it/s]\n",
            "                 all          8         10      0.436        0.5      0.454      0.254\n",
            "\n",
            "     Epoch   gpu_mem       box       obj       cls    labels  img_size\n",
            "     48/59     3.73G   0.04073   0.03011         0        24       640: 100% 2/2 [00:00<00:00,  5.48it/s]\n",
            "               Class     Images     Labels          P          R     mAP@.5 mAP@.5:.95: 100% 1/1 [00:00<00:00,  9.43it/s]\n",
            "                 all          8         10      0.436        0.5      0.454      0.254\n",
            "\n",
            "     Epoch   gpu_mem       box       obj       cls    labels  img_size\n",
            "     49/59     3.73G   0.04301     0.022         0        19       640: 100% 2/2 [00:00<00:00,  4.63it/s]\n",
            "               Class     Images     Labels          P          R     mAP@.5 mAP@.5:.95: 100% 1/1 [00:00<00:00,  9.83it/s]\n",
            "                 all          8         10      0.535        0.5      0.583      0.266\n",
            "\n",
            "     Epoch   gpu_mem       box       obj       cls    labels  img_size\n",
            "     50/59     3.73G   0.04955   0.02725         0        17       640: 100% 2/2 [00:00<00:00,  5.37it/s]\n",
            "               Class     Images     Labels          P          R     mAP@.5 mAP@.5:.95: 100% 1/1 [00:00<00:00,  9.83it/s]\n",
            "                 all          8         10      0.535        0.5      0.583      0.266\n",
            "\n",
            "     Epoch   gpu_mem       box       obj       cls    labels  img_size\n",
            "     51/59     3.73G    0.0491   0.03427         0        29       640: 100% 2/2 [00:00<00:00,  4.60it/s]\n",
            "               Class     Images     Labels          P          R     mAP@.5 mAP@.5:.95: 100% 1/1 [00:00<00:00, 10.24it/s]\n",
            "                 all          8         10      0.559      0.637      0.605      0.305\n",
            "\n",
            "     Epoch   gpu_mem       box       obj       cls    labels  img_size\n",
            "     52/59     3.73G   0.05137   0.02865         0        13       640: 100% 2/2 [00:00<00:00,  5.86it/s]\n",
            "               Class     Images     Labels          P          R     mAP@.5 mAP@.5:.95: 100% 1/1 [00:00<00:00,  9.64it/s]\n",
            "                 all          8         10      0.559      0.637      0.605      0.305\n",
            "\n",
            "     Epoch   gpu_mem       box       obj       cls    labels  img_size\n",
            "     53/59     3.73G   0.05757   0.02547         0        19       640: 100% 2/2 [00:00<00:00,  3.48it/s]\n",
            "               Class     Images     Labels          P          R     mAP@.5 mAP@.5:.95: 100% 1/1 [00:00<00:00,  7.64it/s]\n",
            "                 all          8         10      0.775      0.689      0.792       0.39\n",
            "\n",
            "     Epoch   gpu_mem       box       obj       cls    labels  img_size\n",
            "     54/59     3.73G   0.05119   0.02878         0        24       640: 100% 2/2 [00:00<00:00,  3.43it/s]\n",
            "               Class     Images     Labels          P          R     mAP@.5 mAP@.5:.95: 100% 1/1 [00:00<00:00,  5.14it/s]\n",
            "                 all          8         10      0.775      0.689      0.792       0.39\n",
            "\n",
            "     Epoch   gpu_mem       box       obj       cls    labels  img_size\n",
            "     55/59     3.73G   0.02953   0.02468         0        19       640: 100% 2/2 [00:00<00:00,  4.47it/s]\n",
            "               Class     Images     Labels          P          R     mAP@.5 mAP@.5:.95: 100% 1/1 [00:00<00:00,  9.05it/s]\n",
            "                 all          8         10      0.698        0.8      0.839      0.442\n",
            "\n",
            "     Epoch   gpu_mem       box       obj       cls    labels  img_size\n",
            "     56/59     3.73G   0.04183   0.02783         0        20       640: 100% 2/2 [00:00<00:00,  5.54it/s]\n",
            "               Class     Images     Labels          P          R     mAP@.5 mAP@.5:.95: 100% 1/1 [00:00<00:00, 10.71it/s]\n",
            "                 all          8         10      0.698        0.8      0.839      0.442\n",
            "\n",
            "     Epoch   gpu_mem       box       obj       cls    labels  img_size\n",
            "     57/59     3.73G   0.02949   0.02174         0        12       640: 100% 2/2 [00:00<00:00,  5.08it/s]\n",
            "               Class     Images     Labels          P          R     mAP@.5 mAP@.5:.95: 100% 1/1 [00:00<00:00,  9.95it/s]\n",
            "                 all          8         10          1      0.889      0.935      0.433\n",
            "\n",
            "     Epoch   gpu_mem       box       obj       cls    labels  img_size\n",
            "     58/59     3.73G   0.03503   0.02382         0        16       640: 100% 2/2 [00:00<00:00,  5.62it/s]\n",
            "               Class     Images     Labels          P          R     mAP@.5 mAP@.5:.95: 100% 1/1 [00:00<00:00,  7.08it/s]\n",
            "                 all          8         10          1      0.889      0.935      0.433\n",
            "\n",
            "     Epoch   gpu_mem       box       obj       cls    labels  img_size\n",
            "     59/59     3.73G   0.05816   0.02858         0        22       640: 100% 2/2 [00:00<00:00,  4.80it/s]\n",
            "               Class     Images     Labels          P          R     mAP@.5 mAP@.5:.95: 100% 1/1 [00:00<00:00, 10.39it/s]\n",
            "                 all          8         10      0.847        0.9      0.945      0.463\n",
            "\n",
            "60 epochs completed in 0.019 hours.\n",
            "Optimizer stripped from runs/train/exp4/weights/last.pt, 14.4MB\n",
            "Optimizer stripped from runs/train/exp4/weights/best.pt, 14.4MB\n",
            "\n",
            "Validating runs/train/exp4/weights/best.pt...\n",
            "Fusing layers... \n",
            "Model summary: 213 layers, 7012822 parameters, 0 gradients, 15.8 GFLOPs\n",
            "               Class     Images     Labels          P          R     mAP@.5 mAP@.5:.95: 100% 1/1 [00:00<00:00,  5.71it/s]\n",
            "                 all          8         10      0.849        0.9      0.945      0.464\n",
            "Results saved to \u001b[1mruns/train/exp4\u001b[0m\n"
          ]
        }
      ]
    },
    {
      "cell_type": "markdown",
      "source": [
        "# # 결과 확인\n",
        "  * 검증을 위해 다운로드 했던 val 폴더에 있던 이미지를 잘 인식했는지 확인할 수 있다.\n",
        "    - 훈련 결과 맨 마지막에 \n",
        "      + Results saved to **runs/train/exp4**"
      ],
      "metadata": {
        "id": "opQVHkAGNdsY"
      }
    },
    {
      "cell_type": "markdown",
      "source": [
        "# # 모델이 잘 돌아가는 확인"
      ],
      "metadata": {
        "id": "w1lEAZLONsyh"
      }
    },
    {
      "cell_type": "markdown",
      "source": [
        "## ## weights(가중치) 경로 새로 설정\n",
        "  * 훈련 결과 마지막 즘에 \n",
        "    - Validating **runs/train/exp4/weights/best.pt**\n",
        "  * --conf 0.35\n",
        "    - 정확도 0.25 -> 0.35"
      ],
      "metadata": {
        "id": "njJ5MF5yMriA"
      }
    },
    {
      "cell_type": "markdown",
      "source": [
        "### ### 이미지\n",
        "  * 인식 시킬 이미지를 코랩에 업로드"
      ],
      "metadata": {
        "id": "VP7fh3WmNyQQ"
      }
    },
    {
      "cell_type": "code",
      "metadata": {
        "id": "zR9ZbuQCH7FX",
        "colab": {
          "base_uri": "https://localhost:8080/"
        },
        "outputId": "17458dee-1ee5-4efb-f0fd-d0d71a70da2c"
      },
      "source": [
        "!python detect.py --weights runs/train/exp4/weights/best.pt --img 640 --conf 0.35 --source ../test.jpg"
      ],
      "execution_count": 14,
      "outputs": [
        {
          "output_type": "stream",
          "name": "stdout",
          "text": [
            "\u001b[34m\u001b[1mdetect: \u001b[0mweights=['runs/train/exp4/weights/best.pt'], source=../test.jpg, data=data/coco128.yaml, imgsz=[640, 640], conf_thres=0.35, iou_thres=0.45, max_det=1000, device=, view_img=False, save_txt=False, save_conf=False, save_crop=False, nosave=False, classes=None, agnostic_nms=False, augment=False, visualize=False, update=False, project=runs/detect, name=exp, exist_ok=False, line_thickness=3, hide_labels=False, hide_conf=False, half=False, dnn=False\n",
            "YOLOv5 🚀 v6.1-236-gdcf8073 Python-3.7.13 torch-1.11.0+cu113 CUDA:0 (Tesla T4, 15110MiB)\n",
            "\n",
            "Fusing layers... \n",
            "Model summary: 213 layers, 7012822 parameters, 0 gradients, 15.8 GFLOPs\n",
            "image 1/1 /content/test.jpg: 448x640 1 chicken, Done. (0.020s)\n",
            "Speed: 0.5ms pre-process, 19.7ms inference, 1.4ms NMS per image at shape (1, 3, 640, 640)\n",
            "Results saved to \u001b[1mruns/detect/exp3\u001b[0m\n"
          ]
        }
      ]
    },
    {
      "cell_type": "code",
      "source": [
        "Image('/content/yolov5/runs/detect/exp3/test.jpg')"
      ],
      "metadata": {
        "colab": {
          "base_uri": "https://localhost:8080/",
          "height": 200
        },
        "id": "9P5GBOuJO48f",
        "outputId": "8c5aac74-cac3-44c8-9fe2-ed8d90cd5b63"
      },
      "execution_count": 15,
      "outputs": [
        {
          "output_type": "execute_result",
          "data": {
            "text/plain": [
              "<IPython.core.display.Image object>"
            ],
            "image/jpeg": "[encoded data removed]"
          },
          "metadata": {},
          "execution_count": 15
        }
      ]
    },
    {
      "cell_type": "markdown",
      "source": [
        "### ### 영상\n",
        "  * 인식 시킬 영상 코랩에 업로드 후\n",
        "  * 아래 코드 실행"
      ],
      "metadata": {
        "id": "L8nupzNyOzV5"
      }
    },
    {
      "cell_type": "code",
      "source": [
        "!python detect.py --weights runs/train/exp4/weights/best.pt --img 640 --conf 0.35 --source ../test.mp4"
      ],
      "metadata": {
        "id": "ThKidFNYO2GX"
      },
      "execution_count": null,
      "outputs": []
    }
  ]
}