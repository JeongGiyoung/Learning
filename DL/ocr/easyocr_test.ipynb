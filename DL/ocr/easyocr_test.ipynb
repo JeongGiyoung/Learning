{
 "cells": [
  {
   "cell_type": "markdown",
   "id": "c4b4de83",
   "metadata": {},
   "source": [
    "https://github.com/JaidedAI/EasyOCR"
   ]
  },
  {
   "cell_type": "code",
   "execution_count": 1,
   "id": "2d41f42f",
   "metadata": {},
   "outputs": [],
   "source": [
    "import easyocr"
   ]
  },
  {
   "cell_type": "code",
   "execution_count": 2,
   "id": "f50d32e0",
   "metadata": {
    "scrolled": true
   },
   "outputs": [
    {
     "name": "stderr",
     "output_type": "stream",
     "text": [
      "CUDA not available - defaulting to CPU. Note: This module is much faster with a GPU.\n"
     ]
    }
   ],
   "source": [
    "reader = easyocr.Reader(['en', 'ko']) # this needs to run only once to load the model into memory"
   ]
  },
  {
   "cell_type": "code",
   "execution_count": 14,
   "id": "bdf71e12",
   "metadata": {},
   "outputs": [],
   "source": [
    "path = 'C:/Users/admin/res/koreng.jpg'"
   ]
  },
  {
   "cell_type": "code",
   "execution_count": 15,
   "id": "76227bf3",
   "metadata": {},
   "outputs": [],
   "source": [
    "result = reader.readtext(path)"
   ]
  },
  {
   "cell_type": "code",
   "execution_count": 16,
   "id": "65bef155",
   "metadata": {},
   "outputs": [
    {
     "data": {
      "text/plain": [
       "[([[40, 98], [400, 98], [400, 178], [40, 178]],\n",
       "  'tesseract틀',\n",
       "  0.8497195868794556),\n",
       " ([[121, 181], [331, 181], [331, 269], [121, 269]], '이용한', 0.8085209562562271),\n",
       " ([[38, 272], [406, 272], [406, 350], [38, 350]],\n",
       "  'OCR 테스트',\n",
       "  0.7479473906179641)]"
      ]
     },
     "execution_count": 16,
     "metadata": {},
     "output_type": "execute_result"
    }
   ],
   "source": [
    "result"
   ]
  },
  {
   "cell_type": "code",
   "execution_count": 17,
   "id": "5fa1f07e",
   "metadata": {},
   "outputs": [
    {
     "data": {
      "text/plain": [
       "['tesseract틀', '이용한', 'OCR 테스트']"
      ]
     },
     "execution_count": 17,
     "metadata": {},
     "output_type": "execute_result"
    }
   ],
   "source": [
    "reader.readtext(path, detail = 0)"
   ]
  }
 ],
 "metadata": {
  "kernelspec": {
   "display_name": "k_v_easyocr",
   "language": "python",
   "name": "venv_easyocr"
  },
  "language_info": {
   "codemirror_mode": {
    "name": "ipython",
    "version": 3
   },
   "file_extension": ".py",
   "mimetype": "text/x-python",
   "name": "python",
   "nbconvert_exporter": "python",
   "pygments_lexer": "ipython3",
   "version": "3.9.12"
  }
 },
 "nbformat": 4,
 "nbformat_minor": 5
}
