{
 "cells": [
  {
   "cell_type": "markdown",
   "id": "8ebde3b9",
   "metadata": {},
   "source": [
    "# # 설치 방법\n",
    "https://github.com/theeluwin/textrankr"
   ]
  },
  {
   "cell_type": "code",
   "execution_count": 1,
   "id": "beeb54b2",
   "metadata": {},
   "outputs": [],
   "source": [
    "from typing import List\n",
    "\n",
    "class MyTokenizer:\n",
    "    def __call__(self, text: str) -> List[str]:\n",
    "        tokens: List[str] = text.split()\n",
    "        return tokens"
   ]
  },
  {
   "cell_type": "code",
   "execution_count": 2,
   "id": "5085d0f0",
   "metadata": {},
   "outputs": [],
   "source": [
    "from typing import List\n",
    "from konlpy.tag import Okt\n",
    "\n",
    "class OktTokenizer:\n",
    "    okt: Okt = Okt()\n",
    "\n",
    "    def __call__(self, text: str) -> List[str]:\n",
    "        tokens: List[str] = self.okt.phrases(text)\n",
    "        return tokens"
   ]
  },
  {
   "cell_type": "code",
   "execution_count": 8,
   "id": "baf49794",
   "metadata": {},
   "outputs": [
    {
     "name": "stdout",
     "output_type": "stream",
     "text": [
      "28일부터 30일까지 정체전선이 오르내리면서 중부지방에 최대 300mm에 달하는 거센 장맛비가 내릴 전망이다\n",
      "특히 29일 밤부터 30일 오전까지 중부지방에 많은 비가 쏟아질 예상이다\n",
      "28일부터 30일까지 수도권과 강원 내륙·산지에 많게는 300mm 이상의 호우가 예보됐고 수도권과 충남, 충북중·북부 지역에서는 100~200mm의 비가 예상된다\n",
      "28일부터 30일까지 정체전선이 오르내리면서 중부지방에 최대 300mm에 달하는 거센 장맛비가 내릴 전망이다\n",
      "특히 29일 밤부터 30일 오전까지 중부지방에 많은 비가 쏟아질 예상이다\n",
      "28일부터 30일까지 수도권과 강원 내륙·산지에 많게는 300mm 이상의 호우가 예보됐고 수도권과 충남, 충북중·북부 지역에서는 100~200mm의 비가 예상된다\n"
     ]
    }
   ],
   "source": [
    "from typing import List\n",
    "from textrankr import TextRank\n",
    "\n",
    "mytokenizer: MyTokenizer = OktTokenizer()\n",
    "textrank: TextRank = TextRank(mytokenizer)\n",
    "    \n",
    "your_text_here = \"28일부터 30일까지 정체전선이 오르내리면서 중부지방에 최대 300mm에 달하는 거센 장맛비가 내릴 전망이다. 이에 따라 침수, 범람, 산사태 등에 유의해야 한다.28일 기상청은 이날 수시브리핑을 열어 이날 밤부터 정체전선의 영향으로 29일 오전까지 수도권과 강원영서, 충청권 북부를 중심으로 많은 비가 내리고 29일 낮부터 저녁 사이에 충청권 북부와 전북 북부를 중심으로 비가 내린다고 내다봤다. 특히 29일 밤부터 30일 오전까지 중부지방에 많은 비가 쏟아질 예상이다.28일부터 30일까지 수도권과 강원 내륙·산지에 많게는 300mm 이상의 호우가 예보됐고 수도권과 충남, 충북중·북부 지역에서는 100~200mm의 비가 예상된다. 전북북서부와 경북 북부내륙에 150mm 이상, 충북 남부와 전북, 경북북부 내륙, 서해5도는 50~100mm 가량 쏟아질 것으로 보인다. 강원 동해안과 전남권 서부, 제주도 산지는 30~80mm의 비가 에상된다.\"\n",
    "\n",
    "k: int = 3  # num sentences in the resulting summary\n",
    "\n",
    "summarized: str = textrank.summarize(your_text_here, k)\n",
    "print(summarized)  # gives you some text\n",
    "\n",
    "# if verbose = False, it returns a list\n",
    "summaries: List[str] = textrank.summarize(your_text_here, k, verbose=False)\n",
    "for summary in summaries:\n",
    "    print(summary)"
   ]
  },
  {
   "cell_type": "code",
   "execution_count": null,
   "id": "c01ce4a3",
   "metadata": {},
   "outputs": [],
   "source": []
  }
 ],
 "metadata": {
  "kernelspec": {
   "display_name": "Python 3 (ipykernel)",
   "language": "python",
   "name": "python3"
  },
  "language_info": {
   "codemirror_mode": {
    "name": "ipython",
    "version": 3
   },
   "file_extension": ".py",
   "mimetype": "text/x-python",
   "name": "python",
   "nbconvert_exporter": "python",
   "pygments_lexer": "ipython3",
   "version": "3.8.13"
  }
 },
 "nbformat": 4,
 "nbformat_minor": 5
}
