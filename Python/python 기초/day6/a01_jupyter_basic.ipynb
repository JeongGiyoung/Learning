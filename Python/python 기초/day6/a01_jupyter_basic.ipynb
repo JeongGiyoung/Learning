{
 "cells": [
  {
   "cell_type": "markdown",
   "metadata": {},
   "source": [
    "# Hello, Jupyter!\n",
    "### 기본 파이썬 시작 on Jupyter notebook"
   ]
  },
  {
   "cell_type": "code",
   "execution_count": 7,
   "metadata": {},
   "outputs": [
    {
     "name": "stdout",
     "output_type": "stream",
     "text": [
      "Hello, Jupyter\n"
     ]
    }
   ],
   "source": [
    "print('Hello, Jupyter')"
   ]
  },
  {
   "cell_type": "markdown",
   "metadata": {},
   "source": [
    "### 변수 사용방법 이해"
   ]
  },
  {
   "cell_type": "code",
   "execution_count": 8,
   "metadata": {},
   "outputs": [
    {
     "name": "stdout",
     "output_type": "stream",
     "text": [
      "10\n"
     ]
    }
   ],
   "source": [
    "a = 10\n",
    "print(a)"
   ]
  },
  {
   "cell_type": "markdown",
   "metadata": {},
   "source": [
    "Jupyter 에서는 print()를 안써도 결과가 출력되지만, 마지막 변수값만 출력된다."
   ]
  },
  {
   "cell_type": "code",
   "execution_count": 10,
   "metadata": {},
   "outputs": [
    {
     "data": {
      "text/plain": [
       "20"
      ]
     },
     "execution_count": 10,
     "metadata": {},
     "output_type": "execute_result"
    }
   ],
   "source": [
    "b = 20\n",
    "a\n",
    "b"
   ]
  },
  {
   "cell_type": "markdown",
   "metadata": {},
   "source": [
    "'# Jupyter 에서 디버깅을 사용하려면\n",
    "  * 터미널에서 아래 패키지 설치"
   ]
  },
  {
   "cell_type": "markdown",
   "metadata": {},
   "source": [
    "# Python에서 ;세미콜론을 붙이는 경우\n",
    "  * 2 줄로 작성해야 하는 문장을 1 줄로 작성하고 싶을 때"
   ]
  },
  {
   "cell_type": "code",
   "execution_count": 1,
   "metadata": {},
   "outputs": [
    {
     "ename": "AttributeError",
     "evalue": "module 'collections' has no attribute 'Callable'",
     "output_type": "error",
     "traceback": [
      "\u001b[1;31m---------------------------------------------------------------------------\u001b[0m",
      "\u001b[1;31mAttributeError\u001b[0m                            Traceback (most recent call last)",
      "Input \u001b[1;32mIn [1]\u001b[0m, in \u001b[0;36m<module>\u001b[1;34m\u001b[0m\n\u001b[0;32m      1\u001b[0m x, y \u001b[38;5;241m=\u001b[39m \u001b[38;5;241m1\u001b[39m, \u001b[38;5;241m5\u001b[39m\n\u001b[1;32m----> 3\u001b[0m \u001b[38;5;28;01mimport\u001b[39;00m \u001b[38;5;21;01mpdb\u001b[39;00m; \u001b[43mpdb\u001b[49m\u001b[38;5;241;43m.\u001b[39;49m\u001b[43mset_trace\u001b[49m\u001b[43m(\u001b[49m\u001b[43m)\u001b[49m\n\u001b[0;32m      5\u001b[0m \u001b[38;5;28mprint\u001b[39m(x \u001b[38;5;241m*\u001b[39m y)\n\u001b[0;32m      7\u001b[0m \u001b[38;5;28;01mimport\u001b[39;00m \u001b[38;5;21;01mpdb\u001b[39;00m; pdb\u001b[38;5;241m.\u001b[39mset_trace()\n",
      "File \u001b[1;32mC:\\DEV\\Python\\Python310\\lib\\site-packages\\IPython\\core\\debugger.py:1000\u001b[0m, in \u001b[0;36mset_trace\u001b[1;34m(frame)\u001b[0m\n\u001b[0;32m    994\u001b[0m \u001b[38;5;28;01mdef\u001b[39;00m \u001b[38;5;21mset_trace\u001b[39m(frame\u001b[38;5;241m=\u001b[39m\u001b[38;5;28;01mNone\u001b[39;00m):\n\u001b[0;32m    995\u001b[0m     \u001b[38;5;124;03m\"\"\"\u001b[39;00m\n\u001b[0;32m    996\u001b[0m \u001b[38;5;124;03m    Start debugging from `frame`.\u001b[39;00m\n\u001b[0;32m    997\u001b[0m \n\u001b[0;32m    998\u001b[0m \u001b[38;5;124;03m    If frame is not specified, debugging starts from caller's frame.\u001b[39;00m\n\u001b[0;32m    999\u001b[0m \u001b[38;5;124;03m    \"\"\"\u001b[39;00m\n\u001b[1;32m-> 1000\u001b[0m     \u001b[43mPdb\u001b[49m\u001b[43m(\u001b[49m\u001b[43m)\u001b[49m\u001b[38;5;241m.\u001b[39mset_trace(frame \u001b[38;5;129;01mor\u001b[39;00m sys\u001b[38;5;241m.\u001b[39m_getframe()\u001b[38;5;241m.\u001b[39mf_back)\n",
      "File \u001b[1;32mC:\\DEV\\Python\\Python310\\lib\\site-packages\\IPython\\core\\debugger.py:229\u001b[0m, in \u001b[0;36mPdb.__init__\u001b[1;34m(self, completekey, stdin, stdout, context, **kwargs)\u001b[0m\n\u001b[0;32m    226\u001b[0m         \u001b[38;5;28;01mraise\u001b[39;00m \u001b[38;5;167;01mValueError\u001b[39;00m(\u001b[38;5;124m\"\u001b[39m\u001b[38;5;124mContext must be a positive integer\u001b[39m\u001b[38;5;124m\"\u001b[39m) \u001b[38;5;28;01mfrom\u001b[39;00m \u001b[38;5;21;01me\u001b[39;00m\n\u001b[0;32m    228\u001b[0m \u001b[38;5;66;03m# `kwargs` ensures full compatibility with stdlib's `pdb.Pdb`.\u001b[39;00m\n\u001b[1;32m--> 229\u001b[0m OldPdb\u001b[38;5;241m.\u001b[39m\u001b[38;5;21m__init__\u001b[39m(\u001b[38;5;28mself\u001b[39m, completekey, stdin, stdout, \u001b[38;5;241m*\u001b[39m\u001b[38;5;241m*\u001b[39mkwargs)\n\u001b[0;32m    231\u001b[0m \u001b[38;5;66;03m# IPython changes...\u001b[39;00m\n\u001b[0;32m    232\u001b[0m \u001b[38;5;28mself\u001b[39m\u001b[38;5;241m.\u001b[39mshell \u001b[38;5;241m=\u001b[39m get_ipython()\n",
      "File \u001b[1;32mC:\\DEV\\Python\\Python310\\lib\\pdb.py:157\u001b[0m, in \u001b[0;36mPdb.__init__\u001b[1;34m(self, completekey, stdin, stdout, skip, nosigint, readrc)\u001b[0m\n\u001b[0;32m    155\u001b[0m \u001b[38;5;66;03m# Try to load readline if it exists\u001b[39;00m\n\u001b[0;32m    156\u001b[0m \u001b[38;5;28;01mtry\u001b[39;00m:\n\u001b[1;32m--> 157\u001b[0m     \u001b[38;5;28;01mimport\u001b[39;00m \u001b[38;5;21;01mreadline\u001b[39;00m\n\u001b[0;32m    158\u001b[0m     \u001b[38;5;66;03m# remove some common file name delimiters\u001b[39;00m\n\u001b[0;32m    159\u001b[0m     readline\u001b[38;5;241m.\u001b[39mset_completer_delims(\u001b[38;5;124m'\u001b[39m\u001b[38;5;124m \u001b[39m\u001b[38;5;130;01m\\t\u001b[39;00m\u001b[38;5;130;01m\\n\u001b[39;00m\u001b[38;5;124m`@#$\u001b[39m\u001b[38;5;124m%\u001b[39m\u001b[38;5;124m^&*()=+[\u001b[39m\u001b[38;5;124m{\u001b[39m\u001b[38;5;124m]}\u001b[39m\u001b[38;5;130;01m\\\\\u001b[39;00m\u001b[38;5;124m|;:\u001b[39m\u001b[38;5;130;01m\\'\u001b[39;00m\u001b[38;5;124m\"\u001b[39m\u001b[38;5;124m,<>?\u001b[39m\u001b[38;5;124m'\u001b[39m)\n",
      "File \u001b[1;32mC:\\DEV\\Python\\Python310\\lib\\site-packages\\readline.py:34\u001b[0m, in \u001b[0;36m<module>\u001b[1;34m\u001b[0m\n\u001b[0;32m      8\u001b[0m __all__ \u001b[38;5;241m=\u001b[39m [ \u001b[38;5;124m'\u001b[39m\u001b[38;5;124mparse_and_bind\u001b[39m\u001b[38;5;124m'\u001b[39m,\n\u001b[0;32m      9\u001b[0m             \u001b[38;5;124m'\u001b[39m\u001b[38;5;124mget_line_buffer\u001b[39m\u001b[38;5;124m'\u001b[39m,\n\u001b[0;32m     10\u001b[0m             \u001b[38;5;124m'\u001b[39m\u001b[38;5;124minsert_text\u001b[39m\u001b[38;5;124m'\u001b[39m,\n\u001b[1;32m   (...)\u001b[0m\n\u001b[0;32m     29\u001b[0m             \u001b[38;5;124m'\u001b[39m\u001b[38;5;124mcallback_handler_remove\u001b[39m\u001b[38;5;124m'\u001b[39m,\n\u001b[0;32m     30\u001b[0m             \u001b[38;5;124m'\u001b[39m\u001b[38;5;124mcallback_read_char\u001b[39m\u001b[38;5;124m'\u001b[39m,] \u001b[38;5;66;03m#Some other objects are added below\u001b[39;00m\n\u001b[0;32m     33\u001b[0m \u001b[38;5;66;03m# create a Readline object to contain the state\u001b[39;00m\n\u001b[1;32m---> 34\u001b[0m rl \u001b[38;5;241m=\u001b[39m \u001b[43mReadline\u001b[49m\u001b[43m(\u001b[49m\u001b[43m)\u001b[49m\n\u001b[0;32m     36\u001b[0m \u001b[38;5;28;01mif\u001b[39;00m rl\u001b[38;5;241m.\u001b[39mdisable_readline:\n\u001b[0;32m     37\u001b[0m     \u001b[38;5;28;01mdef\u001b[39;00m \u001b[38;5;21mdummy\u001b[39m(completer\u001b[38;5;241m=\u001b[39m\u001b[38;5;124m\"\u001b[39m\u001b[38;5;124m\"\u001b[39m):\n",
      "File \u001b[1;32mC:\\DEV\\Python\\Python310\\lib\\site-packages\\pyreadline\\rlmain.py:422\u001b[0m, in \u001b[0;36mReadline.__init__\u001b[1;34m(self)\u001b[0m\n\u001b[0;32m    421\u001b[0m \u001b[38;5;28;01mdef\u001b[39;00m \u001b[38;5;21m__init__\u001b[39m(\u001b[38;5;28mself\u001b[39m):\n\u001b[1;32m--> 422\u001b[0m     \u001b[43mBaseReadline\u001b[49m\u001b[38;5;241;43m.\u001b[39;49m\u001b[38;5;21;43m__init__\u001b[39;49m\u001b[43m(\u001b[49m\u001b[38;5;28;43mself\u001b[39;49m\u001b[43m)\u001b[49m\n\u001b[0;32m    423\u001b[0m     \u001b[38;5;28mself\u001b[39m\u001b[38;5;241m.\u001b[39mconsole \u001b[38;5;241m=\u001b[39m console\u001b[38;5;241m.\u001b[39mConsole()\n\u001b[0;32m    424\u001b[0m     \u001b[38;5;28mself\u001b[39m\u001b[38;5;241m.\u001b[39mselection_color \u001b[38;5;241m=\u001b[39m \u001b[38;5;28mself\u001b[39m\u001b[38;5;241m.\u001b[39mconsole\u001b[38;5;241m.\u001b[39msaveattr\u001b[38;5;241m<<\u001b[39m\u001b[38;5;241m4\u001b[39m\n",
      "File \u001b[1;32mC:\\DEV\\Python\\Python310\\lib\\site-packages\\pyreadline\\rlmain.py:62\u001b[0m, in \u001b[0;36mBaseReadline.__init__\u001b[1;34m(self)\u001b[0m\n\u001b[0;32m     60\u001b[0m \u001b[38;5;28mself\u001b[39m\u001b[38;5;241m.\u001b[39meditingmodes \u001b[38;5;241m=\u001b[39m [mode(\u001b[38;5;28mself\u001b[39m) \u001b[38;5;28;01mfor\u001b[39;00m mode \u001b[38;5;129;01min\u001b[39;00m editingmodes]\n\u001b[0;32m     61\u001b[0m \u001b[38;5;28;01mfor\u001b[39;00m mode \u001b[38;5;129;01min\u001b[39;00m \u001b[38;5;28mself\u001b[39m\u001b[38;5;241m.\u001b[39meditingmodes:\n\u001b[1;32m---> 62\u001b[0m     \u001b[43mmode\u001b[49m\u001b[38;5;241;43m.\u001b[39;49m\u001b[43minit_editing_mode\u001b[49m\u001b[43m(\u001b[49m\u001b[38;5;28;43;01mNone\u001b[39;49;00m\u001b[43m)\u001b[49m\n\u001b[0;32m     63\u001b[0m \u001b[38;5;28mself\u001b[39m\u001b[38;5;241m.\u001b[39mmode \u001b[38;5;241m=\u001b[39m \u001b[38;5;28mself\u001b[39m\u001b[38;5;241m.\u001b[39meditingmodes[\u001b[38;5;241m0\u001b[39m]\n\u001b[0;32m     65\u001b[0m \u001b[38;5;28mself\u001b[39m\u001b[38;5;241m.\u001b[39mread_inputrc()\n",
      "File \u001b[1;32mC:\\DEV\\Python\\Python310\\lib\\site-packages\\pyreadline\\modes\\emacs.py:633\u001b[0m, in \u001b[0;36mEmacsMode.init_editing_mode\u001b[1;34m(self, e)\u001b[0m\n\u001b[0;32m    630\u001b[0m \u001b[38;5;28mself\u001b[39m\u001b[38;5;241m.\u001b[39m_bind_exit_key(\u001b[38;5;124m'\u001b[39m\u001b[38;5;124mControl-z\u001b[39m\u001b[38;5;124m'\u001b[39m)\n\u001b[0;32m    632\u001b[0m \u001b[38;5;66;03m# I often accidentally hold the shift or control while typing space\u001b[39;00m\n\u001b[1;32m--> 633\u001b[0m \u001b[38;5;28;43mself\u001b[39;49m\u001b[38;5;241;43m.\u001b[39;49m\u001b[43m_bind_key\u001b[49m\u001b[43m(\u001b[49m\u001b[38;5;124;43m'\u001b[39;49m\u001b[38;5;124;43mspace\u001b[39;49m\u001b[38;5;124;43m'\u001b[39;49m\u001b[43m,\u001b[49m\u001b[43m       \u001b[49m\u001b[38;5;28;43mself\u001b[39;49m\u001b[38;5;241;43m.\u001b[39;49m\u001b[43mself_insert\u001b[49m\u001b[43m)\u001b[49m\n\u001b[0;32m    634\u001b[0m \u001b[38;5;28mself\u001b[39m\u001b[38;5;241m.\u001b[39m_bind_key(\u001b[38;5;124m'\u001b[39m\u001b[38;5;124mShift-space\u001b[39m\u001b[38;5;124m'\u001b[39m,       \u001b[38;5;28mself\u001b[39m\u001b[38;5;241m.\u001b[39mself_insert)\n\u001b[0;32m    635\u001b[0m \u001b[38;5;28mself\u001b[39m\u001b[38;5;241m.\u001b[39m_bind_key(\u001b[38;5;124m'\u001b[39m\u001b[38;5;124mControl-space\u001b[39m\u001b[38;5;124m'\u001b[39m,     \u001b[38;5;28mself\u001b[39m\u001b[38;5;241m.\u001b[39mself_insert)\n",
      "File \u001b[1;32mC:\\DEV\\Python\\Python310\\lib\\site-packages\\pyreadline\\modes\\basemode.py:162\u001b[0m, in \u001b[0;36mBaseMode._bind_key\u001b[1;34m(self, key, func)\u001b[0m\n\u001b[0;32m    160\u001b[0m \u001b[38;5;28;01mdef\u001b[39;00m \u001b[38;5;21m_bind_key\u001b[39m(\u001b[38;5;28mself\u001b[39m, key, func):\n\u001b[0;32m    161\u001b[0m     \u001b[38;5;124;03m\"\"\"setup the mapping from key to call the function.\"\"\"\u001b[39;00m\n\u001b[1;32m--> 162\u001b[0m     \u001b[38;5;28;01mif\u001b[39;00m \u001b[38;5;129;01mnot\u001b[39;00m \u001b[43mcallable\u001b[49m\u001b[43m(\u001b[49m\u001b[43mfunc\u001b[49m\u001b[43m)\u001b[49m:\n\u001b[0;32m    163\u001b[0m         \u001b[38;5;28mprint\u001b[39m(\u001b[38;5;124m\"\u001b[39m\u001b[38;5;124mTrying to bind non method to keystroke:\u001b[39m\u001b[38;5;132;01m%s\u001b[39;00m\u001b[38;5;124m,\u001b[39m\u001b[38;5;132;01m%s\u001b[39;00m\u001b[38;5;124m\"\u001b[39m\u001b[38;5;241m%\u001b[39m(key,func))\n\u001b[0;32m    164\u001b[0m         \u001b[38;5;28;01mraise\u001b[39;00m ReadlineError(\u001b[38;5;124m\"\u001b[39m\u001b[38;5;124mTrying to bind non method to keystroke:\u001b[39m\u001b[38;5;132;01m%s\u001b[39;00m\u001b[38;5;124m,\u001b[39m\u001b[38;5;132;01m%s\u001b[39;00m\u001b[38;5;124m,\u001b[39m\u001b[38;5;132;01m%s\u001b[39;00m\u001b[38;5;124m,\u001b[39m\u001b[38;5;132;01m%s\u001b[39;00m\u001b[38;5;124m\"\u001b[39m\u001b[38;5;241m%\u001b[39m(key,func,\u001b[38;5;28mtype\u001b[39m(func),\u001b[38;5;28mtype\u001b[39m(\u001b[38;5;28mself\u001b[39m\u001b[38;5;241m.\u001b[39m_bind_key)))\n",
      "File \u001b[1;32mC:\\DEV\\Python\\Python310\\lib\\site-packages\\pyreadline\\py3k_compat.py:8\u001b[0m, in \u001b[0;36mcallable\u001b[1;34m(x)\u001b[0m\n\u001b[0;32m      7\u001b[0m \u001b[38;5;28;01mdef\u001b[39;00m \u001b[38;5;21mcallable\u001b[39m(x):\n\u001b[1;32m----> 8\u001b[0m     \u001b[38;5;28;01mreturn\u001b[39;00m \u001b[38;5;28misinstance\u001b[39m(x, \u001b[43mcollections\u001b[49m\u001b[38;5;241;43m.\u001b[39;49m\u001b[43mCallable\u001b[49m)\n",
      "\u001b[1;31mAttributeError\u001b[0m: module 'collections' has no attribute 'Callable'"
     ]
    }
   ],
   "source": [
    "x, y = 1, 5\n",
    "\n",
    "import pdb; pdb.set_trace()\n",
    "\n",
    "print(x * y)\n",
    "\n",
    "import pdb; pdb.set_trace()\n",
    "\n",
    "print(x + y - 1)"
   ]
  },
  {
   "cell_type": "markdown",
   "metadata": {},
   "source": []
  }
 ],
 "metadata": {
  "interpreter": {
   "hash": "e5bc2cf9d9a3d85fb4b9cf5c2acdd222f933ac2e5b2df75a3f82eb3e684a5541"
  },
  "kernelspec": {
   "display_name": "Python 3.10.1 64-bit",
   "language": "python",
   "name": "python3"
  },
  "language_info": {
   "codemirror_mode": {
    "name": "ipython",
    "version": 3
   },
   "file_extension": ".py",
   "mimetype": "text/x-python",
   "name": "python",
   "nbconvert_exporter": "python",
   "pygments_lexer": "ipython3",
   "version": "3.10.1"
  },
  "orig_nbformat": 4
 },
 "nbformat": 4,
 "nbformat_minor": 2
}
