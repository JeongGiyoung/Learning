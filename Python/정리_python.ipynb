{
  "cells": [
    {
      "cell_type": "markdown",
      "metadata": {
        "id": "view-in-github",
        "colab_type": "text"
      },
      "source": [
        "<a href=\"https://colab.research.google.com/github/JeongGiyoung/Learning/blob/main/python_%EC%A0%95%EB%A6%AC.ipynb\" target=\"_parent\"><img src=\"https://colab.research.google.com/assets/colab-badge.svg\" alt=\"Open In Colab\"/></a>"
      ]
    },
    {
      "cell_type": "markdown",
      "metadata": {
        "id": "a4XxAlgIiSsF"
      },
      "source": [
        "# python syntax\n",
        "  * (컴퓨터 언어의) 문법"
      ],
      "id": "a4XxAlgIiSsF"
    },
    {
      "cell_type": "markdown",
      "source": [
        "# # 용어 정리"
      ],
      "metadata": {
        "id": "ragYrBv66oF3"
      },
      "id": "ragYrBv66oF3"
    },
    {
      "cell_type": "markdown",
      "source": [
        "## ## IDE :\n",
        "  * Integrated Development Environment\n",
        "  * 공통된 개발자 툴을 하나의 그래픽 사용자 인터페이스(Graphical User Interface, GUI)로 결합하는 애플리케이션을 구축하기 위한 소프트웨어\n",
        "  * 구성요소\n",
        "    - 소스 코드 편집기\n",
        "    - 로컬 빌드 자동화\n",
        "    - 디버거"
      ],
      "metadata": {
        "id": "oe96qWdK6phX"
      },
      "id": "oe96qWdK6phX"
    },
    {
      "cell_type": "markdown",
      "source": [
        "# # Colab"
      ],
      "metadata": {
        "id": "-gYwz9-TaLbN"
      },
      "id": "-gYwz9-TaLbN"
    },
    {
      "cell_type": "markdown",
      "source": [
        "## ## 이미지 불러오기"
      ],
      "metadata": {
        "id": "U-0cGvRfaQiq"
      },
      "id": "U-0cGvRfaQiq"
    },
    {
      "cell_type": "code",
      "source": [
        "from IPython.display import Image\n",
        "\n",
        "#미로게임_학습사이클.jpg\n",
        "Image('/content/drive/MyDrive/Colab Notebooks/딥러닝/res/rl/미로게임_학습사이클.jpg')"
      ],
      "metadata": {
        "id": "k3gXQsKhaM6l",
        "colab": {
          "base_uri": "https://localhost:8080/",
          "height": 34
        },
        "outputId": "8a7ac846-da68-4fe6-8475-2af63aad78fd"
      },
      "id": "k3gXQsKhaM6l",
      "execution_count": null,
      "outputs": [
        {
          "output_type": "execute_result",
          "data": {
            "text/plain": [
              "<IPython.core.display.Image object>"
            ],
            "image/png": "/content/drive/MyDrive/Colab Notebooks/딥러닝/res/rl/미로게임_학습사이클.jpg"
          },
          "metadata": {},
          "execution_count": 3
        }
      ]
    },
    {
      "cell_type": "markdown",
      "source": [
        "# # 기초 명령문"
      ],
      "metadata": {
        "id": "hSQbkrkK81i4"
      },
      "id": "hSQbkrkK81i4"
    },
    {
      "cell_type": "markdown",
      "source": [
        "## ## 현재 작업 환경(디렉토리 확인)"
      ],
      "metadata": {
        "id": "7ClTl1Zf87se"
      },
      "id": "7ClTl1Zf87se"
    },
    {
      "cell_type": "code",
      "metadata": {
        "id": "IT5YsWrd6F11",
        "colab": {
          "base_uri": "https://localhost:8080/"
        },
        "outputId": "b316c284-89be-4f98-c060-6a68173e5f61"
      },
      "source": [
        "# !명령어\n",
        "# 현재 작업 환경(디렉토리 확인)\n",
        "!ls"
      ],
      "execution_count": null,
      "outputs": [
        {
          "output_type": "stream",
          "name": "stdout",
          "text": [
            "sample_data\n"
          ]
        }
      ],
      "id": "IT5YsWrd6F11"
    },
    {
      "cell_type": "markdown",
      "source": [
        "## ## 파이썬의 버전 확인"
      ],
      "metadata": {
        "id": "uBO6wWun8-v3"
      },
      "id": "uBO6wWun8-v3"
    },
    {
      "cell_type": "code",
      "metadata": {
        "id": "RZk7QBVm6lWl",
        "colab": {
          "base_uri": "https://localhost:8080/"
        },
        "outputId": "c7771352-53e6-4462-9b5a-1df1c78442a3"
      },
      "source": [
        "# 현재 개발 환경에서 파이썬의 버전 확인\n",
        "!python -V"
      ],
      "execution_count": null,
      "outputs": [
        {
          "output_type": "stream",
          "name": "stdout",
          "text": [
            "Python 3.7.13\n"
          ]
        }
      ],
      "id": "RZk7QBVm6lWl"
    },
    {
      "cell_type": "markdown",
      "source": [
        "## ## 파이썬 패키지 확인"
      ],
      "metadata": {
        "id": "rRvt4RQ19BBO"
      },
      "id": "rRvt4RQ19BBO"
    },
    {
      "cell_type": "code",
      "metadata": {
        "id": "-gHQPQZK8VY3",
        "colab": {
          "base_uri": "https://localhost:8080/"
        },
        "outputId": "8feb9e98-31bc-43ee-e7d4-1013b9ae96d6"
      },
      "source": [
        "# 현재 개발 환경에서 기본 섪치 되어 있는 파이썬 패키지 확인\n",
        "# 내가 뭔가를 개발할려고 하는데 별도의 패키지(남이 만든것)을 사용해야 한다\n",
        "# 그것이 현재 환경에 존재하는가? 체크\n",
        "# 존재한다면 내가 쓰고 싶은 버전과 일치하는가? 혹은 호환되는가? 체크\n",
        "!pip list"
      ],
      "execution_count": null,
      "outputs": [
        {
          "output_type": "stream",
          "name": "stdout",
          "text": [
            "Package                       Version\n",
            "----------------------------- ---------------------\n",
            "absl-py                       1.0.0\n",
            "alabaster                     0.7.12\n",
            "albumentations                0.1.12\n",
            "altair                        4.2.0\n",
            "appdirs                       1.4.4\n",
            "argon2-cffi                   21.3.0\n",
            "argon2-cffi-bindings          21.2.0\n",
            "arviz                         0.12.0\n",
            "astor                         0.8.1\n",
            "astropy                       4.3.1\n",
            "astunparse                    1.6.3\n",
            "atari-py                      0.2.9\n",
            "atomicwrites                  1.4.0\n",
            "attrs                         21.4.0\n",
            "audioread                     2.1.9\n",
            "autograd                      1.4\n",
            "Babel                         2.9.1\n",
            "backcall                      0.2.0\n",
            "beautifulsoup4                4.6.3\n",
            "bleach                        5.0.0\n",
            "blis                          0.4.1\n",
            "bokeh                         2.3.3\n",
            "Bottleneck                    1.3.4\n",
            "branca                        0.5.0\n",
            "bs4                           0.0.1\n",
            "CacheControl                  0.12.10\n",
            "cached-property               1.5.2\n",
            "cachetools                    4.2.4\n",
            "catalogue                     1.0.0\n",
            "certifi                       2021.10.8\n",
            "cffi                          1.15.0\n",
            "cftime                        1.6.0\n",
            "chardet                       3.0.4\n",
            "charset-normalizer            2.0.12\n",
            "click                         7.1.2\n",
            "cloudpickle                   1.3.0\n",
            "cmake                         3.12.0\n",
            "cmdstanpy                     0.9.5\n",
            "colorcet                      3.0.0\n",
            "colorlover                    0.3.0\n",
            "community                     1.0.0b1\n",
            "contextlib2                   0.5.5\n",
            "convertdate                   2.4.0\n",
            "coverage                      3.7.1\n",
            "coveralls                     0.5\n",
            "crcmod                        1.7\n",
            "cufflinks                     0.17.3\n",
            "cvxopt                        1.2.7\n",
            "cvxpy                         1.0.31\n",
            "cycler                        0.11.0\n",
            "cymem                         2.0.6\n",
            "Cython                        0.29.28\n",
            "daft                          0.0.4\n",
            "dask                          2.12.0\n",
            "datascience                   0.10.6\n",
            "debugpy                       1.0.0\n",
            "decorator                     4.4.2\n",
            "defusedxml                    0.7.1\n",
            "descartes                     1.1.0\n",
            "dill                          0.3.4\n",
            "distributed                   1.25.3\n",
            "dlib                          19.18.0\n",
            "dm-tree                       0.1.7\n",
            "docopt                        0.6.2\n",
            "docutils                      0.17.1\n",
            "dopamine-rl                   1.0.5\n",
            "earthengine-api               0.1.306\n",
            "easydict                      1.9\n",
            "ecos                          2.0.10\n",
            "editdistance                  0.5.3\n",
            "en-core-web-sm                2.2.5\n",
            "entrypoints                   0.4\n",
            "ephem                         4.1.3\n",
            "et-xmlfile                    1.1.0\n",
            "fa2                           0.3.5\n",
            "fastai                        1.0.61\n",
            "fastdtw                       0.3.4\n",
            "fastjsonschema                2.15.3\n",
            "fastprogress                  1.0.2\n",
            "fastrlock                     0.8\n",
            "fbprophet                     0.7.1\n",
            "feather-format                0.4.1\n",
            "filelock                      3.6.0\n",
            "firebase-admin                4.4.0\n",
            "fix-yahoo-finance             0.0.22\n",
            "Flask                         1.1.4\n",
            "flatbuffers                   2.0\n",
            "folium                        0.8.3\n",
            "future                        0.16.0\n",
            "gast                          0.5.3\n",
            "GDAL                          2.2.2\n",
            "gdown                         4.4.0\n",
            "gensim                        3.6.0\n",
            "geographiclib                 1.52\n",
            "geopy                         1.17.0\n",
            "gin-config                    0.5.0\n",
            "glob2                         0.7\n",
            "google                        2.0.3\n",
            "google-api-core               1.31.5\n",
            "google-api-python-client      1.12.11\n",
            "google-auth                   1.35.0\n",
            "google-auth-httplib2          0.0.4\n",
            "google-auth-oauthlib          0.4.6\n",
            "google-cloud-bigquery         1.21.0\n",
            "google-cloud-bigquery-storage 1.1.1\n",
            "google-cloud-core             1.0.3\n",
            "google-cloud-datastore        1.8.0\n",
            "google-cloud-firestore        1.7.0\n",
            "google-cloud-language         1.2.0\n",
            "google-cloud-storage          1.18.1\n",
            "google-cloud-translate        1.5.0\n",
            "google-colab                  1.0.0\n",
            "google-pasta                  0.2.0\n",
            "google-resumable-media        0.4.1\n",
            "googleapis-common-protos      1.56.0\n",
            "googledrivedownloader         0.4\n",
            "graphviz                      0.10.1\n",
            "greenlet                      1.1.2\n",
            "grpcio                        1.44.0\n",
            "gspread                       3.4.2\n",
            "gspread-dataframe             3.0.8\n",
            "gym                           0.17.3\n",
            "h5py                          3.1.0\n",
            "HeapDict                      1.0.1\n",
            "hijri-converter               2.2.3\n",
            "holidays                      0.10.5.2\n",
            "holoviews                     1.14.8\n",
            "html5lib                      1.0.1\n",
            "httpimport                    0.5.18\n",
            "httplib2                      0.17.4\n",
            "httplib2shim                  0.0.3\n",
            "humanize                      0.5.1\n",
            "hyperopt                      0.1.2\n",
            "ideep4py                      2.0.0.post3\n",
            "idna                          2.10\n",
            "imageio                       2.4.1\n",
            "imagesize                     1.3.0\n",
            "imbalanced-learn              0.8.1\n",
            "imblearn                      0.0\n",
            "imgaug                        0.2.9\n",
            "importlib-metadata            4.11.3\n",
            "importlib-resources           5.7.1\n",
            "imutils                       0.5.4\n",
            "inflect                       2.1.0\n",
            "iniconfig                     1.1.1\n",
            "intel-openmp                  2022.0.2\n",
            "intervaltree                  2.1.0\n",
            "ipykernel                     4.10.1\n",
            "ipython                       5.5.0\n",
            "ipython-genutils              0.2.0\n",
            "ipython-sql                   0.3.9\n",
            "ipywidgets                    7.7.0\n",
            "itsdangerous                  1.1.0\n",
            "jax                           0.3.4\n",
            "jaxlib                        0.3.2+cuda11.cudnn805\n",
            "jedi                          0.18.1\n",
            "jieba                         0.42.1\n",
            "Jinja2                        2.11.3\n",
            "joblib                        1.1.0\n",
            "jpeg4py                       0.1.4\n",
            "jsonschema                    4.3.3\n",
            "jupyter                       1.0.0\n",
            "jupyter-client                5.3.5\n",
            "jupyter-console               5.2.0\n",
            "jupyter-core                  4.10.0\n",
            "jupyterlab-pygments           0.2.2\n",
            "jupyterlab-widgets            1.1.0\n",
            "kaggle                        1.5.12\n",
            "kapre                         0.3.7\n",
            "keras                         2.8.0\n",
            "Keras-Preprocessing           1.1.2\n",
            "keras-vis                     0.4.1\n",
            "kiwisolver                    1.4.2\n",
            "korean-lunar-calendar         0.2.1\n",
            "libclang                      13.0.0\n",
            "librosa                       0.8.1\n",
            "lightgbm                      2.2.3\n",
            "llvmlite                      0.34.0\n",
            "lmdb                          0.99\n",
            "LunarCalendar                 0.0.9\n",
            "lxml                          4.2.6\n",
            "Markdown                      3.3.6\n",
            "MarkupSafe                    2.0.1\n",
            "matplotlib                    3.2.2\n",
            "matplotlib-inline             0.1.3\n",
            "matplotlib-venn               0.11.7\n",
            "missingno                     0.5.1\n",
            "mistune                       0.8.4\n",
            "mizani                        0.6.0\n",
            "mkl                           2019.0\n",
            "mlxtend                       0.14.0\n",
            "more-itertools                8.12.0\n",
            "moviepy                       0.2.3.5\n",
            "mpmath                        1.2.1\n",
            "msgpack                       1.0.3\n",
            "multiprocess                  0.70.12.2\n",
            "multitasking                  0.0.10\n",
            "murmurhash                    1.0.6\n",
            "music21                       5.5.0\n",
            "natsort                       5.5.0\n",
            "nbclient                      0.6.0\n",
            "nbconvert                     5.6.1\n",
            "nbformat                      5.3.0\n",
            "nest-asyncio                  1.5.5\n",
            "netCDF4                       1.5.8\n",
            "networkx                      2.6.3\n",
            "nibabel                       3.0.2\n",
            "nltk                          3.2.5\n",
            "notebook                      5.3.1\n",
            "numba                         0.51.2\n",
            "numexpr                       2.8.1\n",
            "numpy                         1.21.6\n",
            "nvidia-ml-py3                 7.352.0\n",
            "oauth2client                  4.1.3\n",
            "oauthlib                      3.2.0\n",
            "okgrade                       0.4.3\n",
            "opencv-contrib-python         4.1.2.30\n",
            "opencv-python                 4.1.2.30\n",
            "openpyxl                      3.0.9\n",
            "opt-einsum                    3.3.0\n",
            "osqp                          0.6.2.post0\n",
            "packaging                     21.3\n",
            "palettable                    3.3.0\n",
            "pandas                        1.3.5\n",
            "pandas-datareader             0.9.0\n",
            "pandas-gbq                    0.13.3\n",
            "pandas-profiling              1.4.1\n",
            "pandocfilters                 1.5.0\n",
            "panel                         0.12.1\n",
            "param                         1.12.1\n",
            "parso                         0.8.3\n",
            "pathlib                       1.0.1\n",
            "patsy                         0.5.2\n",
            "pep517                        0.12.0\n",
            "pexpect                       4.8.0\n",
            "pickleshare                   0.7.5\n",
            "Pillow                        7.1.2\n",
            "pip                           21.1.3\n",
            "pip-tools                     6.2.0\n",
            "plac                          1.1.3\n",
            "plotly                        5.5.0\n",
            "plotnine                      0.6.0\n",
            "pluggy                        0.7.1\n",
            "pooch                         1.6.0\n",
            "portpicker                    1.3.9\n",
            "prefetch-generator            1.0.1\n",
            "preshed                       3.0.6\n",
            "prettytable                   3.2.0\n",
            "progressbar2                  3.38.0\n",
            "prometheus-client             0.14.1\n",
            "promise                       2.3\n",
            "prompt-toolkit                1.0.18\n",
            "protobuf                      3.17.3\n",
            "psutil                        5.4.8\n",
            "psycopg2                      2.7.6.1\n",
            "ptyprocess                    0.7.0\n",
            "py                            1.11.0\n",
            "pyarrow                       6.0.1\n",
            "pyasn1                        0.4.8\n",
            "pyasn1-modules                0.2.8\n",
            "pycocotools                   2.0.4\n",
            "pycparser                     2.21\n",
            "pyct                          0.4.8\n",
            "pydata-google-auth            1.4.0\n",
            "pydot                         1.3.0\n",
            "pydot-ng                      2.0.0\n",
            "pydotplus                     2.0.2\n",
            "PyDrive                       1.3.1\n",
            "pyemd                         0.5.1\n",
            "pyerfa                        2.0.0.1\n",
            "pyglet                        1.5.0\n",
            "Pygments                      2.6.1\n",
            "pygobject                     3.26.1\n",
            "pymc3                         3.11.4\n",
            "PyMeeus                       0.5.11\n",
            "pymongo                       4.1.1\n",
            "pymystem3                     0.2.0\n",
            "PyOpenGL                      3.1.6\n",
            "pyparsing                     3.0.8\n",
            "pyrsistent                    0.18.1\n",
            "pysndfile                     1.3.8\n",
            "PySocks                       1.7.1\n",
            "pystan                        2.19.1.1\n",
            "pytest                        3.6.4\n",
            "python-apt                    0.0.0\n",
            "python-chess                  0.23.11\n",
            "python-dateutil               2.8.2\n",
            "python-louvain                0.16\n",
            "python-slugify                6.1.1\n",
            "python-utils                  3.1.0\n",
            "pytz                          2022.1\n",
            "pyviz-comms                   2.2.0\n",
            "PyWavelets                    1.3.0\n",
            "PyYAML                        3.13\n",
            "pyzmq                         22.3.0\n",
            "qdldl                         0.1.5.post2\n",
            "qtconsole                     5.3.0\n",
            "QtPy                          2.0.1\n",
            "regex                         2019.12.20\n",
            "requests                      2.23.0\n",
            "requests-oauthlib             1.3.1\n",
            "resampy                       0.2.2\n",
            "rpy2                          3.4.5\n",
            "rsa                           4.8\n",
            "scikit-image                  0.18.3\n",
            "scikit-learn                  1.0.2\n",
            "scipy                         1.4.1\n",
            "screen-resolution-extra       0.0.0\n",
            "scs                           3.2.0\n",
            "seaborn                       0.11.2\n",
            "semver                        2.13.0\n",
            "Send2Trash                    1.8.0\n",
            "setuptools                    57.4.0\n",
            "setuptools-git                1.2\n",
            "Shapely                       1.8.1.post1\n",
            "simplegeneric                 0.8.1\n",
            "six                           1.15.0\n",
            "sklearn                       0.0\n",
            "sklearn-pandas                1.8.0\n",
            "smart-open                    5.2.1\n",
            "snowballstemmer               2.2.0\n",
            "sortedcontainers              2.4.0\n",
            "SoundFile                     0.10.3.post1\n",
            "soupsieve                     2.3.2.post1\n",
            "spacy                         2.2.4\n",
            "Sphinx                        1.8.6\n",
            "sphinxcontrib-serializinghtml 1.1.5\n",
            "sphinxcontrib-websupport      1.2.4\n",
            "SQLAlchemy                    1.4.35\n",
            "sqlparse                      0.4.2\n",
            "srsly                         1.0.5\n",
            "statsmodels                   0.10.2\n",
            "sympy                         1.7.1\n",
            "tables                        3.7.0\n",
            "tabulate                      0.8.9\n",
            "tblib                         1.7.0\n",
            "tenacity                      8.0.1\n",
            "tensorboard                   2.8.0\n",
            "tensorboard-data-server       0.6.1\n",
            "tensorboard-plugin-wit        1.8.1\n",
            "tensorflow                    2.8.0\n",
            "tensorflow-datasets           4.0.1\n",
            "tensorflow-estimator          2.8.0\n",
            "tensorflow-gcs-config         2.8.0\n",
            "tensorflow-hub                0.12.0\n",
            "tensorflow-io-gcs-filesystem  0.24.0\n",
            "tensorflow-metadata           1.7.0\n",
            "tensorflow-probability        0.16.0\n",
            "termcolor                     1.1.0\n",
            "terminado                     0.13.3\n",
            "testpath                      0.6.0\n",
            "text-unidecode                1.3\n",
            "textblob                      0.15.3\n",
            "Theano-PyMC                   1.1.2\n",
            "thinc                         7.4.0\n",
            "threadpoolctl                 3.1.0\n",
            "tifffile                      2021.11.2\n",
            "tinycss2                      1.1.1\n",
            "tomli                         2.0.1\n",
            "toolz                         0.11.2\n",
            "torch                         1.11.0+cu113\n",
            "torchaudio                    0.11.0+cu113\n",
            "torchsummary                  1.5.1\n",
            "torchtext                     0.12.0\n",
            "torchvision                   0.12.0+cu113\n",
            "tornado                       5.1.1\n",
            "tqdm                          4.64.0\n",
            "traitlets                     5.1.1\n",
            "tweepy                        3.10.0\n",
            "typeguard                     2.7.1\n",
            "typing-extensions             4.2.0\n",
            "tzlocal                       1.5.1\n",
            "uritemplate                   3.0.1\n",
            "urllib3                       1.24.3\n",
            "vega-datasets                 0.9.0\n",
            "wasabi                        0.9.1\n",
            "wcwidth                       0.2.5\n",
            "webencodings                  0.5.1\n",
            "Werkzeug                      1.0.1\n",
            "wheel                         0.37.1\n",
            "widgetsnbextension            3.6.0\n",
            "wordcloud                     1.5.0\n",
            "wrapt                         1.14.0\n",
            "xarray                        0.18.2\n",
            "xgboost                       0.90\n",
            "xkit                          0.0.0\n",
            "xlrd                          1.1.0\n",
            "xlwt                          1.3.0\n",
            "yellowbrick                   1.4\n",
            "zict                          2.1.0\n",
            "zipp                          3.8.0\n"
          ]
        }
      ],
      "id": "-gHQPQZK8VY3"
    },
    {
      "cell_type": "markdown",
      "metadata": {
        "id": "6t8uV-kVm79T"
      },
      "source": [
        "# # 기본 연산자"
      ],
      "id": "6t8uV-kVm79T"
    },
    {
      "cell_type": "markdown",
      "metadata": {
        "id": "dtCx0aWwijyM"
      },
      "source": [
        "## ## 나누기할 때 몫 값만 출력"
      ],
      "id": "dtCx0aWwijyM"
    },
    {
      "cell_type": "code",
      "execution_count": null,
      "metadata": {
        "colab": {
          "base_uri": "https://localhost:8080/"
        },
        "id": "YV_0brp6im30",
        "outputId": "5313f76b-f9ef-4475-d200-dc70f09e7748"
      },
      "outputs": [
        {
          "output_type": "stream",
          "name": "stdout",
          "text": [
            "1\n"
          ]
        }
      ],
      "source": [
        "print(5 // 3)"
      ],
      "id": "YV_0brp6im30"
    },
    {
      "cell_type": "markdown",
      "metadata": {
        "id": "jrJ-beJ7irUU"
      },
      "source": [
        "## ## 나누기할 때 몫을 빼고 나머지 값만 출력"
      ],
      "id": "jrJ-beJ7irUU"
    },
    {
      "cell_type": "code",
      "execution_count": null,
      "metadata": {
        "colab": {
          "base_uri": "https://localhost:8080/"
        },
        "id": "TpA0gYurivuk",
        "outputId": "80be8f8f-571d-48cf-9e37-4bfa505fa70d"
      },
      "outputs": [
        {
          "output_type": "stream",
          "name": "stdout",
          "text": [
            "2\n"
          ]
        }
      ],
      "source": [
        "print(5 % 3) "
      ],
      "id": "TpA0gYurivuk"
    },
    {
      "cell_type": "markdown",
      "metadata": {
        "id": "bpx_7Teyi0Gs"
      },
      "source": [
        "## ## ** : 제곱 출력"
      ],
      "id": "bpx_7Teyi0Gs"
    },
    {
      "cell_type": "code",
      "execution_count": null,
      "metadata": {
        "colab": {
          "base_uri": "https://localhost:8080/"
        },
        "id": "yS1IHjrsi2qw",
        "outputId": "2562da92-d294-4740-85b5-84260ffdb6da"
      },
      "outputs": [
        {
          "output_type": "stream",
          "name": "stdout",
          "text": [
            "1024\n"
          ]
        }
      ],
      "source": [
        "print(2 ** 10) "
      ],
      "id": "yS1IHjrsi2qw"
    },
    {
      "cell_type": "markdown",
      "metadata": {
        "id": "dc0-lz6Si71s"
      },
      "source": [
        "## ## int() : 정수 값으로 출력"
      ],
      "id": "dc0-lz6Si71s"
    },
    {
      "cell_type": "code",
      "execution_count": null,
      "metadata": {
        "colab": {
          "base_uri": "https://localhost:8080/"
        },
        "id": "p4IM_IGBi9kS",
        "outputId": "6bea97ec-06ea-4aad-bf14-a54f9787a3e7"
      },
      "outputs": [
        {
          "output_type": "stream",
          "name": "stdout",
          "text": [
            "1\n",
            "10\n"
          ]
        }
      ],
      "source": [
        "print(int(5 / 3)) \n",
        "print(int('10'))"
      ],
      "id": "p4IM_IGBi9kS"
    },
    {
      "cell_type": "markdown",
      "metadata": {
        "id": "ZKA8APbpi-pj"
      },
      "source": [
        "## # float() : 실수 표현"
      ],
      "id": "ZKA8APbpi-pj"
    },
    {
      "cell_type": "code",
      "execution_count": null,
      "metadata": {
        "colab": {
          "base_uri": "https://localhost:8080/"
        },
        "id": "SLlezOwpi_os",
        "outputId": "311c85d0-12ec-4b2e-8f5d-ba9edbb273a2"
      },
      "outputs": [
        {
          "output_type": "stream",
          "name": "stdout",
          "text": [
            "5.0\n"
          ]
        }
      ],
      "source": [
        "print(float(5))"
      ],
      "id": "SLlezOwpi_os"
    },
    {
      "cell_type": "markdown",
      "metadata": {
        "id": "FqMjfLNYjA30"
      },
      "source": [
        "## # type() : 형식 확인"
      ],
      "id": "FqMjfLNYjA30"
    },
    {
      "cell_type": "code",
      "execution_count": null,
      "metadata": {
        "colab": {
          "base_uri": "https://localhost:8080/"
        },
        "id": "9k6V8W1WjCOE",
        "outputId": "5f7a25ac-748a-4d4e-8dd6-99dc7b6d48f5"
      },
      "outputs": [
        {
          "output_type": "stream",
          "name": "stdout",
          "text": [
            "<class 'int'>\n",
            "<class 'float'>\n"
          ]
        }
      ],
      "source": [
        "print(type(10))\n",
        "print(type(10.0))"
      ],
      "id": "9k6V8W1WjCOE"
    },
    {
      "cell_type": "markdown",
      "metadata": {
        "id": "b_4LM6mBjDQM"
      },
      "source": [
        "## # 루트 계산"
      ],
      "id": "b_4LM6mBjDQM"
    },
    {
      "cell_type": "code",
      "execution_count": null,
      "metadata": {
        "colab": {
          "base_uri": "https://localhost:8080/"
        },
        "id": "qwDzJEQ8jD78",
        "outputId": "0f9470f9-0082-4b86-e1e0-7d67ebb4f295"
      },
      "outputs": [
        {
          "output_type": "stream",
          "name": "stdout",
          "text": [
            "1.7320508075688772\n"
          ]
        }
      ],
      "source": [
        "import math\n",
        "print(math.sqrt(3))"
      ],
      "id": "qwDzJEQ8jD78"
    },
    {
      "cell_type": "markdown",
      "metadata": {
        "id": "vSs1qHDTjFSL"
      },
      "source": [
        "## # 빈 리스트 생성"
      ],
      "id": "vSs1qHDTjFSL"
    },
    {
      "cell_type": "code",
      "execution_count": null,
      "metadata": {
        "id": "yMezc1aijGYU"
      },
      "outputs": [],
      "source": [
        "arr4 = list()"
      ],
      "id": "yMezc1aijGYU"
    },
    {
      "cell_type": "markdown",
      "metadata": {
        "id": "S9oIE-CXjHLt"
      },
      "source": [
        "## # 튜플\n",
        "### * tuple()은 수정 불가능"
      ],
      "id": "S9oIE-CXjHLt"
    },
    {
      "cell_type": "code",
      "execution_count": null,
      "metadata": {
        "colab": {
          "base_uri": "https://localhost:8080/"
        },
        "id": "wZDFCrESjKS1",
        "outputId": "d1f13b0c-a1bf-4fb5-b357-da9431336c29"
      },
      "outputs": [
        {
          "output_type": "stream",
          "name": "stdout",
          "text": [
            "(1, 2, 3, 4, 5)\n",
            "(1, 2, 3, 4, 5)\n"
          ]
        }
      ],
      "source": [
        "tuple1 = (1,2,3,4,5)\n",
        "print(tuple1)\n",
        "\n",
        "tup1 = tuple(range(1,6))\n",
        "\n",
        "#tup1[0] = 99\n",
        "print(tup1)"
      ],
      "id": "wZDFCrESjKS1"
    },
    {
      "cell_type": "markdown",
      "metadata": {
        "id": "W9HynPoMjLk7"
      },
      "source": [
        "## ## range()"
      ],
      "id": "W9HynPoMjLk7"
    },
    {
      "cell_type": "code",
      "execution_count": null,
      "metadata": {
        "id": "uD69NOkXjMm8",
        "colab": {
          "base_uri": "https://localhost:8080/"
        },
        "outputId": "35188768-a005-42d6-dab6-8f5d64333bc3"
      },
      "outputs": [
        {
          "output_type": "execute_result",
          "data": {
            "text/plain": [
              "([1, 2, 3, 4, 5], [0, 1, 2, 3, 4, 5])"
            ]
          },
          "metadata": {},
          "execution_count": 7
        }
      ],
      "source": [
        "arr = list(range(1,6))\n",
        "arr1 = list(range(6))\n",
        "arr, arr1"
      ],
      "id": "uD69NOkXjMm8"
    },
    {
      "cell_type": "markdown",
      "metadata": {
        "id": "-Q39n4JWjNKz"
      },
      "source": [
        "## # range(... , ... , **) 증가량 수정"
      ],
      "id": "-Q39n4JWjNKz"
    },
    {
      "cell_type": "code",
      "execution_count": null,
      "metadata": {
        "id": "IUWwIDEljOji"
      },
      "outputs": [],
      "source": [
        "arr = list(range(2, 101, 2))\n",
        "arr"
      ],
      "id": "IUWwIDEljOji"
    },
    {
      "cell_type": "markdown",
      "metadata": {
        "id": "rAX9jmcfjPcz"
      },
      "source": [
        "## # .sort() : 오름차순"
      ],
      "id": "rAX9jmcfjPcz"
    },
    {
      "cell_type": "code",
      "execution_count": null,
      "metadata": {
        "id": "erLMLseVjQiD"
      },
      "outputs": [],
      "source": [
        "arr4.sort()"
      ],
      "id": "erLMLseVjQiD"
    },
    {
      "cell_type": "markdown",
      "metadata": {
        "id": "_Up4GyXhjRnT"
      },
      "source": [
        "## # .reverse() : 내림차순"
      ],
      "id": "_Up4GyXhjRnT"
    },
    {
      "cell_type": "code",
      "execution_count": null,
      "metadata": {
        "id": "ei28n_SdjSar"
      },
      "outputs": [],
      "source": [
        "arr4.reverse()"
      ],
      "id": "ei28n_SdjSar"
    },
    {
      "cell_type": "markdown",
      "metadata": {
        "id": "SzvPewjkjTuD"
      },
      "source": [
        "## # {... : ...} : (딕션너리) 키, 값을 지정. "
      ],
      "id": "SzvPewjkjTuD"
    },
    {
      "cell_type": "code",
      "execution_count": null,
      "metadata": {
        "colab": {
          "base_uri": "https://localhost:8080/"
        },
        "id": "C9XgpBPejUq7",
        "outputId": "8eea4b93-ad11-4ac8-bc8a-667030a4e098"
      },
      "outputs": [
        {
          "output_type": "stream",
          "name": "stdout",
          "text": [
            "{1: 'a', 2: 'b'}\n"
          ]
        }
      ],
      "source": [
        "dic1 = {1 : 'a'}\n",
        "\n",
        "dic1[2] = 'b'\n",
        "\n",
        "print(dic1)"
      ],
      "id": "C9XgpBPejUq7"
    },
    {
      "cell_type": "markdown",
      "metadata": {
        "id": "0WR_OuAfjVej"
      },
      "source": [
        "## # 문자열 연산"
      ],
      "id": "0WR_OuAfjVej"
    },
    {
      "cell_type": "code",
      "execution_count": null,
      "metadata": {
        "colab": {
          "base_uri": "https://localhost:8080/"
        },
        "id": "O_cJqI36jW3T",
        "outputId": "12ccd846-c6b8-40c8-b4c6-e5c172ff1d8a"
      },
      "outputs": [
        {
          "output_type": "stream",
          "name": "stdout",
          "text": [
            "HelloWorld\n"
          ]
        }
      ],
      "source": [
        "stat1 = 'Hello'\n",
        "stat2 = 'World'\n",
        "res = stat1 + stat2\n",
        "print(res)"
      ],
      "id": "O_cJqI36jW3T"
    },
    {
      "cell_type": "markdown",
      "metadata": {
        "id": "2X_BqtZhjYCj"
      },
      "source": [
        "## # 문자열 연산에는 +, * 만 있음\n",
        "### * 문자열에는 빼기, 나누기가 없음\n",
        "### * 문자열끼리 곱하기 없음"
      ],
      "id": "2X_BqtZhjYCj"
    },
    {
      "cell_type": "code",
      "execution_count": null,
      "metadata": {
        "colab": {
          "base_uri": "https://localhost:8080/"
        },
        "id": "1a9hk0D7jY9T",
        "outputId": "eee78f3b-b1fa-4d9b-e36a-edbbad75ec5c"
      },
      "outputs": [
        {
          "output_type": "stream",
          "name": "stdout",
          "text": [
            "HelloWorld\n",
            "HelloHelloHelloHelloHello\n"
          ]
        }
      ],
      "source": [
        "print(stat1 + stat2)\n",
        "\n",
        "print(stat1 * 5)"
      ],
      "id": "1a9hk0D7jY9T"
    },
    {
      "cell_type": "markdown",
      "metadata": {
        "id": "JBW6zV_zjZsc"
      },
      "source": [
        "## # 문자열 길이\n",
        "  * len()"
      ],
      "id": "JBW6zV_zjZsc"
    },
    {
      "cell_type": "markdown",
      "metadata": {
        "id": "jHgYghoOjbLk"
      },
      "source": [
        "## # 변수[-1] : 뒤에서 첫번째 문자"
      ],
      "id": "jHgYghoOjbLk"
    },
    {
      "cell_type": "code",
      "execution_count": null,
      "metadata": {
        "colab": {
          "base_uri": "https://localhost:8080/"
        },
        "id": "9jrRGfP_jcQU",
        "outputId": "00e36ed3-60fd-4def-c679-3feb7b69e7a0"
      },
      "outputs": [
        {
          "output_type": "stream",
          "name": "stdout",
          "text": [
            "d\n"
          ]
        }
      ],
      "source": [
        "stat3 = stat1 + stat2\n",
        "\n",
        "print(stat3[-1])"
      ],
      "id": "9jrRGfP_jcQU"
    },
    {
      "cell_type": "markdown",
      "metadata": {
        "id": "jML2Gy9UjdDK"
      },
      "source": [
        "## # 변수[0:?] : 문자열 자르기"
      ],
      "id": "jML2Gy9UjdDK"
    },
    {
      "cell_type": "code",
      "execution_count": null,
      "metadata": {
        "colab": {
          "base_uri": "https://localhost:8080/"
        },
        "id": "ZS-hAGyWjkdL",
        "outputId": "b0c0bc2b-f461-4db1-ba43-87cfa0b70fee"
      },
      "outputs": [
        {
          "output_type": "stream",
          "name": "stdout",
          "text": [
            "2022 년\n",
            "01 월\n",
            "17 일\n",
            "14 시\n",
            "39 분\n",
            "25 초\n",
            "39 분\n"
          ]
        }
      ],
      "source": [
        "일시 = '2022-01-17 14:39:25'\n",
        "\n",
        "# 시작은 '0'을 생략해도 된다\n",
        "\n",
        "print(일시[:4],'년') \n",
        "print(일시[5:7],'월')\n",
        "print(일시[8:10],'일')\n",
        "print(일시[11:13],'시')\n",
        "print(일시[14:16],'분')\n",
        "\n",
        "# 끝은 마지막 번호를 생략해도 된다\n",
        "\n",
        "print(일시[17:],'초') \n",
        "\n",
        "print(일시[-5:-3], '분')"
      ],
      "id": "ZS-hAGyWjkdL"
    },
    {
      "cell_type": "markdown",
      "source": [
        "## ## +=\n",
        "  * 왼쪽 변수에 오른쪽 값을 더한 후, 그 결과를 왼쪽 변수에 할당"
      ],
      "metadata": {
        "id": "AquL8Utc2UqP"
      },
      "id": "AquL8Utc2UqP"
    },
    {
      "cell_type": "code",
      "source": [
        "num1 = 10\n",
        "num2 = 2\n",
        "num1 += num2\n",
        "\n",
        "print(num1)"
      ],
      "metadata": {
        "colab": {
          "base_uri": "https://localhost:8080/"
        },
        "id": "4WrAft_X2Xkn",
        "outputId": "70e53336-4731-4e43-f8ec-daa863759caf"
      },
      "id": "4WrAft_X2Xkn",
      "execution_count": null,
      "outputs": [
        {
          "output_type": "stream",
          "name": "stdout",
          "text": [
            "12\n"
          ]
        }
      ]
    },
    {
      "cell_type": "markdown",
      "metadata": {
        "id": "SbATXTA_zipl"
      },
      "source": [
        "# 연속 데이터 타입"
      ],
      "id": "SbATXTA_zipl"
    },
    {
      "cell_type": "markdown",
      "metadata": {
        "id": "DQ028v3Uz1LN"
      },
      "source": [
        "- 단일 데이터 n개를 가지고 있는 자료구조\n",
        "- 연속형, 시퀀스형 표현\n",
        "- 튜플만 수정불가"
      ],
      "id": "DQ028v3Uz1LN"
    },
    {
      "cell_type": "markdown",
      "metadata": {
        "id": "CnJSpiMH0CW1"
      },
      "source": [
        "|타입명|기호|특징|크기|\n",
        "|--|--|--|--|\n",
        "|리스트|[]|- list()<br>- []<br>- 순서(인덱스) O<br>- 값 중복 O|len()|\n",
        "|딕셔너리|{}|- dict()<br>- {}<br>- 순서(인덱스) X<br>- 값 중복 O, 키 중복 X<br>- 키와 값의 세트로 구성<br>- 타언어와 통신시 json으로 대응됨 |len()|\n",
        "|튜플|()|- tuple()<br>- ()<br>- 순서(인덱스) O<br>- 값 중복 O<br>- 단수하게 값을 묶는다|len()|\n",
        "|집합|{}|- set()<br>- {}<br>- 순서(인덱스) X<br>- 값 중복 X<br>- 중복제거|len()|\n",
        "|배열|ndarray|-numpy의 자료구조, 행렬|shape|\n",
        "|시리즈|Series|-pandas의 자료구조, 1차원 구조|shape|\n",
        "|데이터프레임|DataFrame|-pandas의 자료구조, 2차원 구조|shape|\n",
        "|텐서|Tensor|-딥러닝중요 엔진들의 자료구조, tensorflow, pytorch|shape|"
      ],
      "id": "CnJSpiMH0CW1"
    },
    {
      "cell_type": "markdown",
      "source": [
        "## ## list('문자열')\n",
        "  * 문자열을 list에 넣으면 자동으로 한 글자씩 나눈다."
      ],
      "metadata": {
        "id": "N312qlG-hlKv"
      },
      "id": "N312qlG-hlKv"
    },
    {
      "cell_type": "code",
      "source": [
        "tmp = list('abc')\n",
        "tmp"
      ],
      "metadata": {
        "colab": {
          "base_uri": "https://localhost:8080/"
        },
        "id": "1tSEgReChqR_",
        "outputId": "abe1a8c0-edcc-4499-d438-ca4a28fd3177"
      },
      "id": "1tSEgReChqR_",
      "execution_count": null,
      "outputs": [
        {
          "output_type": "execute_result",
          "data": {
            "text/plain": [
              "['a', 'b', 'c']"
            ]
          },
          "metadata": {},
          "execution_count": 26
        }
      ]
    },
    {
      "cell_type": "markdown",
      "source": [
        "# # numpy"
      ],
      "metadata": {
        "id": "ifv9c33Tx7_B"
      },
      "id": "ifv9c33Tx7_B"
    },
    {
      "cell_type": "markdown",
      "source": [
        "## ## zeros(3)\n",
        "  * 3개의 0을 요소로서 가지는 1차원 array를 생성하라는 의미\n",
        "    - 빈 공간을 만들되, shape을 맞출 필요가 있을 때 "
      ],
      "metadata": {
        "id": "FL2LM5nrygZr"
      },
      "id": "FL2LM5nrygZr"
    },
    {
      "cell_type": "code",
      "source": [
        "import numpy as np\n",
        "\n",
        "\n",
        "arr_test = np.zeros(3)\n",
        "print(arr_test)"
      ],
      "metadata": {
        "colab": {
          "base_uri": "https://localhost:8080/"
        },
        "id": "BzmT3vzDx9am",
        "outputId": "3933c037-2bbe-433f-c958-a5b0738e6741"
      },
      "id": "BzmT3vzDx9am",
      "execution_count": null,
      "outputs": [
        {
          "output_type": "stream",
          "name": "stdout",
          "text": [
            "[0. 0. 0.]\n"
          ]
        }
      ]
    },
    {
      "cell_type": "markdown",
      "source": [
        "## ## zeros_like()"
      ],
      "metadata": {
        "id": "TqvyDG7TkAWy"
      },
      "id": "TqvyDG7TkAWy"
    },
    {
      "cell_type": "markdown",
      "source": [
        "## ## np.random.randint()"
      ],
      "metadata": {
        "id": "U73wORQZykNd"
      },
      "id": "U73wORQZykNd"
    },
    {
      "cell_type": "code",
      "source": [
        " a = np.random.randint(6)\n",
        " a"
      ],
      "metadata": {
        "colab": {
          "base_uri": "https://localhost:8080/"
        },
        "id": "zes9iUKxym62",
        "outputId": "bed21527-88e3-46aa-bd58-b3128b2aa8b2"
      },
      "id": "zes9iUKxym62",
      "execution_count": null,
      "outputs": [
        {
          "output_type": "execute_result",
          "data": {
            "text/plain": [
              "4"
            ]
          },
          "metadata": {},
          "execution_count": 28
        }
      ]
    },
    {
      "cell_type": "markdown",
      "source": [
        "## ## numpy.argmax()\n",
        "  * 주어진 NumPy 배열에서 가장 높은 값을 가진 값의 인덱스를 반환"
      ],
      "metadata": {
        "id": "Db7R2PPtzDGm"
      },
      "id": "Db7R2PPtzDGm"
    },
    {
      "cell_type": "code",
      "source": [
        "import numpy as np\n",
        "\n",
        "a=np.array([2,6,1,5])\n",
        "\n",
        "print(\"Array:\")\n",
        "print(a)\n",
        "\n",
        "req_index=np.argmax(a)\n",
        "print(\"\\nIndex with the largest value:\")\n",
        "print(req_index)\n",
        "\n",
        "print(\"\\nThe largest value in the array:\")\n",
        "print(a[req_index])"
      ],
      "metadata": {
        "colab": {
          "base_uri": "https://localhost:8080/"
        },
        "id": "S63LbZ8nzGFO",
        "outputId": "9fa647c7-7661-44fc-afb5-e5a647618bcd"
      },
      "id": "S63LbZ8nzGFO",
      "execution_count": null,
      "outputs": [
        {
          "output_type": "stream",
          "name": "stdout",
          "text": [
            "Array:\n",
            "[2 6 1 5]\n",
            "\n",
            "Index with the largest value:\n",
            "1\n",
            "\n",
            "The largest value in the array:\n",
            "6\n"
          ]
        }
      ]
    },
    {
      "cell_type": "markdown",
      "metadata": {
        "id": "beNcugysnNaN"
      },
      "source": [
        "# 포맷팅(formatting)"
      ],
      "id": "beNcugysnNaN"
    },
    {
      "cell_type": "markdown",
      "metadata": {
        "id": "5PXSz1TAjlQK"
      },
      "source": [
        "## # {}.fromat(문자) : 문자열 포맷팅"
      ],
      "id": "5PXSz1TAjlQK"
    },
    {
      "cell_type": "code",
      "execution_count": null,
      "metadata": {
        "colab": {
          "base_uri": "https://localhost:8080/"
        },
        "id": "vBbEtOVxjn2L",
        "outputId": "12e0909e-4c6e-4594-f109-bd25187738e0"
      },
      "outputs": [
        {
          "output_type": "stream",
          "name": "stdout",
          "text": [
            "I'm so happy to U\n"
          ]
        }
      ],
      "source": [
        "str1 = \"I'm so happy {} U\".format(2)\n",
        "str1 = \"I'm so happy {} U\".format('to')\n",
        "print(str1)"
      ],
      "id": "vBbEtOVxjn2L"
    },
    {
      "cell_type": "code",
      "execution_count": null,
      "metadata": {
        "colab": {
          "base_uri": "https://localhost:8080/"
        },
        "id": "uajhORCIjo-7",
        "outputId": "83fd1c40-4237-4b43-8124-9bc7ffd0a82d"
      },
      "outputs": [
        {
          "output_type": "stream",
          "name": "stdout",
          "text": [
            "I'm so happy 투 U. are 유?\n"
          ]
        }
      ],
      "source": [
        "str1 = \"I'm so happy {} U. are {}?\".format('to', 'You')\n",
        "\n",
        "첫번째 = '투'\n",
        "두번째 = '유'\n",
        "\n",
        "str1 = \"I'm so happy {} U. are {}?\".format(첫번째, 두번째)\n",
        "print(str1)"
      ],
      "id": "uajhORCIjo-7"
    },
    {
      "cell_type": "markdown",
      "metadata": {
        "id": "Tl0LHVCPjuNL"
      },
      "source": [
        "## # f\"...{}...\" : 문자열 포맷팅 생략형"
      ],
      "id": "Tl0LHVCPjuNL"
    },
    {
      "cell_type": "code",
      "execution_count": null,
      "metadata": {
        "colab": {
          "base_uri": "https://localhost:8080/"
        },
        "id": "LbLcazz1jvI6",
        "outputId": "f81259fb-534e-4387-ac64-e697d87b019a"
      },
      "outputs": [
        {
          "output_type": "stream",
          "name": "stdout",
          "text": [
            "I'm so happy 투 U. are 유?\n"
          ]
        }
      ],
      "source": [
        "str2 = f\"I'm so happy {첫번째} U. are {두번째}?\"\n",
        "print(str2)"
      ],
      "id": "LbLcazz1jvI6"
    },
    {
      "cell_type": "markdown",
      "metadata": {
        "id": "W8lNIlKNjvlV"
      },
      "source": [
        "## # format(... , ',d') : 천단위 마다 쉼표 출력"
      ],
      "id": "W8lNIlKNjvlV"
    },
    {
      "cell_type": "code",
      "execution_count": null,
      "metadata": {
        "colab": {
          "base_uri": "https://localhost:8080/"
        },
        "id": "EV9lAW5vjxAy",
        "outputId": "30462fc7-5220-4ebf-b07a-443615ca0ff3"
      },
      "outputs": [
        {
          "output_type": "stream",
          "name": "stdout",
          "text": [
            "100,000,000,000,000,000,000\n"
          ]
        }
      ],
      "source": [
        "money = 100000000000000000000\n",
        "print(format(money, ',d'))"
      ],
      "id": "EV9lAW5vjxAy"
    },
    {
      "cell_type": "markdown",
      "metadata": {
        "id": "N7aEITW2oJ4t"
      },
      "source": [
        "# 날짜"
      ],
      "id": "N7aEITW2oJ4t"
    },
    {
      "cell_type": "markdown",
      "metadata": {
        "id": "TijAlcfpjxxq"
      },
      "source": [
        "## # 현재 일시"
      ],
      "id": "TijAlcfpjxxq"
    },
    {
      "cell_type": "code",
      "execution_count": null,
      "metadata": {
        "colab": {
          "base_uri": "https://localhost:8080/"
        },
        "id": "eo1f2a7IjyhN",
        "outputId": "9bb4f8af-2cde-4c62-ca36-a2d535bce400"
      },
      "outputs": [
        {
          "output_type": "stream",
          "name": "stdout",
          "text": [
            "2022-04-29 08:55:51.256742\n"
          ]
        }
      ],
      "source": [
        "from datetime import datetime\n",
        "\n",
        "now = datetime.now() \n",
        "\n",
        "print(now)"
      ],
      "id": "eo1f2a7IjyhN"
    },
    {
      "cell_type": "markdown",
      "metadata": {
        "id": "ze5N9chwjzai"
      },
      "source": [
        "## # strftime(...) : 양식"
      ],
      "id": "ze5N9chwjzai"
    },
    {
      "cell_type": "code",
      "execution_count": null,
      "metadata": {
        "colab": {
          "base_uri": "https://localhost:8080/"
        },
        "id": "r9q7Ak_dj0P7",
        "outputId": "11d36c05-51bf-45c5-c371-366a7a849672"
      },
      "outputs": [
        {
          "output_type": "stream",
          "name": "stdout",
          "text": [
            "2022년 04월 29일 08:55:51\n"
          ]
        }
      ],
      "source": [
        "print(now.strftime('%Y년 %m월 %d일 %H:%M:%S'))"
      ],
      "id": "r9q7Ak_dj0P7"
    },
    {
      "cell_type": "markdown",
      "metadata": {
        "id": "Z6wGHdxDoRo8"
      },
      "source": [
        "# 문자열 조정 함수"
      ],
      "id": "Z6wGHdxDoRo8"
    },
    {
      "cell_type": "markdown",
      "metadata": {
        "id": "lz7N_G-mj04e"
      },
      "source": [
        "## # split() : 분할"
      ],
      "id": "lz7N_G-mj04e"
    },
    {
      "cell_type": "code",
      "execution_count": null,
      "metadata": {
        "colab": {
          "base_uri": "https://localhost:8080/"
        },
        "id": "n5a5dzVLj11T",
        "outputId": "b1c5b5ce-c4f4-47c1-e551-09386c55e22b"
      },
      "outputs": [
        {
          "output_type": "execute_result",
          "data": {
            "text/plain": [
              "['Hugo', 'MG', 'Sung']"
            ]
          },
          "metadata": {},
          "execution_count": 36
        }
      ],
      "source": [
        "# 띄어쓰기 기준으로 분할\n",
        "\n",
        "full_name = 'Hugo MG Sung'\n",
        "\n",
        "full_name.split()"
      ],
      "id": "n5a5dzVLj11T"
    },
    {
      "cell_type": "code",
      "execution_count": null,
      "metadata": {
        "colab": {
          "base_uri": "https://localhost:8080/"
        },
        "id": "XF_dypFJj3lL",
        "outputId": "d20ed1b1-9a6b-4b4e-866a-d91f76a61e6f"
      },
      "outputs": [
        {
          "output_type": "execute_result",
          "data": {
            "text/plain": [
              "['Hey', ' guys']"
            ]
          },
          "metadata": {},
          "execution_count": 37
        }
      ],
      "source": [
        "# split(',') : 쉼표기준으로 분할\n",
        "\n",
        "test = 'Hey, guys'\n",
        "\n",
        "test.split(',')"
      ],
      "id": "XF_dypFJj3lL"
    },
    {
      "cell_type": "markdown",
      "metadata": {
        "id": "p-SZNivOj4kL"
      },
      "source": [
        "## # .replace() : 단어교체"
      ],
      "id": "p-SZNivOj4kL"
    },
    {
      "cell_type": "code",
      "execution_count": null,
      "metadata": {
        "colab": {
          "base_uri": "https://localhost:8080/",
          "height": 38
        },
        "id": "1AXggnqFj5U-",
        "outputId": "38617867-30f8-4cc6-b918-5c83e5b8a45f"
      },
      "outputs": [
        {
          "output_type": "execute_result",
          "data": {
            "text/plain": [
              "'Ashely Sung'"
            ],
            "application/vnd.google.colaboratory.intrinsic+json": {
              "type": "string"
            }
          },
          "metadata": {},
          "execution_count": 38
        }
      ],
      "source": [
        "full_name = 'Hugo MG Sung'\n",
        "\n",
        "full_name.replace('Hugo MG', 'Ashely')"
      ],
      "id": "1AXggnqFj5U-"
    },
    {
      "cell_type": "markdown",
      "metadata": {
        "id": "iVXBXFYRj6Us"
      },
      "source": [
        "## # 공백 삭제"
      ],
      "id": "iVXBXFYRj6Us"
    },
    {
      "cell_type": "code",
      "execution_count": null,
      "metadata": {
        "colab": {
          "base_uri": "https://localhost:8080/"
        },
        "id": "MgKTWTcBj7Nb",
        "outputId": "ee2b65d9-fa08-43b1-bba2-341358aaaee9"
      },
      "outputs": [
        {
          "output_type": "execute_result",
          "data": {
            "text/plain": [
              "'      Hello, World'"
            ],
            "application/vnd.google.colaboratory.intrinsic+json": {
              "type": "string"
            }
          },
          "metadata": {},
          "execution_count": 39
        }
      ],
      "source": [
        "# .strip() : 공백 삭제 / Oracle 에서 trim 명령어와 동일\n",
        "## .lstrip() : 왼쪽 공백 삭제\n",
        "### .rstirp() : 오른쪽 공백 삭제\n",
        "\n",
        "aaa = '      Hello, World     '\n",
        "\n",
        "aaa.rstrip()"
      ],
      "id": "MgKTWTcBj7Nb"
    },
    {
      "cell_type": "markdown",
      "metadata": {
        "id": "V5ZKQvktj8Zs"
      },
      "source": [
        "## # 문자열이 자리한 위치를 숫자로 출력"
      ],
      "id": "V5ZKQvktj8Zs"
    },
    {
      "cell_type": "code",
      "execution_count": null,
      "metadata": {
        "colab": {
          "base_uri": "https://localhost:8080/"
        },
        "id": "ngRaauK5j9Us",
        "outputId": "ed791e6c-26ee-4a4c-d79d-d2fa6d7ad556"
      },
      "outputs": [
        {
          "output_type": "stream",
          "name": "stdout",
          "text": [
            "0\n",
            "1\n",
            "2\n",
            "6\n"
          ]
        }
      ],
      "source": [
        "full_name = 'Hugo MG Sung'\n",
        "\n",
        "print(full_name.index('H'))\n",
        "print(full_name.index('u'))\n",
        "print(full_name.index('g')) \n",
        "print(full_name.index('G'))"
      ],
      "id": "ngRaauK5j9Us"
    },
    {
      "cell_type": "markdown",
      "metadata": {
        "id": "f0Yh7u1wj-WD"
      },
      "source": [
        "## # 문자열이 자리한 위치를 숫자로 출력"
      ],
      "id": "f0Yh7u1wj-WD"
    },
    {
      "cell_type": "code",
      "execution_count": null,
      "metadata": {
        "colab": {
          "base_uri": "https://localhost:8080/"
        },
        "id": "raMPyDBOj_DN",
        "outputId": "88683907-85f9-4ffb-f2d6-3c614cdd600e"
      },
      "outputs": [
        {
          "output_type": "stream",
          "name": "stdout",
          "text": [
            "-1\n",
            "5\n"
          ]
        }
      ],
      "source": [
        "full_name = 'Hugo MG Sung'\n",
        "\n",
        "print(full_name.find('X'))\n",
        "print(full_name.find('MG'))"
      ],
      "id": "raMPyDBOj_DN"
    },
    {
      "cell_type": "markdown",
      "metadata": {
        "id": "cBdZi64KkAyb"
      },
      "source": [
        "## # 찾는 문자의 개수"
      ],
      "id": "cBdZi64KkAyb"
    },
    {
      "cell_type": "code",
      "execution_count": null,
      "metadata": {
        "colab": {
          "base_uri": "https://localhost:8080/"
        },
        "id": "XE1tLNVxkCBc",
        "outputId": "92af0802-2818-4227-8040-fb79d9ba446c"
      },
      "outputs": [
        {
          "output_type": "stream",
          "name": "stdout",
          "text": [
            "2\n",
            "1\n"
          ]
        }
      ],
      "source": [
        "full_name = 'Hugo MG Sung'\n",
        "\n",
        "print(full_name.count('u'))\n",
        "print(full_name.count('n'))"
      ],
      "id": "XE1tLNVxkCBc"
    },
    {
      "cell_type": "markdown",
      "metadata": {
        "id": "EnSM3wQskDDj"
      },
      "source": [
        "## # 문자열의 각 문자마다 합칠 때 다른 문자를 넣으면서 합칠 때"
      ],
      "id": "EnSM3wQskDDj"
    },
    {
      "cell_type": "code",
      "execution_count": null,
      "metadata": {
        "colab": {
          "base_uri": "https://localhost:8080/",
          "height": 38
        },
        "id": "DOXG7-NVkDxL",
        "outputId": "5934794e-2824-48de-9d0d-4c1d3b4a2e0c"
      },
      "outputs": [
        {
          "output_type": "execute_result",
          "data": {
            "text/plain": [
              "'H-u-g-o- -M-G- -S-u-n-g'"
            ],
            "application/vnd.google.colaboratory.intrinsic+json": {
              "type": "string"
            }
          },
          "metadata": {},
          "execution_count": 43
        }
      ],
      "source": [
        "full_name = 'Hugo MG Sung'\n",
        "\n",
        "'-'.join(full_name)"
      ],
      "id": "DOXG7-NVkDxL"
    },
    {
      "cell_type": "markdown",
      "metadata": {
        "id": "sVl62aUXkEnl"
      },
      "source": [
        "## # 대문자 소문자"
      ],
      "id": "sVl62aUXkEnl"
    },
    {
      "cell_type": "code",
      "execution_count": null,
      "metadata": {
        "colab": {
          "base_uri": "https://localhost:8080/"
        },
        "id": "lcgCEBvtkFTk",
        "outputId": "a08908e2-c6ab-483c-d29b-d4bd55b5b7f6"
      },
      "outputs": [
        {
          "output_type": "stream",
          "name": "stdout",
          "text": [
            "HUGO MG SUNG\n",
            "hugo mg sung\n"
          ]
        }
      ],
      "source": [
        "full_name = 'Hugo MG Sung'\n",
        "\n",
        "print(full_name.upper())\n",
        "print(full_name.lower())"
      ],
      "id": "lcgCEBvtkFTk"
    },
    {
      "cell_type": "markdown",
      "source": [
        "## ## strip"
      ],
      "metadata": {
        "id": "WXFcG10KifgO"
      },
      "id": "WXFcG10KifgO"
    },
    {
      "cell_type": "code",
      "source": [
        "# 12. 공백제거\n",
        "tmp = '''\n",
        "\t\t\t\t\n",
        "\t\t\t\t\t\n",
        "\t\t\t\t\t\n",
        "\t\t\t\t\t\n",
        "\t\t\t\t\t유럽연합 EUR\n",
        "\t\t\t\t\n",
        "'''\n",
        "# 문자열의 앞뒤 공백 제거 -> 문자열 함수 사용\n",
        "f'[{tmp.strip()}]', f'[{tmp.lstrip()}]', f'[{tmp.rstrip()}]'"
      ],
      "metadata": {
        "colab": {
          "base_uri": "https://localhost:8080/"
        },
        "id": "z7R1Ch7wif_-",
        "outputId": "02cd41a3-eaaf-4f7d-9be6-06f16a7a0bf4"
      },
      "id": "z7R1Ch7wif_-",
      "execution_count": null,
      "outputs": [
        {
          "output_type": "execute_result",
          "data": {
            "text/plain": [
              "('[유럽연합 EUR]',\n",
              " '[유럽연합 EUR\\n\\t\\t\\t\\t\\n]',\n",
              " '[\\n\\t\\t\\t\\t\\n\\t\\t\\t\\t\\t\\n\\t\\t\\t\\t\\t\\n\\t\\t\\t\\t\\t\\n\\t\\t\\t\\t\\t유럽연합 EUR]')"
            ]
          },
          "metadata": {},
          "execution_count": 69
        }
      ]
    },
    {
      "cell_type": "markdown",
      "source": [
        "## ## [%s] %"
      ],
      "metadata": {
        "id": "U4TZRueUjHNP"
      },
      "id": "U4TZRueUjHNP"
    },
    {
      "cell_type": "code",
      "metadata": {
        "id": "P8S0t4c_kYYy",
        "colab": {
          "base_uri": "https://localhost:8080/",
          "height": 38
        },
        "outputId": "5f69c828-62b5-4c02-b475-dc2e1058e97c"
      },
      "source": [
        "# 14. 문자열 포멧팅 응용에서 값의 자리수(칸수) 지정\n",
        "'[%s]' % 'abcd'"
      ],
      "execution_count": null,
      "outputs": [
        {
          "output_type": "execute_result",
          "data": {
            "text/plain": [
              "'[abcd]'"
            ],
            "application/vnd.google.colaboratory.intrinsic+json": {
              "type": "string"
            }
          },
          "metadata": {},
          "execution_count": 33
        }
      ],
      "id": "P8S0t4c_kYYy"
    },
    {
      "cell_type": "code",
      "metadata": {
        "id": "4ZBdxmKqujtY",
        "colab": {
          "base_uri": "https://localhost:8080/"
        },
        "outputId": "31c718a6-4f08-4b17-f342-80072e67bace"
      },
      "source": [
        "# 10칸을 무조건 차지한다\n",
        "'[%10s]' % 'abcd', '[%-10s]' % 'abcd'"
      ],
      "execution_count": null,
      "outputs": [
        {
          "output_type": "execute_result",
          "data": {
            "text/plain": [
              "('[      abcd]', '[abcd      ]')"
            ]
          },
          "metadata": {},
          "execution_count": 70
        }
      ],
      "id": "4ZBdxmKqujtY"
    },
    {
      "cell_type": "markdown",
      "source": [
        "## ## '[%10f]' %"
      ],
      "metadata": {
        "id": "22jrJ4KtjLce"
      },
      "id": "22jrJ4KtjLce"
    },
    {
      "cell_type": "code",
      "metadata": {
        "id": "25fpXrYuur1X",
        "colab": {
          "base_uri": "https://localhost:8080/"
        },
        "outputId": "2145520a-2ffa-4f9d-fc92-523a5dd5cec3"
      },
      "source": [
        "'[%10f]' % 3.145678, '[%10s]' % 3.145678"
      ],
      "execution_count": null,
      "outputs": [
        {
          "output_type": "execute_result",
          "data": {
            "text/plain": [
              "('[  3.145678]', '[  3.145678]')"
            ]
          },
          "metadata": {},
          "execution_count": 71
        }
      ],
      "id": "25fpXrYuur1X"
    },
    {
      "cell_type": "markdown",
      "source": [
        "## ## '[%10.2f]' %\n",
        "  * 소수점 자리수 정하기"
      ],
      "metadata": {
        "id": "bwXnx8n0jSzu"
      },
      "id": "bwXnx8n0jSzu"
    },
    {
      "cell_type": "code",
      "metadata": {
        "id": "O4YVmPrsu_Kv",
        "colab": {
          "base_uri": "https://localhost:8080/",
          "height": 38
        },
        "outputId": "993bb399-e87a-44ab-8a0e-6b26f9881cf7"
      },
      "source": [
        "'[%10.2f]' % 3.145678"
      ],
      "execution_count": null,
      "outputs": [
        {
          "output_type": "execute_result",
          "data": {
            "text/plain": [
              "'[      3.15]'"
            ],
            "application/vnd.google.colaboratory.intrinsic+json": {
              "type": "string"
            }
          },
          "metadata": {},
          "execution_count": 72
        }
      ],
      "id": "O4YVmPrsu_Kv"
    },
    {
      "cell_type": "code",
      "metadata": {
        "id": "brGDcYDjvF0_",
        "colab": {
          "base_uri": "https://localhost:8080/",
          "height": 38
        },
        "outputId": "39d6a880-6d3d-4d5b-fd01-89495e2fa7ea"
      },
      "source": [
        "'[{:10}]'.format('abcd')\n",
        "# '[{0:-10}]'.format('abcd') : 에러 발생"
      ],
      "execution_count": null,
      "outputs": [
        {
          "output_type": "execute_result",
          "data": {
            "text/plain": [
              "'[abcd      ]'"
            ],
            "application/vnd.google.colaboratory.intrinsic+json": {
              "type": "string"
            }
          },
          "metadata": {},
          "execution_count": 37
        }
      ],
      "id": "brGDcYDjvF0_"
    },
    {
      "cell_type": "markdown",
      "source": [
        "## ## '[{:<10}]'.format()\n",
        "  * 좌우 정렬"
      ],
      "metadata": {
        "id": "Zxvbua1Tjphn"
      },
      "id": "Zxvbua1Tjphn"
    },
    {
      "cell_type": "code",
      "metadata": {
        "id": "Kam0qMguvWFP",
        "colab": {
          "base_uri": "https://localhost:8080/"
        },
        "outputId": "fa62e180-5fb2-4e93-d0be-9c43a6009879"
      },
      "source": [
        "# 앞쪽, 뒤쪽으로 정렬\n",
        "'[{0:<10}]'.format('abcd'), '[{0:>10}]'.format('abcd')"
      ],
      "execution_count": null,
      "outputs": [
        {
          "output_type": "execute_result",
          "data": {
            "text/plain": [
              "('[abcd      ]', '[      abcd]')"
            ]
          },
          "metadata": {},
          "execution_count": 73
        }
      ],
      "id": "Kam0qMguvWFP"
    },
    {
      "cell_type": "markdown",
      "source": [
        "## ## '[{0:^10}]'.format()\n",
        "  * 중앙정렬"
      ],
      "metadata": {
        "id": "OdZoI1YFjydU"
      },
      "id": "OdZoI1YFjydU"
    },
    {
      "cell_type": "code",
      "metadata": {
        "id": "7xUmRAamvx-Y",
        "colab": {
          "base_uri": "https://localhost:8080/"
        },
        "outputId": "79d30de3-dffc-4b24-9891-c7a44f14e027"
      },
      "source": [
        "# 중심\n",
        "'[{0:^10}]'.format('abcd'), '[{0:*^10}]'.format('abcd')"
      ],
      "execution_count": null,
      "outputs": [
        {
          "output_type": "execute_result",
          "data": {
            "text/plain": [
              "('[   abcd   ]', '[***abcd***]')"
            ]
          },
          "metadata": {},
          "execution_count": 39
        }
      ],
      "id": "7xUmRAamvx-Y"
    },
    {
      "cell_type": "code",
      "metadata": {
        "id": "pnAS0tAZv295",
        "colab": {
          "base_uri": "https://localhost:8080/"
        },
        "outputId": "bde868d1-27a7-4283-d8f2-ca566d6a6fe8"
      },
      "source": [
        "a = 'abcd'\n",
        "f'[{a:10}]', f'[{a:>10}]', f'[{a:^10}]'"
      ],
      "execution_count": null,
      "outputs": [
        {
          "output_type": "execute_result",
          "data": {
            "text/plain": [
              "('[abcd      ]', '[      abcd]', '[   abcd   ]')"
            ]
          },
          "metadata": {},
          "execution_count": 40
        }
      ],
      "id": "pnAS0tAZv295"
    },
    {
      "cell_type": "markdown",
      "metadata": {
        "id": "bnMFeilloZ_M"
      },
      "source": [
        "# if"
      ],
      "id": "bnMFeilloZ_M"
    },
    {
      "cell_type": "code",
      "execution_count": null,
      "metadata": {
        "colab": {
          "base_uri": "https://localhost:8080/"
        },
        "id": "EVaOQDv7kI5o",
        "outputId": "acc0cf7e-1d71-4d9e-aafb-1a107dc50569"
      },
      "outputs": [
        {
          "output_type": "stream",
          "name": "stdout",
          "text": [
            "호출할 때까지 대기합니다.\n"
          ]
        }
      ],
      "source": [
        "name = ['명건', '태경', '기영', '광조']\n",
        "\n",
        "if '길동' in name :\n",
        "    print('의사쌤한테 인사합니다.')\n",
        "    \n",
        "elif name == '다원' :\n",
        "    print('주사실로 갑니다.')\n",
        "\n",
        "else : \n",
        "    print('호출할 때까지 대기합니다.')"
      ],
      "id": "EVaOQDv7kI5o"
    },
    {
      "cell_type": "markdown",
      "metadata": {
        "id": "6cAJDCllkK3r"
      },
      "source": [
        "  * 중첩 if"
      ],
      "id": "6cAJDCllkK3r"
    },
    {
      "cell_type": "code",
      "execution_count": null,
      "metadata": {
        "colab": {
          "base_uri": "https://localhost:8080/"
        },
        "id": "_qdAix8nkMQ6",
        "outputId": "2744b637-94c0-4dc9-b252-35b4022fb4d7"
      },
      "outputs": [
        {
          "output_type": "stream",
          "name": "stdout",
          "text": [
            "양수\n",
            "10보다 큰 수\n"
          ]
        }
      ],
      "source": [
        "x = 11\n",
        "\n",
        "if x > 0 : \n",
        "    print('양수')\n",
        "    \n",
        "    if x > 9 :\n",
        "        print('10보다 큰 수')\n",
        "        \n",
        "    else :\n",
        "        print('10보다 작은 수')\n",
        "        \n",
        "elif x == 0 :\n",
        "    print('0')\n",
        "    \n",
        "else :\n",
        "    print('음수')"
      ],
      "id": "_qdAix8nkMQ6"
    },
    {
      "cell_type": "markdown",
      "metadata": {
        "id": "lVnY_u84kNYr"
      },
      "source": [
        "## # 할당 연산자\n",
        "\n",
        "  * 왼쪽 변수에 오른쪽 값을 할당한다\n",
        "    - c = a + b → c = a + b\n",
        "    \n",
        "  * 왼쪽 변수에 오른쪽 값을 더하고 결과를 왼쪽변수에 할당\n",
        "    - c += a → c = c + a\n",
        "    \n",
        "  * 왼쪽 변수에서 오른쪽 값을 빼고 결과를 왼쪽변수에 할당\n",
        "    - c -= a → c = c - a\n",
        "\n",
        "  * 왼쪽 변수에 오른쪽 값을 곱하고 결과를 왼쪽변수에 할당\n",
        "    - c *= a → c = c * a\n",
        "  \n",
        "  * 왼쪽 변수에서 오른쪽 값을 나누고 결과를 왼쪽변수에 할당\n",
        "    - c /= a → c = c / a\n",
        "  \n",
        "  * 왼쪽 변수에서 오른쪽 값을 나눈 나머지의 결과를 왼쪽변수에 할당\n",
        "    - c %= a → c = c % a\n",
        "    \n",
        "  * 왼쪽 변수에 오른쪽 값만큼 제곱을 하고 결과를 왼쪽변수에 할당\n",
        "    - c **= a → c = c ** a\n",
        "    \n",
        "  * 왼쪽 변수에서 오른쪽 값을 나눈 몫의 결과를 왼쪽변수에 할당\n",
        "    - c //= a → c = c // a"
      ],
      "id": "lVnY_u84kNYr"
    },
    {
      "cell_type": "code",
      "execution_count": null,
      "metadata": {
        "colab": {
          "base_uri": "https://localhost:8080/"
        },
        "id": "Gv6FvroKkNz6",
        "outputId": "a50f3a5c-35ed-4b2c-c483-0a7811021a75"
      },
      "outputs": [
        {
          "output_type": "stream",
          "name": "stdout",
          "text": [
            "20 까지의 총 합은 210 입니다.\n"
          ]
        }
      ],
      "source": [
        "numbers = list(range(1, 21))\n",
        "\n",
        "res = 0\n",
        "\n",
        "for item in numbers :\n",
        "    res += item\n",
        "\n",
        "print(f'{ numbers[-1] } 까지의 총 합은 {res} 입니다.')"
      ],
      "id": "Gv6FvroKkNz6"
    },
    {
      "cell_type": "markdown",
      "metadata": {
        "id": "CBjXTXOekTzC"
      },
      "source": [
        "## # 짝수 표현"
      ],
      "id": "CBjXTXOekTzC"
    },
    {
      "cell_type": "code",
      "execution_count": null,
      "metadata": {
        "colab": {
          "base_uri": "https://localhost:8080/"
        },
        "id": "sawhU83ZkVU6",
        "outputId": "7a07b33e-9e20-4abb-f718-64ca407dbcda"
      },
      "outputs": [
        {
          "output_type": "stream",
          "name": "stdout",
          "text": [
            "2은 짝수\n",
            "4은 짝수\n",
            "6은 짝수\n",
            "8은 짝수\n",
            "10은 짝수\n",
            "12은 짝수\n",
            "14은 짝수\n",
            "16은 짝수\n",
            "18은 짝수\n",
            "20은 짝수\n"
          ]
        }
      ],
      "source": [
        "numbers = list(range(1, 21))\n",
        "\n",
        "for item in numbers :\n",
        "    \n",
        "    if item % 2 == 0 :\n",
        "        \n",
        "        print(f'{item}은 짝수')"
      ],
      "id": "sawhU83ZkVU6"
    },
    {
      "cell_type": "markdown",
      "metadata": {
        "id": "RGfIXkZckWeT"
      },
      "source": [
        "## # 홀수 표현"
      ],
      "id": "RGfIXkZckWeT"
    },
    {
      "cell_type": "code",
      "execution_count": null,
      "metadata": {
        "colab": {
          "base_uri": "https://localhost:8080/"
        },
        "id": "o_J6bk96kW87",
        "outputId": "d2192dc4-270c-4d15-c60b-8dcddc38d6ae"
      },
      "outputs": [
        {
          "output_type": "stream",
          "name": "stdout",
          "text": [
            "1은 홀수\n",
            "3은 홀수\n",
            "5은 홀수\n",
            "7은 홀수\n",
            "9은 홀수\n",
            "11은 홀수\n",
            "13은 홀수\n",
            "15은 홀수\n",
            "17은 홀수\n",
            "19은 홀수\n"
          ]
        }
      ],
      "source": [
        "numbers = list(range(1, 21))\n",
        "\n",
        "for item in numbers :\n",
        "    \n",
        "    if item % 2 != 0 :\n",
        "        \n",
        "        print(f'{item}은 홀수')"
      ],
      "id": "o_J6bk96kW87"
    },
    {
      "cell_type": "markdown",
      "metadata": {
        "id": "WmNaC-_2kYpK"
      },
      "source": [
        "## # break : 주어진 조건에 따라 진행을 더이상 하지 않고 그 다음 명령문으로 넘어간다."
      ],
      "id": "WmNaC-_2kYpK"
    },
    {
      "cell_type": "code",
      "execution_count": null,
      "metadata": {
        "colab": {
          "base_uri": "https://localhost:8080/"
        },
        "id": "xtSwYjlYkZ-b",
        "outputId": "da498053-9ab4-4150-cb87-8deaacf6f7ec"
      },
      "outputs": [
        {
          "output_type": "stream",
          "name": "stdout",
          "text": [
            "1은 홀수\n",
            "3은 홀수\n",
            "5은 홀수\n",
            "7은 홀수\n",
            "9은 홀수\n",
            "11은 홀수\n"
          ]
        }
      ],
      "source": [
        "# 13이상이면 탈출(break) 또는 계속(continue)\n",
        "\n",
        "numbers = list(range(1, 21))\n",
        "\n",
        "for item in numbers :\n",
        "    \n",
        "    if item > 12 :\n",
        "        break\n",
        "    \n",
        "    if item % 2 != 0 : \n",
        "        \n",
        "        print(f'{item}은 홀수')"
      ],
      "id": "xtSwYjlYkZ-b"
    },
    {
      "cell_type": "markdown",
      "metadata": {
        "id": "wO2TgFk8kbBz"
      },
      "source": [
        "## # cotinue "
      ],
      "id": "wO2TgFk8kbBz"
    },
    {
      "cell_type": "code",
      "execution_count": null,
      "metadata": {
        "colab": {
          "base_uri": "https://localhost:8080/"
        },
        "id": "timZnsjLkcHa",
        "outputId": "8cf5cf3e-12a3-45c1-dcd1-08d713783611"
      },
      "outputs": [
        {
          "output_type": "stream",
          "name": "stdout",
          "text": [
            "1은 홀수\n",
            "3은 홀수\n",
            "5은 홀수\n",
            "7은 홀수\n",
            "9은 홀수\n",
            "11은 홀수\n",
            "13은 홀수\n",
            "17은 홀수\n",
            "19은 홀수\n"
          ]
        }
      ],
      "source": [
        "numbers = list(range(1, 21))\n",
        "\n",
        "for item in numbers :\n",
        "    \n",
        "    if item == 15 :        \n",
        "        continue\n",
        "    \n",
        "    if item % 2 != 0 : \n",
        "        print(f'{item}은 홀수')"
      ],
      "id": "timZnsjLkcHa"
    },
    {
      "cell_type": "markdown",
      "metadata": {
        "id": "24UJ82_DkdCS"
      },
      "source": [
        "## # end 사용법\n",
        "  * 다음 출력 내용에 기본으로 적용되는 줄 넘기기 기능 대신에 다른 문자열을 넣을 수 있다."
      ],
      "id": "24UJ82_DkdCS"
    },
    {
      "cell_type": "code",
      "execution_count": null,
      "metadata": {
        "colab": {
          "base_uri": "https://localhost:8080/"
        },
        "id": "_hbedXd2kfE7",
        "outputId": "d8e46082-9a88-482c-8bd1-2f8b3397cffb"
      },
      "outputs": [
        {
          "output_type": "stream",
          "name": "stdout",
          "text": [
            "1-1칸 1-2칸 1-3칸\n",
            "2-1칸 2-2칸 2-3칸\n"
          ]
        }
      ],
      "source": [
        "# 예시\n",
        "\n",
        "print(\"1-1칸\",\"1-2칸\",\"1-3칸\")\n",
        "print(\"2-1칸\",\"2-2칸\",\"2-3칸\")"
      ],
      "id": "_hbedXd2kfE7"
    },
    {
      "cell_type": "code",
      "execution_count": null,
      "metadata": {
        "colab": {
          "base_uri": "https://localhost:8080/"
        },
        "id": "90uXJ26NkgCj",
        "outputId": "f0ea408a-05a9-4010-8670-fdd8d2875ef3"
      },
      "outputs": [
        {
          "output_type": "stream",
          "name": "stdout",
          "text": [
            "1-1칸 1-2칸 1-3칸ㅁ2-1칸 2-2칸 2-3칸\n"
          ]
        }
      ],
      "source": [
        "print(\"1-1칸\",\"1-2칸\",\"1-3칸\",end = \"ㅁ\")\n",
        "print(\"2-1칸\",\"2-2칸\",\"2-3칸\")"
      ],
      "id": "90uXJ26NkgCj"
    },
    {
      "cell_type": "code",
      "execution_count": null,
      "metadata": {
        "colab": {
          "base_uri": "https://localhost:8080/"
        },
        "id": "fxbnjr8skg8p",
        "outputId": "37e1e478-2354-4ec0-9906-6b767add5bd9"
      },
      "outputs": [
        {
          "output_type": "stream",
          "name": "stdout",
          "text": [
            "2단 시작\n",
            "\n",
            "2 x 1 =  2\n",
            "2 x 2 =  4\n",
            "2 x 3 =  6\n",
            "2 x 4 =  8\n",
            "2 x 5 = 10\n",
            "2 x 6 = 12\n",
            "2 x 7 = 14\n",
            "2 x 8 = 16\n",
            "2 x 9 = 18\n",
            "\n",
            "\n",
            "\n",
            "3단 시작\n",
            "\n",
            "3 x 1 =  3\n",
            "3 x 2 =  6\n",
            "3 x 3 =  9\n",
            "3 x 4 = 12\n",
            "3 x 5 = 15\n",
            "3 x 6 = 18\n",
            "3 x 7 = 21\n",
            "3 x 8 = 24\n",
            "3 x 9 = 27\n",
            "\n",
            "\n",
            "\n",
            "4단 시작\n",
            "\n",
            "4 x 1 =  4\n",
            "4 x 2 =  8\n",
            "4 x 3 = 12\n",
            "4 x 4 = 16\n",
            "4 x 5 = 20\n",
            "4 x 6 = 24\n",
            "4 x 7 = 28\n",
            "4 x 8 = 32\n",
            "4 x 9 = 36\n",
            "\n",
            "\n",
            "\n",
            "5단 시작\n",
            "\n",
            "5 x 1 =  5\n",
            "5 x 2 = 10\n",
            "5 x 3 = 15\n",
            "5 x 4 = 20\n",
            "5 x 5 = 25\n",
            "5 x 6 = 30\n",
            "5 x 7 = 35\n",
            "5 x 8 = 40\n",
            "5 x 9 = 45\n",
            "\n",
            "\n",
            "\n",
            "6단 시작\n",
            "\n",
            "6 x 1 =  6\n",
            "6 x 2 = 12\n",
            "6 x 3 = 18\n",
            "6 x 4 = 24\n",
            "6 x 5 = 30\n",
            "6 x 6 = 36\n",
            "6 x 7 = 42\n",
            "6 x 8 = 48\n",
            "6 x 9 = 54\n",
            "\n",
            "\n",
            "\n",
            "7단 시작\n",
            "\n",
            "7 x 1 =  7\n",
            "7 x 2 = 14\n",
            "7 x 3 = 21\n",
            "7 x 4 = 28\n",
            "7 x 5 = 35\n",
            "7 x 6 = 42\n",
            "7 x 7 = 49\n",
            "7 x 8 = 56\n",
            "7 x 9 = 63\n",
            "\n",
            "\n",
            "\n",
            "8단 시작\n",
            "\n",
            "8 x 1 =  8\n",
            "8 x 2 = 16\n",
            "8 x 3 = 24\n",
            "8 x 4 = 32\n",
            "8 x 5 = 40\n",
            "8 x 6 = 48\n",
            "8 x 7 = 56\n",
            "8 x 8 = 64\n",
            "8 x 9 = 72\n",
            "\n",
            "\n",
            "\n",
            "9단 시작\n",
            "\n",
            "9 x 1 =  9\n",
            "9 x 2 = 18\n",
            "9 x 3 = 27\n",
            "9 x 4 = 36\n",
            "9 x 5 = 45\n",
            "9 x 6 = 54\n",
            "9 x 7 = 63\n",
            "9 x 8 = 72\n",
            "9 x 9 = 81\n",
            "\n",
            "\n",
            "\n"
          ]
        }
      ],
      "source": [
        "# 구구단 프로그램\n",
        "# end를 안 썼을 때 \n",
        "\n",
        "for i in range(2, 10) : # 2~9단 \n",
        "    print(f'{i}단 시작')\n",
        "    print('')\n",
        "    for j in range(1, 10) : # 1~9를 곱해야 되기 때문\n",
        "        print(f'{i} x {j} = {i * j:2d}')\n",
        "    print('')\n",
        "    print('')\n",
        "    print('')"
      ],
      "id": "fxbnjr8skg8p"
    },
    {
      "cell_type": "code",
      "execution_count": null,
      "metadata": {
        "colab": {
          "base_uri": "https://localhost:8080/"
        },
        "id": "S6LItfQLki2r",
        "outputId": "f87ed86d-5c59-4081-9ad9-678d93bc9712"
      },
      "outputs": [
        {
          "output_type": "stream",
          "name": "stdout",
          "text": [
            "2단 시작\n",
            "\n",
            "2 x 1 =  2,   2 x 2 =  4,   2 x 3 =  6,   2 x 4 =  8,   2 x 5 = 10,   2 x 6 = 12,   2 x 7 = 14,   2 x 8 = 16,   2 x 9 = 18,   \n",
            "\n",
            "\n",
            "3단 시작\n",
            "\n",
            "3 x 1 =  3,   3 x 2 =  6,   3 x 3 =  9,   3 x 4 = 12,   3 x 5 = 15,   3 x 6 = 18,   3 x 7 = 21,   3 x 8 = 24,   3 x 9 = 27,   \n",
            "\n",
            "\n",
            "4단 시작\n",
            "\n",
            "4 x 1 =  4,   4 x 2 =  8,   4 x 3 = 12,   4 x 4 = 16,   4 x 5 = 20,   4 x 6 = 24,   4 x 7 = 28,   4 x 8 = 32,   4 x 9 = 36,   \n",
            "\n",
            "\n",
            "5단 시작\n",
            "\n",
            "5 x 1 =  5,   5 x 2 = 10,   5 x 3 = 15,   5 x 4 = 20,   5 x 5 = 25,   5 x 6 = 30,   5 x 7 = 35,   5 x 8 = 40,   5 x 9 = 45,   \n",
            "\n",
            "\n",
            "6단 시작\n",
            "\n",
            "6 x 1 =  6,   6 x 2 = 12,   6 x 3 = 18,   6 x 4 = 24,   6 x 5 = 30,   6 x 6 = 36,   6 x 7 = 42,   6 x 8 = 48,   6 x 9 = 54,   \n",
            "\n",
            "\n",
            "7단 시작\n",
            "\n",
            "7 x 1 =  7,   7 x 2 = 14,   7 x 3 = 21,   7 x 4 = 28,   7 x 5 = 35,   7 x 6 = 42,   7 x 7 = 49,   7 x 8 = 56,   7 x 9 = 63,   \n",
            "\n",
            "\n",
            "8단 시작\n",
            "\n",
            "8 x 1 =  8,   8 x 2 = 16,   8 x 3 = 24,   8 x 4 = 32,   8 x 5 = 40,   8 x 6 = 48,   8 x 7 = 56,   8 x 8 = 64,   8 x 9 = 72,   \n",
            "\n",
            "\n",
            "9단 시작\n",
            "\n",
            "9 x 1 =  9,   9 x 2 = 18,   9 x 3 = 27,   9 x 4 = 36,   9 x 5 = 45,   9 x 6 = 54,   9 x 7 = 63,   9 x 8 = 72,   9 x 9 = 81,   \n",
            "\n",
            "\n"
          ]
        }
      ],
      "source": [
        "# 구구단 프로그램\n",
        "# end를 썼을 떄\n",
        "\n",
        "for i in range(2, 10) : \n",
        "    \n",
        "    print(f'{i}단 시작')\n",
        "    print('')\n",
        "    \n",
        "    for j in range(1, 10) :\n",
        "        print(f'{i} x {j} = {i * j:2d}',\n",
        "              \n",
        "              end=',   ')\n",
        "        \n",
        "    print('')\n",
        "    print('')\n",
        "    print('')"
      ],
      "id": "S6LItfQLki2r"
    },
    {
      "cell_type": "markdown",
      "metadata": {
        "id": "smD6kXvxkkFb"
      },
      "source": [
        "## # sep :  출력물간 자동으로 들어가는 띄어쓰기 기능 대신에 다른 문자열을 넣을 수 있다."
      ],
      "id": "smD6kXvxkkFb"
    },
    {
      "cell_type": "code",
      "execution_count": null,
      "metadata": {
        "colab": {
          "base_uri": "https://localhost:8080/"
        },
        "id": "J9sXGYwZkmVM",
        "outputId": "4092a9f1-bea5-4cd9-8cbf-93979d77e827"
      },
      "outputs": [
        {
          "output_type": "stream",
          "name": "stdout",
          "text": [
            "1-1칸 1-2칸 1-3칸\n",
            "2-1칸 2-2칸 2-3칸\n"
          ]
        }
      ],
      "source": [
        "print(\"1-1칸\",\"1-2칸\",\"1-3칸\")\n",
        "print(\"2-1칸\",\"2-2칸\",\"2-3칸\")"
      ],
      "id": "J9sXGYwZkmVM"
    },
    {
      "cell_type": "code",
      "execution_count": null,
      "metadata": {
        "colab": {
          "base_uri": "https://localhost:8080/"
        },
        "id": "ibBKfxMGknD1",
        "outputId": "71af0ec6-7bf1-43ba-8aff-5e1fc6fac938"
      },
      "outputs": [
        {
          "output_type": "stream",
          "name": "stdout",
          "text": [
            "1-1칸 1-2칸 1-3칸\n",
            "2-1칸ㅁ2-2칸ㅁ2-3칸\n"
          ]
        }
      ],
      "source": [
        "print(\"1-1칸\",\"1-2칸\",\"1-3칸\")\n",
        "print(\"2-1칸\",\"2-2칸\",\"2-3칸\",sep = \"ㅁ\")"
      ],
      "id": "ibBKfxMGknD1"
    },
    {
      "cell_type": "markdown",
      "metadata": {
        "id": "xJqjqd21opr8"
      },
      "source": [
        "# for 문"
      ],
      "id": "xJqjqd21opr8"
    },
    {
      "cell_type": "code",
      "execution_count": null,
      "metadata": {
        "colab": {
          "base_uri": "https://localhost:8080/"
        },
        "id": "wSZAtQVqkoe7",
        "outputId": "424706ea-363c-4f9e-9489-db8ee6bc8822"
      },
      "outputs": [
        {
          "output_type": "stream",
          "name": "stdout",
          "text": [
            "[3, 6, 9, 12]\n"
          ]
        }
      ],
      "source": [
        "a = [1,2,3,4]\n",
        "\n",
        "result = [i * 3 for i in a]\n",
        "\n",
        "print(result)"
      ],
      "id": "wSZAtQVqkoe7"
    },
    {
      "cell_type": "code",
      "metadata": {
        "id": "P-2WqjxKk1FV",
        "colab": {
          "base_uri": "https://localhost:8080/"
        },
        "outputId": "023d2c67-c2b6-4cc0-abf9-f3516fa2b008"
      },
      "source": [
        "items = [(1,2),(3,4),(5,6)]\n",
        "# 한개씩 뽑아서 출력하시오\n",
        "for item in items:\n",
        "  print( item )\n",
        "# 값들을 직접 변수로 받아서 데이터를 획득하고 싶다\n",
        "# 앞에값은 필요없고, 뒤에 값만 필요하다면\n",
        "for _,b in items:\n",
        "  print( b )\n"
      ],
      "execution_count": null,
      "outputs": [
        {
          "output_type": "stream",
          "name": "stdout",
          "text": [
            "(1, 2)\n",
            "(3, 4)\n",
            "(5, 6)\n",
            "2\n",
            "4\n",
            "6\n"
          ]
        }
      ],
      "id": "P-2WqjxKk1FV"
    },
    {
      "cell_type": "code",
      "metadata": {
        "id": "0Mxsh98rk1II",
        "colab": {
          "base_uri": "https://localhost:8080/"
        },
        "outputId": "6030719f-f9b8-4fdd-8c6a-eb8894d0ad5c"
      },
      "source": [
        "# 환율 데이터\n",
        "exchanges = [\n",
        "   {\n",
        "      'code':'USD',\n",
        "      'buy':1118.11\n",
        "   },\n",
        "   {\n",
        "      'code':'EUR',\n",
        "      'buy':1318\n",
        "   }\n",
        "]\n",
        "exchanges"
      ],
      "execution_count": null,
      "outputs": [
        {
          "output_type": "execute_result",
          "data": {
            "text/plain": [
              "[{'buy': 1118.11, 'code': 'USD'}, {'buy': 1318, 'code': 'EUR'}]"
            ]
          },
          "metadata": {},
          "execution_count": 28
        }
      ],
      "id": "0Mxsh98rk1II"
    },
    {
      "cell_type": "code",
      "metadata": {
        "id": "iHtcW7Vdn4Tx",
        "colab": {
          "base_uri": "https://localhost:8080/"
        },
        "outputId": "74cc9a29-af15-4ba7-de6f-ba5495e00ceb"
      },
      "source": [
        "# 데이터를 돌면서, \n",
        "# ex) \"USD를 구매할때, 한화로 1318원이 필요합니다.\" 이렇게 출력\n",
        "for exchange in exchanges:\n",
        "  # 딕셔너리에서 키를 넣어서 값을 추출 => 인덱싱\n",
        "  # 인덱싱 => 변수[ 키 ]\n",
        "  # 문자열이나 코드가 길어져서 내려친다면 \\ 표현하여 이어짐을 표시\n",
        "  print( f\"{ exchange[ 'code' ] }를 구매할때, \\\n",
        "  한화로 {exchange[ 'buy' ]}원이 필요합니다.\" )"
      ],
      "execution_count": null,
      "outputs": [
        {
          "output_type": "stream",
          "name": "stdout",
          "text": [
            "USD를 구매할때,   한화로 1118.11원이 필요합니다.\n",
            "EUR를 구매할때,   한화로 1318원이 필요합니다.\n"
          ]
        }
      ],
      "id": "iHtcW7Vdn4Tx"
    },
    {
      "cell_type": "code",
      "metadata": {
        "id": "GrLW7flGrzQu",
        "colab": {
          "base_uri": "https://localhost:8080/"
        },
        "outputId": "000999e5-2897-4f54-c047-e15f054a81db"
      },
      "source": [
        "exchanges[0]"
      ],
      "execution_count": null,
      "outputs": [
        {
          "output_type": "execute_result",
          "data": {
            "text/plain": [
              "{'buy': 1118.11, 'code': 'USD'}"
            ]
          },
          "metadata": {},
          "execution_count": 30
        }
      ],
      "id": "GrLW7flGrzQu"
    },
    {
      "cell_type": "code",
      "metadata": {
        "id": "j3mQ-7aXk1KW",
        "colab": {
          "base_uri": "https://localhost:8080/"
        },
        "outputId": "4d2d5a3c-5a28-4109-eaa8-4074d8cbe38d"
      },
      "source": [
        "# 딕셔너리 데이터를 for으로 사용해 본다면\n",
        "# 키값이 뽑인다\n",
        "for dic in exchanges[0]:\n",
        "  print( dic )"
      ],
      "execution_count": null,
      "outputs": [
        {
          "output_type": "stream",
          "name": "stdout",
          "text": [
            "code\n",
            "buy\n"
          ]
        }
      ],
      "id": "j3mQ-7aXk1KW"
    },
    {
      "cell_type": "code",
      "metadata": {
        "id": "uyc1Au6mk1M5",
        "colab": {
          "base_uri": "https://localhost:8080/"
        },
        "outputId": "65788697-2b11-40de-862a-c26bd6978c4f"
      },
      "source": [
        "for key in exchanges[0]:\n",
        "  # 값을 출력하고 싶다면\n",
        "  print( exchanges[0][ key ] )"
      ],
      "execution_count": null,
      "outputs": [
        {
          "output_type": "stream",
          "name": "stdout",
          "text": [
            "USD\n",
            "1118.11\n"
          ]
        }
      ],
      "id": "uyc1Au6mk1M5"
    },
    {
      "cell_type": "code",
      "metadata": {
        "id": "N3CeJUrcsgcX",
        "colab": {
          "base_uri": "https://localhost:8080/"
        },
        "outputId": "df0dda82-b11d-41ee-f89c-2d3caa705884"
      },
      "source": [
        "tmp = exchanges[0]\n",
        "for key in tmp:\n",
        "  # 값을 출력하고 싶다면\n",
        "  print( tmp[ key ] )"
      ],
      "execution_count": null,
      "outputs": [
        {
          "output_type": "stream",
          "name": "stdout",
          "text": [
            "USD\n",
            "1118.11\n"
          ]
        }
      ],
      "id": "N3CeJUrcsgcX"
    },
    {
      "cell_type": "code",
      "metadata": {
        "id": "8Ad-xDdjtNnH",
        "colab": {
          "base_uri": "https://localhost:8080/"
        },
        "outputId": "c0c704a8-be57-483c-9769-1f99f59ebbdc"
      },
      "source": [
        "tmp.items()\n",
        "# [  (키,값), (키,값),... ]"
      ],
      "execution_count": null,
      "outputs": [
        {
          "output_type": "execute_result",
          "data": {
            "text/plain": [
              "dict_items([('code', 'USD'), ('buy', 1118.11)])"
            ]
          },
          "metadata": {},
          "execution_count": 34
        }
      ],
      "id": "8Ad-xDdjtNnH"
    },
    {
      "cell_type": "code",
      "metadata": {
        "id": "0bsXD6Kls2eZ",
        "colab": {
          "base_uri": "https://localhost:8080/"
        },
        "outputId": "f3b3b647-db40-448e-8fd9-81ef4fc249c5"
      },
      "source": [
        "# 딕셔너리 값을 좀더 심플하게, 키와 값을 추출해 본다\n",
        "tmp\n",
        "for k,v in tmp.items():\n",
        "  print( k, v )\n"
      ],
      "execution_count": null,
      "outputs": [
        {
          "output_type": "stream",
          "name": "stdout",
          "text": [
            "code USD\n",
            "buy 1118.11\n"
          ]
        }
      ],
      "id": "0bsXD6Kls2eZ"
    },
    {
      "cell_type": "code",
      "metadata": {
        "id": "KX6APmevuGAa"
      },
      "source": [
        "# 만약 딕셔너리 데이터에서 인덱스를 사용하고 싶다면\n",
        "# n개의 데이터를 같이 반복문에서 사용할경우\n",
        "# enumerate() : 내장함수, 인덱스를 부여하여 맴버를 추출"
      ],
      "execution_count": null,
      "outputs": [],
      "id": "KX6APmevuGAa"
    },
    {
      "cell_type": "code",
      "metadata": {
        "id": "Zp_csSLmxfWI",
        "colab": {
          "base_uri": "https://localhost:8080/"
        },
        "outputId": "d764282d-1f78-4116-cc41-abd942f17a3d"
      },
      "source": [
        "# 딕셔너리는 순서가 없기 때문에 키가 나오는 순서대로 \n",
        "# 임의로 인덱스를 붙인다(0, 1, 2, ...)\n",
        "for index, key in enumerate(tmp):  \n",
        "  print( index, key, tmp[ key ])\n",
        "  #print( key, tmp[ key ] )"
      ],
      "execution_count": null,
      "outputs": [
        {
          "output_type": "stream",
          "name": "stdout",
          "text": [
            "0 code USD\n",
            "1 buy 1118.11\n"
          ]
        }
      ],
      "id": "Zp_csSLmxfWI"
    },
    {
      "cell_type": "markdown",
      "metadata": {
        "id": "ZIdC-q15kpVU"
      },
      "source": [
        "## # append 문"
      ],
      "id": "ZIdC-q15kpVU"
    },
    {
      "cell_type": "code",
      "execution_count": null,
      "metadata": {
        "colab": {
          "base_uri": "https://localhost:8080/"
        },
        "id": "26pem5x5kqFT",
        "outputId": "34d998a2-917a-45c3-a344-2996d9a27357"
      },
      "outputs": [
        {
          "output_type": "stream",
          "name": "stdout",
          "text": [
            "[3, 6, 9, 12]\n"
          ]
        }
      ],
      "source": [
        "t = []\n",
        "\n",
        "for i in a :\n",
        "    \n",
        "    t.append(i*3)\n",
        "    \n",
        "print(t)"
      ],
      "id": "26pem5x5kqFT"
    },
    {
      "cell_type": "markdown",
      "metadata": {
        "id": "TrDOpVTzkq7L"
      },
      "source": [
        "## # def : 함수 선언"
      ],
      "id": "TrDOpVTzkq7L"
    },
    {
      "cell_type": "code",
      "execution_count": null,
      "metadata": {
        "colab": {
          "base_uri": "https://localhost:8080/"
        },
        "id": "Z5Qwzcp0ksTb",
        "outputId": "289e898a-1c6f-4331-af76-8d790009cbee"
      },
      "outputs": [
        {
          "output_type": "stream",
          "name": "stdout",
          "text": [
            "29110\n"
          ]
        }
      ],
      "source": [
        "# 더하기 함수 선언\n",
        "\n",
        "def add(a, b) : \n",
        "    res = a + b\n",
        "\n",
        "    return res\n",
        "\n",
        "# 함수 사용\n",
        "\n",
        "print(add(24786, 4324))"
      ],
      "id": "Z5Qwzcp0ksTb"
    },
    {
      "cell_type": "markdown",
      "metadata": {
        "id": "YJQFCa86ktfE"
      },
      "source": [
        "  * 매개변수를 지정하는 경우"
      ],
      "id": "YJQFCa86ktfE"
    },
    {
      "cell_type": "code",
      "execution_count": null,
      "metadata": {
        "colab": {
          "base_uri": "https://localhost:8080/"
        },
        "id": "bRlt-4CPkuMG",
        "outputId": "abfa4a94-30a9-42f2-900f-97c2f413bb64"
      },
      "outputs": [
        {
          "output_type": "execute_result",
          "data": {
            "text/plain": [
              "18"
            ]
          },
          "metadata": {},
          "execution_count": 61
        }
      ],
      "source": [
        "def multi(a, b) :\n",
        "    return a * b\n",
        "\n",
        "multi(2, 9)"
      ],
      "id": "bRlt-4CPkuMG"
    },
    {
      "cell_type": "markdown",
      "metadata": {
        "id": "lJtngEpTkvPj"
      },
      "source": [
        "  * 매개변수 개수가 가변적일 때"
      ],
      "id": "lJtngEpTkvPj"
    },
    {
      "cell_type": "code",
      "execution_count": null,
      "metadata": {
        "colab": {
          "base_uri": "https://localhost:8080/"
        },
        "id": "DPoqNqoKkxBq",
        "outputId": "23cef729-c104-4dd4-9b5c-961b100c3ff6"
      },
      "outputs": [
        {
          "output_type": "stream",
          "name": "stdout",
          "text": [
            "6\n",
            "15\n",
            "55\n"
          ]
        }
      ],
      "source": [
        "def plus(*args) :\n",
        "    \n",
        "    res = 0\n",
        "\n",
        "    for i in args :\n",
        "        res += i\n",
        "\n",
        "    return res\n",
        "\n",
        "print(plus(1,2,3))\n",
        "print(plus(1,2,3,4,5))\n",
        "print(plus(1,2,3,4,5,6,7,8,9,10))"
      ],
      "id": "DPoqNqoKkxBq"
    },
    {
      "cell_type": "markdown",
      "metadata": {
        "id": "3f_T9XxnkyKz"
      },
      "source": [
        "  * 리턴값이 두 개 이상"
      ],
      "id": "3f_T9XxnkyKz"
    },
    {
      "cell_type": "code",
      "execution_count": null,
      "metadata": {
        "colab": {
          "base_uri": "https://localhost:8080/"
        },
        "id": "RR35uFDskzBb",
        "outputId": "2a75c5c5-78e6-41d0-8813-272eeff2d4f4"
      },
      "outputs": [
        {
          "output_type": "stream",
          "name": "stdout",
          "text": [
            "56 0.875\n"
          ]
        }
      ],
      "source": [
        "def mul_and_div(x, y) : \n",
        "    \n",
        "    mul = x * y\n",
        "    \n",
        "    div = x / y\n",
        "\n",
        "    return (mul, div)\n",
        "\n",
        "(res1, res2) = mul_and_div(7,8)\n",
        "\n",
        "print(res1, res2)"
      ],
      "id": "RR35uFDskzBb"
    },
    {
      "cell_type": "code",
      "execution_count": null,
      "metadata": {
        "colab": {
          "base_uri": "https://localhost:8080/"
        },
        "id": "aSpYV5ebk0X7",
        "outputId": "6b810aab-932a-412c-ef9b-322212a20454"
      },
      "outputs": [
        {
          "output_type": "stream",
          "name": "stdout",
          "text": [
            "14 4 45 1.8\n"
          ]
        }
      ],
      "source": [
        "# 사칙연산\n",
        "\n",
        "def 사칙연산(x, y) :\n",
        "    return (x+y, x-y, x*y, x/y)\n",
        "\n",
        "res1, res2, res3, res4 = 사칙연산(9,5)\n",
        "\n",
        "print(res1, res2, res3, res4)"
      ],
      "id": "aSpYV5ebk0X7"
    },
    {
      "cell_type": "markdown",
      "metadata": {
        "id": "tpCAep-Ok19D"
      },
      "source": [
        "## # while\n",
        "  * for 와 차이 : while은 조건이 참인 동안에 반복"
      ],
      "id": "tpCAep-Ok19D"
    },
    {
      "cell_type": "code",
      "execution_count": null,
      "metadata": {
        "colab": {
          "base_uri": "https://localhost:8080/"
        },
        "id": "PLIzYvxqk4Tu",
        "outputId": "7f6d5a39-6588-4462-b9f1-89e4178a6679"
      },
      "outputs": [
        {
          "output_type": "stream",
          "name": "stdout",
          "text": [
            "나무를 1번 찍습니다.\n",
            "나무를 2번 찍습니다.\n",
            "나무를 3번 찍습니다.\n",
            "나무를 4번 찍습니다.\n",
            "나무를 5번 찍습니다.\n",
            "나무를 6번 찍습니다.\n",
            "나무를 7번 찍습니다.\n",
            "나무를 8번 찍습니다.\n",
            "나무를 9번 찍습니다.\n",
            "나무를 10번 찍습니다.\n"
          ]
        }
      ],
      "source": [
        "hit = 0\n",
        "\n",
        "while hit < 10 :\n",
        "    hit = hit + 1\n",
        "\n",
        "    print(f'나무를 {hit}번 찍습니다.')"
      ],
      "id": "PLIzYvxqk4Tu"
    },
    {
      "cell_type": "markdown",
      "metadata": {
        "id": "XaILUEogk5Mb"
      },
      "source": [
        "  * while을 for문으로 바꾸기"
      ],
      "id": "XaILUEogk5Mb"
    },
    {
      "cell_type": "code",
      "execution_count": null,
      "metadata": {
        "colab": {
          "base_uri": "https://localhost:8080/"
        },
        "id": "M4rmUFptk6Sa",
        "outputId": "8260023c-d78b-4c83-cf18-b7f0d72d8c85"
      },
      "outputs": [
        {
          "output_type": "stream",
          "name": "stdout",
          "text": [
            "나무를 1번 찍습니다.\n",
            "나무를 2번 찍습니다.\n",
            "나무를 3번 찍습니다.\n",
            "나무를 4번 찍습니다.\n",
            "나무를 5번 찍습니다.\n",
            "나무를 6번 찍습니다.\n",
            "나무를 7번 찍습니다.\n",
            "나무를 8번 찍습니다.\n",
            "나무를 9번 찍습니다.\n",
            "나무를 10번 찍습니다.\n"
          ]
        }
      ],
      "source": [
        "for hit in range(0,100) :\n",
        "    if hit > 9 :\n",
        "        break\n",
        "\n",
        "    print(f'나무를 {hit+1}번 찍습니다.')"
      ],
      "id": "M4rmUFptk6Sa"
    },
    {
      "cell_type": "markdown",
      "metadata": {
        "id": "oa1ZyP5Poymb"
      },
      "source": [
        "# input 함수"
      ],
      "id": "oa1ZyP5Poymb"
    },
    {
      "cell_type": "markdown",
      "metadata": {
        "id": "ifPyVdFPpR-6"
      },
      "source": [
        "input 함수가 있어서 이 후 코드가 실행되지 않아서 일단 문자열 처리\n",
        "\n",
        "val = 0\n",
        "\n",
        "print('회원정보 프로그램')\n",
        "\n",
        "while True :\n",
        "\n",
        "    print(''' \n",
        "번호를 입력하세요.\n",
        "\n",
        "1. 회원입력\n",
        "2. 회원검색\n",
        "3. 회원수정\n",
        "4. 회원삭제\n",
        "5. 종료\n",
        "숫자입력 : \n",
        "''', end='')\n",
        "    \n",
        "    val = int(input()) # 입력\n",
        "\n",
        "    if val == 1 :\n",
        "        print('회원정보 입력화면으로 전환')\n",
        "        \n",
        "    elif val == 2 :\n",
        "        print('회원검색 화면으로 전환')\n",
        "        \n",
        "    elif val == 3 :\n",
        "        print('회원수정 화면으로 전환')\n",
        "        \n",
        "    elif val == 4 :\n",
        "        print('회원삭제 화면으로 전환')\n",
        "        \n",
        "    elif val == 5 :\n",
        "        break\n",
        "        \n",
        "    else :\n",
        "        print('1~5 사이 수를 입력하세요')\n",
        "        continue\n",
        "        \n",
        "    print('')\n",
        "\n",
        "print('회원정보 프로그램 종료')"
      ],
      "id": "ifPyVdFPpR-6"
    },
    {
      "cell_type": "markdown",
      "metadata": {
        "id": "b98EHD6Ppcsv"
      },
      "source": [
        "# 파일 불러오기"
      ],
      "id": "b98EHD6Ppcsv"
    },
    {
      "cell_type": "markdown",
      "metadata": {
        "id": "ae3a48ce"
      },
      "source": [
        "## # csv 파일 풀러오기"
      ],
      "id": "ae3a48ce"
    },
    {
      "cell_type": "code",
      "execution_count": null,
      "metadata": {
        "colab": {
          "base_uri": "https://localhost:8080/",
          "height": 245
        },
        "id": "ce5a3918",
        "outputId": "aca84162-59b6-4f99-f879-7ce5e3b618ae"
      },
      "outputs": [
        {
          "output_type": "error",
          "ename": "FileNotFoundError",
          "evalue": "ignored",
          "traceback": [
            "\u001b[0;31m---------------------------------------------------------------------------\u001b[0m",
            "\u001b[0;31mFileNotFoundError\u001b[0m                         Traceback (most recent call last)",
            "\u001b[0;32m<ipython-input-67-1e937078aaf9>\u001b[0m in \u001b[0;36m<module>\u001b[0;34m()\u001b[0m\n\u001b[1;32m      3\u001b[0m \u001b[0mfile_name\u001b[0m \u001b[0;34m=\u001b[0m \u001b[0;34m'/content/drive/MyDrive/Colab Notebooks/python 정리/data_python 정리.ipynb/부산버스정보.csv'\u001b[0m\u001b[0;34m\u001b[0m\u001b[0;34m\u001b[0m\u001b[0m\n\u001b[1;32m      4\u001b[0m \u001b[0;34m\u001b[0m\u001b[0m\n\u001b[0;32m----> 5\u001b[0;31m \u001b[0mf\u001b[0m \u001b[0;34m=\u001b[0m \u001b[0mopen\u001b[0m\u001b[0;34m(\u001b[0m\u001b[0mfile_name\u001b[0m\u001b[0;34m,\u001b[0m \u001b[0mmode\u001b[0m\u001b[0;34m=\u001b[0m\u001b[0;34m'r'\u001b[0m\u001b[0;34m,\u001b[0m \u001b[0mencoding\u001b[0m\u001b[0;34m=\u001b[0m\u001b[0;34m'utf-8'\u001b[0m\u001b[0;34m)\u001b[0m\u001b[0;34m\u001b[0m\u001b[0;34m\u001b[0m\u001b[0m\n\u001b[0m\u001b[1;32m      6\u001b[0m \u001b[0;34m\u001b[0m\u001b[0m\n\u001b[1;32m      7\u001b[0m \u001b[0mreader\u001b[0m \u001b[0;34m=\u001b[0m \u001b[0mcsv\u001b[0m\u001b[0;34m.\u001b[0m\u001b[0mreader\u001b[0m\u001b[0;34m(\u001b[0m\u001b[0mf\u001b[0m\u001b[0;34m,\u001b[0m \u001b[0mdelimiter\u001b[0m\u001b[0;34m=\u001b[0m\u001b[0;34m','\u001b[0m\u001b[0;34m)\u001b[0m  \u001b[0;31m# delimiter 는 구분자. 보통은 쉼표\u001b[0m\u001b[0;34m\u001b[0m\u001b[0;34m\u001b[0m\u001b[0m\n",
            "\u001b[0;31mFileNotFoundError\u001b[0m: [Errno 2] No such file or directory: '/content/drive/MyDrive/Colab Notebooks/python 정리/data_python 정리.ipynb/부산버스정보.csv'"
          ]
        }
      ],
      "source": [
        "import csv\n",
        "\n",
        "file_name = '/content/drive/MyDrive/Colab Notebooks/python 정리/data_python 정리.ipynb/부산버스정보.csv'\n",
        "\n",
        "f = open(file_name, mode='r', encoding='utf-8')\n",
        "\n",
        "reader = csv.reader(f, delimiter=',')  # delimiter 는 구분자. 보통은 쉼표\n",
        "\n",
        "next(reader) # 헤더(파일의 맨 첫줄)를 없애는 역할\n",
        "\n",
        "for line in reader :\n",
        "    print(line)\n",
        "\n",
        "f.close()"
      ],
      "id": "ce5a3918"
    },
    {
      "cell_type": "code",
      "execution_count": null,
      "metadata": {
        "id": "-DjIGzWVxaoL"
      },
      "outputs": [],
      "source": [
        "from google.colab import drive\n",
        "drive.mount('/content/drive')"
      ],
      "id": "-DjIGzWVxaoL"
    },
    {
      "cell_type": "markdown",
      "metadata": {
        "id": "2dhZbof3stGo"
      },
      "source": [
        "### # 인코딩 오류\n",
        "* 인코딩 오류가 나오면 csv 파일을 메모장으로 열어서 다른 이름으로 저장할 때 'uft-8'로 저장한다."
      ],
      "id": "2dhZbof3stGo"
    },
    {
      "cell_type": "markdown",
      "metadata": {
        "id": "T2maqzBkpkB3"
      },
      "source": [
        "# try, except\n",
        "  * 예외(exception)란 코드를 실행하는 중에 발생한 에러\n",
        "    - 예) 어떤 숫자를 0으로 나누어서 나타나는 예외를 'ZeroDivisionError'라고 파이썬에서 출력한다.\n",
        "    - AttributeError, NameError, TypeError 등 다양한 에러들도 모두 예외\n",
        "  * 그럼 모든 try, except를 적어두는 게 좋지 않나 생각할 수 있지만, 그렇게 되면 이 연산의 성능이 떨어진다."
      ],
      "id": "T2maqzBkpkB3"
    },
    {
      "cell_type": "code",
      "execution_count": null,
      "metadata": {
        "id": "7ce37a35"
      },
      "outputs": [],
      "source": [
        "def add(a,b) :\n",
        "    return a + b\n",
        "def minus(a,b) :\n",
        "    return a - b\n",
        "def multi(a,b) :\n",
        "    return a * b\n",
        "def divide(a,b) :\n",
        "    return a / b\n",
        "print('사칙연산 시작')\n",
        "\n",
        "a, b = 4, 1\n",
        "\n",
        "numbers = [3,6,9] # 리스트 생성\n",
        "\n",
        "try :\n",
        "    print(f'나누기 결과 : {divide(a,b)}')\n",
        "    res = int(numbers[3]) * 8\n",
        "    \n",
        "except ZeroDivisionError as e:\n",
        "    print(f'나누기 예외. 추가처리1 {e}')\n",
        "    \n",
        "except IndexError as e :\n",
        "    print(f'인덱스 에외. 추가처리2 {e}')\n",
        "    \n",
        "except Exception as e :\n",
        "    print(f'알 수 없는 예외. 추가처리 5 {e}')\n",
        "    \n",
        "finally : # 예외 발생 여부와 상관없이 결과 출력. 반드시 실행해야 하는 close() 명령문에 잘 쓰인다.\n",
        "    print(f'곱하기기 결과 : {multi(a,b)}')\n",
        "    print(f'빼기 결과 : {minus(a,b)}')\n",
        "    print(f'더하기 결과 : {add(a,b)}')\n",
        "\n",
        "print('사칙연산 종료')"
      ],
      "id": "7ce37a35"
    },
    {
      "cell_type": "markdown",
      "metadata": {
        "id": "VEAiI657qARr"
      },
      "source": [
        "# # 웹 크롤링\n",
        "  * 값이 '200'이 나오면 페이지를 찾았다는 뜻"
      ],
      "id": "VEAiI657qARr"
    },
    {
      "cell_type": "code",
      "execution_count": null,
      "metadata": {
        "id": "e4d7a265"
      },
      "outputs": [],
      "source": [
        "from urllib.request import Request, urlopen\n",
        "\n",
        "req = Request('http://www.naver.com')\n",
        "\n",
        "res = urlopen(req)\n",
        "\n",
        "print(res.status) "
      ],
      "id": "e4d7a265"
    },
    {
      "cell_type": "markdown",
      "metadata": {
        "id": "-VFEVt9iu8ZI"
      },
      "source": [
        "## 사용되는 라이브러리"
      ],
      "id": "-VFEVt9iu8ZI"
    },
    {
      "cell_type": "code",
      "execution_count": null,
      "metadata": {
        "id": "EPO8PyJJvCIY"
      },
      "outputs": [],
      "source": [
        "from bs4 import BeautifulSoup as bs\n",
        "from pprint import pprint\n",
        "import requests"
      ],
      "id": "EPO8PyJJvCIY"
    },
    {
      "cell_type": "markdown",
      "metadata": {
        "id": "uSqxhJdDveeH"
      },
      "source": [
        "## 수집하고자 하는 사이트 URL을 이용하여 Tag 가지고 오기"
      ],
      "id": "uSqxhJdDveeH"
    },
    {
      "cell_type": "code",
      "execution_count": null,
      "metadata": {
        "id": "Q5IDeWp4vFBP"
      },
      "outputs": [],
      "source": [
        "site_url = \"https://search.naver.com/search.naver?query=날씨\"\n",
        "html = requests.get(site_url)\n",
        "\n",
        "\n",
        "# html.text\n",
        "\n",
        "soup = bs(html.text, \"html.parser\")\n",
        "soup"
      ],
      "id": "Q5IDeWp4vFBP"
    },
    {
      "cell_type": "markdown",
      "metadata": {
        "id": "vp6hB7nEvjY6"
      },
      "source": [
        "## 태그를 이용해서 데이터 추출하기"
      ],
      "id": "vp6hB7nEvjY6"
    },
    {
      "cell_type": "code",
      "execution_count": null,
      "metadata": {
        "id": "mc-8zFlfvKUh"
      },
      "outputs": [],
      "source": [
        "dustdata_one = soup.find(\"div\", {\"class\" : \"scroll_box\"})\n",
        "\n",
        "dustdata_one"
      ],
      "id": "mc-8zFlfvKUh"
    },
    {
      "cell_type": "code",
      "execution_count": null,
      "metadata": {
        "id": "ophvJG24vNau"
      },
      "outputs": [],
      "source": [
        "dustdata_all = dustdata_one.findAll(\"dd\", {\"class\" : \"weather_box\"})\n",
        "dustdata_all"
      ],
      "id": "ophvJG24vNau"
    },
    {
      "cell_type": "code",
      "execution_count": null,
      "metadata": {
        "id": "7JUPtEz0vR1Y"
      },
      "outputs": [],
      "source": [
        "fine_dust_code = dustdata_all[0].find(\"span\", {\"class\", \"blind\"})\n",
        "fine_dust_code"
      ],
      "id": "7JUPtEz0vR1Y"
    },
    {
      "cell_type": "code",
      "execution_count": null,
      "metadata": {
        "id": "YsGvQgGivUjg"
      },
      "outputs": [],
      "source": [
        "fine_dust_code_text = dustdata_all[0].find(\"span\", {\"class\", \"blind\"}).text\n",
        "\n",
        "fine_dust_code_text"
      ],
      "id": "YsGvQgGivUjg"
    },
    {
      "cell_type": "code",
      "execution_count": null,
      "metadata": {
        "id": "jnEW-8plvXlv"
      },
      "outputs": [],
      "source": [
        "for i in range(0, len(dustdata_all) -1 ) :\n",
        "    fine_dust_code_text = dustdata_all[i].find(\"span\", {\"class\", \"blind\"}).text\n",
        "    print(fine_dust_code_text)"
      ],
      "id": "jnEW-8plvXlv"
    },
    {
      "cell_type": "markdown",
      "metadata": {
        "id": "E5xLZa_dqEgk"
      },
      "source": [
        "# StudyPython/day5/ : 파이썬에서 oracle을 사용하는 방법\n",
        "  * 폴더 정리는 나중에 책으로 한 번 더"
      ],
      "id": "E5xLZa_dqEgk"
    },
    {
      "cell_type": "markdown",
      "metadata": {
        "id": "998a26aa"
      },
      "source": [
        "# # class(클래스)"
      ],
      "id": "998a26aa"
    },
    {
      "cell_type": "markdown",
      "metadata": {
        "id": "9f54a3d2"
      },
      "source": [
        "## ## 뜻\n",
        "  * 클래스는 class에 클래스 이름을 지정하고 :(콜론)을 붙인 뒤 \n",
        "    - 클래스 이름을 짓는 방법은 변수와 같습니다. 보통 파이썬에서는 클래스의 이름은 대문자로 시작합니다. \n",
        "  * 다음 줄부터 def로 메서드를 작성하면 됩니다.\n",
        "    - 메서드 : 클래스 안에 들어있는 함수\n",
        "      + 메서드 작성 방법은 함수와 같으며 코드는 반드시 들여쓰기를 해야 합니다(들여쓰기 규칙은 if, for, while과 같습니다).\n",
        "      + 특히 메서드의 첫 번째 매개변수는 반드시 self를 지정해야 합니다."
      ],
      "id": "9f54a3d2"
    },
    {
      "cell_type": "code",
      "execution_count": null,
      "metadata": {
        "id": "68dd59e3"
      },
      "outputs": [],
      "source": [
        "class Person:\n",
        "     def greeting(self):\n",
        "         print('Hello')"
      ],
      "id": "68dd59e3"
    },
    {
      "cell_type": "markdown",
      "metadata": {
        "id": "035603be"
      },
      "source": [
        "  *  클래스에 ()(괄호)를 붙인 뒤 변수에 할당\n",
        "    - 클래스는 특정 개념을 표현만 할뿐 사용을 하려면 인스턴스를 생성해야 합니다."
      ],
      "id": "035603be"
    },
    {
      "cell_type": "code",
      "execution_count": null,
      "metadata": {
        "id": "db707f51"
      },
      "outputs": [],
      "source": [
        "# Person으로 변수 james를 만들었는데 이 james가 Person의 인스턴스(instance)입니다. \n",
        "\n",
        "james = Person()"
      ],
      "id": "db707f51"
    },
    {
      "cell_type": "markdown",
      "metadata": {
        "id": "cc9a98fb"
      },
      "source": [
        "  * 메서드는 클래스가 아니라 인스턴스를 통해 호출"
      ],
      "id": "cc9a98fb"
    },
    {
      "cell_type": "code",
      "execution_count": null,
      "metadata": {
        "id": "fbdab09f"
      },
      "outputs": [],
      "source": [
        "#  다음과 같이 인스턴스 뒤에 .(점)을 붙이고 메서드를 호출\n",
        "\n",
        "james.greeting()"
      ],
      "id": "fbdab09f"
    },
    {
      "cell_type": "markdown",
      "metadata": {
        "id": "923d98bf"
      },
      "source": [
        "  * int, list, dict 등도 사실 클래스"
      ],
      "id": "923d98bf"
    },
    {
      "cell_type": "code",
      "execution_count": null,
      "metadata": {
        "id": "8e462d9f"
      },
      "outputs": [],
      "source": [
        "# int 클래스에 10을 넣어서 인스턴스 a를 만들었습니다.\n",
        "\n",
        "a = int(10)\n",
        "\n",
        "a"
      ],
      "id": "8e462d9f"
    },
    {
      "cell_type": "markdown",
      "source": [
        "## ## 개요\n",
        "  * s/w 개발 방식\n",
        "    - 절차적 프로그래밍\n",
        "      + C/C++, python, javascript ...\n",
        "        * 코드의 재사용성을 구현하기 힘들다.\n",
        "    - 함수 지향적 프로그래밍\n",
        "      + 절차적(타입, 자료구조, 조건/제어/반복문) + 함수\n",
        "      + C/C++, python, javascript ...\n",
        "        * 코드의 재사용성 가능, 생산성 증가, 구조적 개발\n",
        "        * 최근 다시 유행하고 있다(리엑트)\n",
        "    - 객채 지향적 프로그래밍\n",
        "      + C++, java, python, javascript, kotlin, swift, scalar\n",
        "      + 절차적 + 함수 + calss 개념\n",
        "        * 객체 지향 프로그래밍\n",
        "          - 상속성, 다형성, 은닉성 3가지 특성이 있어야 한다.\n",
        "          - GUI 프로그램(윈도우 프로그램) \n",
        "            + [pyQT5](https://wikidocs.net/21849)\n",
        "            + [exe](https://www.google.com/search?q=python+exe&newwindow=1&rlz=1C1CHBD_koKR988KR988&sxsrf=APq-WBs0Vo_G56ETMaye4cuX_MVLxyS0AQ%3A1650933137313&ei=kT1nYv7gEoqG-AaMuJfwBQ&ved=0ahUKEwi-7cmZvbD3AhUKA94KHQzcBV4Q4dUDCA4&uact=5&oq=python+exe&gs_lcp=Cgdnd3Mtd2l6EAMyCggAEIAEEIcCEBQyBQgAEIAEMgsIABCABBCxAxCDATIFCAAQgAQyBQgAEIAEMgUIABCABDIFCAAQgAQyBQgAEIAEMgUIABCABDIFCAAQgAQ6BAgjECc6BAgAEEM6CggAELEDEIMBEENKBAhBGABKBAhGGABQAFjCDGCjDmgAcAF4AIABqQGIAeMIkgEDMi44mAEAoAEBwAEB&sclient=gws-wiz)"
      ],
      "metadata": {
        "id": "ay04GG9kQcs4"
      },
      "id": "ay04GG9kQcs4"
    },
    {
      "cell_type": "markdown",
      "source": [
        "## ## 개념\n",
        "  * entity(개체)\n",
        "    - 이 세상에 존재하는 모든 개념(무형), 실존하는 것(유형)\n",
        "    - 이런 entity를 컴퓨터 사이언스, 프로그램밍 세상에 entity를 표현하기 위해서는 도구가 필요 => class라는 문법(표현도구)을 가지고 구현\n",
        "  * class\n",
        "    - 문법이 존재, 엔티티를 표현하는 도구\n",
        "    - 클래스를 작성 -> 실행 -> 클래스 생성자를 호출\n",
        "    - 클래스의 모습을 본딴 형태로 메모리에 뭔가가 상주하게 된다. -> 객체(object)\n",
        "    - 클래스의 인스턴스를 객체라고 부른다.\n",
        "      + 여러 개 만들 수 있다.\n",
        "    - 객체의 청사진은 클래스라고 부른다.\n",
        "  * object\n",
        "    - 프로그램이 작동하면 메모리상에 존재\n",
        "    - 메모리 상에 존재하니까, 주소가 존재 (0x7123412lk3n)\n",
        "    - 특정 변수가 그 객체를 받아주면 이제부터 그 변수를 xxx 객체라고 부른다.\n",
        "      + 정확하게는 특정 변수가 주소 0x7123412lk3n를 가진 객체를 가르킨다.(특정 객체를 가리키는 주소를 가진다.)"
      ],
      "metadata": {
        "id": "ITe-i1B3QZPZ"
      },
      "id": "ITe-i1B3QZPZ"
    },
    {
      "cell_type": "markdown",
      "source": [
        "## ## Object\n",
        "  * 모든 클래스(이미 만들어져 있거나, 내가 만들거나)의 부모 클래스이다."
      ],
      "metadata": {
        "id": "mqBAdhsPVtkm"
      },
      "id": "mqBAdhsPVtkm"
    },
    {
      "cell_type": "markdown",
      "source": [
        "## ## 문법"
      ],
      "metadata": {
        "id": "R6e6iN1Xgfx9"
      },
      "id": "R6e6iN1Xgfx9"
    },
    {
      "cell_type": "code",
      "source": [
        "# 클레스 정의\n",
        "class Person :\n",
        "  pass\n",
        "\n",
        "# 클래스 사용 -> 객체 생성\n",
        "# 반복문 안에서는 사용시 책임지고 해제(del)한다.\n",
        "p = Person()"
      ],
      "metadata": {
        "id": "mcj1n8d4giNF"
      },
      "id": "mcj1n8d4giNF",
      "execution_count": null,
      "outputs": []
    },
    {
      "cell_type": "code",
      "source": [
        "# p를 통해서 Person 객체를 접근할 수 있다.\n",
        "p"
      ],
      "metadata": {
        "id": "UaK_rRUwg2Mh"
      },
      "id": "UaK_rRUwg2Mh",
      "execution_count": null,
      "outputs": []
    },
    {
      "cell_type": "code",
      "source": [
        "# 해제\n",
        "del p"
      ],
      "metadata": {
        "id": "9_SF6xNjg-jn"
      },
      "id": "9_SF6xNjg-jn",
      "execution_count": null,
      "outputs": []
    },
    {
      "cell_type": "code",
      "source": [
        "p"
      ],
      "metadata": {
        "id": "rh1w-x9khBZH"
      },
      "id": "rh1w-x9khBZH",
      "execution_count": null,
      "outputs": []
    },
    {
      "cell_type": "markdown",
      "source": [
        "## ## 클레스 구성원\n",
        "  * 생성자\n",
        "  * 멤버\n",
        "    - 변수\n",
        "      - 접근제어를 표현할 수 있는데 차후 언급\n",
        "    - 함수\n",
        "  * 소멸자\n",
        "  * 기타 _로 시작하는 사전 정의된 함수들 \n",
        "  * 정적함수"
      ],
      "metadata": {
        "id": "i4lfkWZchfhd"
      },
      "id": "i4lfkWZchfhd"
    },
    {
      "cell_type": "code",
      "source": [
        "# 멤버 -> 클래스 소속이다 -> 객체명.맴버변수 or 객체명.멤버함수\n",
        "# Person 클래스 내부에서 자기 자신을 표현할 때 => self or(타 언어는 this)\n",
        "\n",
        "# 부모 클래스를 명시적으로 표현하지 않아도 이미 Object(모든 클레스의 슈퍼 클레스)를 상속하고 있다.\n",
        "# class Person(Object) :\n",
        "\n",
        "class Person :\n",
        "  # 생성자(생략 가능함 -> 부모 생성자가 있으니까 그것을 그대로 사용)\n",
        "  # 멤버 변수\n",
        "  p = 0.2\n",
        "  # 멤버 함수\n",
        "  def getP(self) : \n",
        "    return self.p\n",
        "\n",
        "per = Person()"
      ],
      "metadata": {
        "id": "Rhy89GbgiPUh"
      },
      "id": "Rhy89GbgiPUh",
      "execution_count": null,
      "outputs": []
    },
    {
      "cell_type": "code",
      "source": [
        "# 객체명.맴버변수\n",
        "per.p"
      ],
      "metadata": {
        "id": "E1KsZsTqisTc"
      },
      "id": "E1KsZsTqisTc",
      "execution_count": null,
      "outputs": []
    },
    {
      "cell_type": "code",
      "source": [
        "# 객체명.멤버함수\n",
        "per.getP()"
      ],
      "metadata": {
        "id": "1Koevr23izq2"
      },
      "id": "1Koevr23izq2",
      "execution_count": null,
      "outputs": []
    },
    {
      "cell_type": "markdown",
      "source": [
        "## ## 상속\n",
        "  * 부모 클레스로부터 모든 유산을 받아서 자식 클레스는 사용 가능\n",
        "  * 부모로 부터 받은 유산을 재정의해서 사용 가능\n",
        "  * 자식 클레스는 별도로 새로운 기능을 만들어서 추가할 수 있다.\n",
        "  * Xman > Person > Object\n",
        "    - Xman은 Object이다(is a)\n",
        "    - Object는 자식으로 Xman을 가진다( has a )"
      ],
      "metadata": {
        "id": "xjp7DRsnj2qI"
      },
      "id": "xjp7DRsnj2qI"
    },
    {
      "cell_type": "code",
      "source": [
        "class XMan(Person) :\n",
        "  def attack(self) : \n",
        "    print('하늘을 나는 능력을 추가했다.')\n",
        "\n",
        "x = XMan()"
      ],
      "metadata": {
        "id": "GfQ7fRL6kGof"
      },
      "id": "GfQ7fRL6kGof",
      "execution_count": null,
      "outputs": []
    },
    {
      "cell_type": "code",
      "source": [
        "x.p, x.getP(), x.attack()"
      ],
      "metadata": {
        "id": "4R6hXp9EkWT-"
      },
      "id": "4R6hXp9EkWT-",
      "execution_count": null,
      "outputs": []
    },
    {
      "cell_type": "markdown",
      "metadata": {
        "id": "18cf5b70"
      },
      "source": [
        "## # 빈 클래스 만들기\n",
        "  * 내용이 없는 빈 클래스를 만들 때는 코드 부분에 pass를 넣어줍니다."
      ],
      "id": "18cf5b70"
    },
    {
      "cell_type": "code",
      "execution_count": null,
      "metadata": {
        "id": "d9244abd"
      },
      "outputs": [],
      "source": [
        "class Person:\n",
        "    pass"
      ],
      "id": "d9244abd"
    },
    {
      "cell_type": "markdown",
      "metadata": {
        "id": "ba5460ae"
      },
      "source": [
        "## # 클래스 예시\n",
        "  * 책을 보면서 한 번 따라해보기\n",
        "  * 아직 충분히 이해가 되지 않음"
      ],
      "id": "ba5460ae"
    },
    {
      "cell_type": "code",
      "execution_count": null,
      "metadata": {
        "id": "55da2691"
      },
      "outputs": [],
      "source": [
        "class Person :\n",
        "    name = '무명이' \n",
        "    age = 0\n",
        "    height = 0\n",
        "    gender = ''\n",
        "    feetsize = 250\n",
        "    bloodtype = ''\n",
        "\n",
        "    \n",
        "    # 생성자\n",
        "\n",
        "    def __init__(self, name, age, height, gender) -> None : # 초기화\n",
        "        self.name = name\n",
        "        self.age = age\n",
        "        self.height = height\n",
        "        self.gender = gender\n",
        "        print('Person이 생성되었습니다.')\n",
        "\n",
        "    def 소개한다(self) -> None : \n",
        "        greeting = f'''안녕하세요. 저는 {self.name}입니다.\n",
        "        {self.gender} 구요. {self.age}\n",
        "        '''\n",
        "        print(greeting)\n",
        "\n",
        "    def 먹는다(self, food) :\n",
        "        print(f'{self.name}(이)가 {food}를 먹는다.')\n",
        "\n",
        "    def 일한다(self, drink) :\n",
        "        print(f'{self.name}(이)가 {drink}를 마시면서 일한다.')\n",
        "\n",
        "if __name__  == '__main__' :\n",
        "\n",
        "    jgy = Person('정기영', 34, 180, 'male') # == __init__(self, name, age):\n",
        "    # jgy.name = '정기영'\n",
        "    # jgy.age = 34\n",
        "    # jgy.height = 180\n",
        "    # jgy.gender = 'male'\n",
        "    jgy.feetsize = 275\n",
        "    jgy.bloodtype = 'RH+ A'\n",
        "    \n",
        "    jgy.소개한다()\n",
        "    jgy.먹는다('본죽')\n",
        "    jgy.일한다('핫식스')"
      ],
      "id": "55da2691"
    },
    {
      "cell_type": "markdown",
      "source": [
        "### ### [python의 self와 __init__의 이해](https://engineer-mole.tistory.com/190) "
      ],
      "metadata": {
        "id": "w9EUtXw4wk3B"
      },
      "id": "w9EUtXw4wk3B"
    },
    {
      "cell_type": "code",
      "execution_count": null,
      "metadata": {
        "id": "f3364ce8"
      },
      "outputs": [],
      "source": [
        "class Car :\n",
        "    차량번호 = '22나 4444'\n",
        "    # 기본값 : 따로 값을 넣지 않으면 차량번호는 22나 4444\n",
        "    __제조사 = '현대'\n",
        "    \"\"\" \n",
        "    # 앞에다가 __(언더바 두개)를 '프라이빗(private)'이라고 부르고 class 밖에서는 값으로 접근이 불가능하도록 하는 기능이다. \n",
        "      * 다만 Python은 유연한 언어라서 private 으로 만들어도 접근이 가능하다.\n",
        "    \"\"\"\n",
        "\n",
        "    색상 = '흰색'\n",
        "    연료 = '가솔린'\n",
        "    출고년도 = 2018\n",
        "\n",
        "    def __init__(self, 차량번호, 색상) -> None :\n",
        "        self.차량번호 = 차량번호\n",
        "        self.색상 = 색상\n",
        "\n",
        "    def __str__(self) -> str:\n",
        "        return f'제 차는 {self.출고년도}년도에 만들어진 {self.연료} 차량입니다.'\n",
        "\n",
        "    def 전진한다(self, level) :\n",
        "        print(f'{self.색상}차가 {level}단 앞으로 달린다.')"
      ],
      "id": "f3364ce8"
    },
    {
      "cell_type": "markdown",
      "metadata": {
        "id": "b_nR9ERNpyul"
      },
      "source": [
        "# 그 외 기초 함수"
      ],
      "id": "b_nR9ERNpyul"
    },
    {
      "cell_type": "markdown",
      "source": [
        "## ## reshape"
      ],
      "metadata": {
        "id": "CJZn6x855fuM"
      },
      "id": "CJZn6x855fuM"
    },
    {
      "cell_type": "code",
      "source": [
        "array1 = np.arange(10)\n",
        "print('array1:\\n', array1)"
      ],
      "metadata": {
        "colab": {
          "base_uri": "https://localhost:8080/"
        },
        "id": "g4i_t6Yx5gxE",
        "outputId": "f090c6a4-d0f3-4264-f7a5-0405e5ebad75"
      },
      "id": "g4i_t6Yx5gxE",
      "execution_count": null,
      "outputs": [
        {
          "output_type": "stream",
          "name": "stdout",
          "text": [
            "array1:\n",
            " [0 1 2 3 4 5 6 7 8 9]\n"
          ]
        }
      ]
    },
    {
      "cell_type": "code",
      "source": [
        "array2 = array1.reshape(2,5)\n",
        "print('array2:\\n',array2)\n",
        "\n",
        "array3 = array1.reshape(5,2)\n",
        "print('array3:\\n',array3)"
      ],
      "metadata": {
        "colab": {
          "base_uri": "https://localhost:8080/"
        },
        "id": "GGQp3MJr5jnD",
        "outputId": "2ba58abd-07a7-42c4-c3e1-347848376cd1"
      },
      "id": "GGQp3MJr5jnD",
      "execution_count": null,
      "outputs": [
        {
          "output_type": "stream",
          "name": "stdout",
          "text": [
            "array2:\n",
            " [[0 1 2 3 4]\n",
            " [5 6 7 8 9]]\n",
            "array3:\n",
            " [[0 1]\n",
            " [2 3]\n",
            " [4 5]\n",
            " [6 7]\n",
            " [8 9]]\n"
          ]
        }
      ]
    },
    {
      "cell_type": "markdown",
      "source": [
        "### ### reshape(-1, -1)의 의미\n",
        "  * 행렬 중 고정된 수가 있다면 그 수를 제외하고 만들 수 있는 행렬로 자동 완성"
      ],
      "metadata": {
        "id": "qBpi1pg-5yMK"
      },
      "id": "qBpi1pg-5yMK"
    },
    {
      "cell_type": "code",
      "source": [
        "array1 = np.arange(10)\n",
        "print(array1)"
      ],
      "metadata": {
        "colab": {
          "base_uri": "https://localhost:8080/"
        },
        "id": "z-BGHx8M5rmc",
        "outputId": "9381f7f7-26a5-4e18-b0e3-f0d57dcb40d9"
      },
      "id": "z-BGHx8M5rmc",
      "execution_count": null,
      "outputs": [
        {
          "output_type": "stream",
          "name": "stdout",
          "text": [
            "[0 1 2 3 4 5 6 7 8 9]\n"
          ]
        }
      ]
    },
    {
      "cell_type": "code",
      "source": [
        "array2 = array1.reshape(-1,5)\n",
        "print('array2 shape:',array2.shape)\n",
        "\n",
        "array3 = array1.reshape(5,-1)\n",
        "print('array3 shape:',array3.shape)"
      ],
      "metadata": {
        "colab": {
          "base_uri": "https://localhost:8080/"
        },
        "id": "o83gjosy5uI6",
        "outputId": "4701d2db-6d4a-4623-8079-9fa5b1ec5440"
      },
      "id": "o83gjosy5uI6",
      "execution_count": null,
      "outputs": [
        {
          "output_type": "stream",
          "name": "stdout",
          "text": [
            "array2 shape: (2, 5)\n",
            "array3 shape: (5, 2)\n"
          ]
        }
      ]
    },
    {
      "cell_type": "code",
      "metadata": {
        "id": "SCKdFpzC6IJk"
      },
      "source": [
        "# 삭제\n",
        "# 파이썬 표현 내에서 특정 변수를 해제하는 방법 : del\n",
        "del c[0]\n",
        "c"
      ],
      "execution_count": null,
      "outputs": [],
      "id": "SCKdFpzC6IJk"
    },
    {
      "cell_type": "markdown",
      "metadata": {
        "id": "01292d69"
      },
      "source": [
        "## # 인코딩\n",
        "  * 영어 : ascii\n",
        "  * 한글 : cp949\n",
        "  * 중국어 포함 모든 언어 : utf-8"
      ],
      "id": "01292d69"
    },
    {
      "cell_type": "markdown",
      "source": [
        "## ## 레이블 인코딩\n",
        "  * LabelEncoder를 객체로 생성한 후 ,\n",
        "  * fit( ) 과 transform( ) 으로 label 인코딩 수행. "
      ],
      "metadata": {
        "id": "LKhpK1VC27IE"
      },
      "id": "LKhpK1VC27IE"
    },
    {
      "cell_type": "code",
      "source": [
        "from sklearn.preprocessing import LabelEncoder\n",
        "\n",
        "items=['TV','냉장고','전자레인지','컴퓨터','선풍기','선풍기','믹서','믹서']\n",
        "\n",
        "encoder = LabelEncoder()\n",
        "\n",
        "encoder.fit(items)\n",
        "\n",
        "labels = encoder.transform(items)\n",
        "\n",
        "print('인코딩 변환값:',labels)"
      ],
      "metadata": {
        "colab": {
          "base_uri": "https://localhost:8080/"
        },
        "id": "LSG5TLFS2890",
        "outputId": "2eb65c10-1d24-4e68-cace-0eae902af78e"
      },
      "id": "LSG5TLFS2890",
      "execution_count": null,
      "outputs": [
        {
          "output_type": "stream",
          "name": "stdout",
          "text": [
            "인코딩 변환값: [0 1 4 5 3 3 2 2]\n"
          ]
        }
      ]
    },
    {
      "cell_type": "markdown",
      "source": [
        "### ### 원래 레이블"
      ],
      "metadata": {
        "id": "NAIyVU9Q37Fn"
      },
      "id": "NAIyVU9Q37Fn"
    },
    {
      "cell_type": "code",
      "source": [
        "print('인코딩 클래스:',encoder.classes_)"
      ],
      "metadata": {
        "colab": {
          "base_uri": "https://localhost:8080/"
        },
        "id": "z3oSHPfr3Blr",
        "outputId": "9ff8cfae-7d24-4026-95bc-1235c1cd6a1c"
      },
      "id": "z3oSHPfr3Blr",
      "execution_count": null,
      "outputs": [
        {
          "output_type": "stream",
          "name": "stdout",
          "text": [
            "인코딩 클래스: ['TV' '냉장고' '믹서' '선풍기' '전자레인지' '컴퓨터']\n"
          ]
        }
      ]
    },
    {
      "cell_type": "code",
      "source": [
        "print('디코딩 원본 값:',encoder.inverse_transform([4, 5, 2, 0, 1, 1, 3, 3]))"
      ],
      "metadata": {
        "colab": {
          "base_uri": "https://localhost:8080/"
        },
        "id": "1p41Tvzi4BGr",
        "outputId": "e30554f2-1520-4db8-9d89-462fd8c6b90f"
      },
      "id": "1p41Tvzi4BGr",
      "execution_count": null,
      "outputs": [
        {
          "output_type": "stream",
          "name": "stdout",
          "text": [
            "디코딩 원본 값: ['전자레인지' '컴퓨터' '믹서' 'TV' '냉장고' '냉장고' '선풍기' '선풍기']\n"
          ]
        }
      ]
    },
    {
      "cell_type": "markdown",
      "source": [
        "## ## 원핫 인코딩\n",
        "  * one-hot encoding\n",
        "\n",
        "|상품분류|가격|\n",
        "|--|--|\n",
        "|TV|1000|\n",
        "|냉장고|500|\n",
        "|컴퓨터|800|\n",
        "\n",
        "  * 상품분류를 숫자로 변환\n",
        "\n",
        "|상품분류|가격|\n",
        "|--|--|\n",
        "|1|1000|\n",
        "|2|500|\n",
        "|3|800|\n",
        "\n",
        "  * 몇몇 알고리즘에서는 예측 성능이 떨어지는 경우가 있다.\n",
        "    - 왜냐하면 TV가 1이고 냉장고가 2이면 냉장고에게 가중치를 부여하는 알고리즘도 있기 때문이다.\n",
        "  * 이를 방지하기 위해서, 행 형태로 돼 있는 피처의 고유 값을 열 형태로 차원을 변환한 뒤, 고유 값에 해당하는 칼럼에만 1을 표시하고 나머지는 0을 표시\n",
        "\n",
        "|상품분류|\n",
        "|--|\n",
        "|TV|\n",
        "|냉장고|\n",
        "|컴퓨터|\n",
        "\n",
        "을\n",
        "\n",
        "|상품분류-TV|상품분류-냉장고|상품분류-컴퓨터\n",
        "|--|--|--|\n",
        "|1|0|0|\n",
        "|0|1|0|\n",
        "|0|0|1\n",
        "\n",
        "\n",
        "\n"
      ],
      "metadata": {
        "id": "doKYwu-Fzw-9"
      },
      "id": "doKYwu-Fzw-9"
    },
    {
      "cell_type": "code",
      "source": [
        "from sklearn.preprocessing import OneHotEncoder\n",
        "import numpy as np\n",
        "\n",
        "items=['TV','냉장고','전자레인지','컴퓨터','선풍기','선풍기','믹서','믹서']\n",
        "\n",
        "# 2차원 ndarray로 변환합니다. \n",
        "items = np.array(items).reshape(-1, 1)\n",
        "\n",
        "# 원-핫 인코딩을 적용합니다. \n",
        "oh_encoder = OneHotEncoder()\n",
        "oh_encoder.fit(items)\n",
        "oh_labels = oh_encoder.transform(items)\n",
        "\n",
        "# OneHotEncoder로 변환한 결과는 희소행렬이므로 toarray()를 이용해 밀집 행렬로 변환. \n",
        "print('원-핫 인코딩 데이터')\n",
        "print(oh_labels.toarray())\n",
        "print('원-핫 인코딩 데이터 차원')\n",
        "print(oh_labels.shape)"
      ],
      "metadata": {
        "colab": {
          "base_uri": "https://localhost:8080/"
        },
        "id": "_koXwMT54OdM",
        "outputId": "b4bf85d2-fb20-44de-9f6b-fbcb66688e43"
      },
      "id": "_koXwMT54OdM",
      "execution_count": null,
      "outputs": [
        {
          "output_type": "stream",
          "name": "stdout",
          "text": [
            "원-핫 인코딩 데이터\n",
            "[[1. 0. 0. 0. 0. 0.]\n",
            " [0. 1. 0. 0. 0. 0.]\n",
            " [0. 0. 0. 0. 1. 0.]\n",
            " [0. 0. 0. 0. 0. 1.]\n",
            " [0. 0. 0. 1. 0. 0.]\n",
            " [0. 0. 0. 1. 0. 0.]\n",
            " [0. 0. 1. 0. 0. 0.]\n",
            " [0. 0. 1. 0. 0. 0.]]\n",
            "원-핫 인코딩 데이터 차원\n",
            "(8, 6)\n"
          ]
        }
      ]
    },
    {
      "cell_type": "markdown",
      "source": [
        "### ### 판다스 버전"
      ],
      "metadata": {
        "id": "8nUywN_w4gCT"
      },
      "id": "8nUywN_w4gCT"
    },
    {
      "cell_type": "code",
      "source": [
        "import pandas as pd\n",
        "\n",
        "df = pd.DataFrame({'item':['TV','냉장고','전자레인지','컴퓨터','선풍기','선풍기','믹서','믹서'] })\n",
        "pd.get_dummies(df)"
      ],
      "metadata": {
        "colab": {
          "base_uri": "https://localhost:8080/",
          "height": 300
        },
        "id": "H3Ut8PfA4e_N",
        "outputId": "572d5981-a240-4dd8-ada0-ada14e900cc7"
      },
      "id": "H3Ut8PfA4e_N",
      "execution_count": null,
      "outputs": [
        {
          "output_type": "execute_result",
          "data": {
            "text/plain": [
              "   item_TV  item_냉장고  item_믹서  item_선풍기  item_전자레인지  item_컴퓨터\n",
              "0        1         0        0         0           0         0\n",
              "1        0         1        0         0           0         0\n",
              "2        0         0        0         0           1         0\n",
              "3        0         0        0         0           0         1\n",
              "4        0         0        0         1           0         0\n",
              "5        0         0        0         1           0         0\n",
              "6        0         0        1         0           0         0\n",
              "7        0         0        1         0           0         0"
            ],
            "text/html": [
              "\n",
              "  <div id=\"df-95e5d7a9-288b-4dc9-8aca-39a332d674e8\">\n",
              "    <div class=\"colab-df-container\">\n",
              "      <div>\n",
              "<style scoped>\n",
              "    .dataframe tbody tr th:only-of-type {\n",
              "        vertical-align: middle;\n",
              "    }\n",
              "\n",
              "    .dataframe tbody tr th {\n",
              "        vertical-align: top;\n",
              "    }\n",
              "\n",
              "    .dataframe thead th {\n",
              "        text-align: right;\n",
              "    }\n",
              "</style>\n",
              "<table border=\"1\" class=\"dataframe\">\n",
              "  <thead>\n",
              "    <tr style=\"text-align: right;\">\n",
              "      <th></th>\n",
              "      <th>item_TV</th>\n",
              "      <th>item_냉장고</th>\n",
              "      <th>item_믹서</th>\n",
              "      <th>item_선풍기</th>\n",
              "      <th>item_전자레인지</th>\n",
              "      <th>item_컴퓨터</th>\n",
              "    </tr>\n",
              "  </thead>\n",
              "  <tbody>\n",
              "    <tr>\n",
              "      <th>0</th>\n",
              "      <td>1</td>\n",
              "      <td>0</td>\n",
              "      <td>0</td>\n",
              "      <td>0</td>\n",
              "      <td>0</td>\n",
              "      <td>0</td>\n",
              "    </tr>\n",
              "    <tr>\n",
              "      <th>1</th>\n",
              "      <td>0</td>\n",
              "      <td>1</td>\n",
              "      <td>0</td>\n",
              "      <td>0</td>\n",
              "      <td>0</td>\n",
              "      <td>0</td>\n",
              "    </tr>\n",
              "    <tr>\n",
              "      <th>2</th>\n",
              "      <td>0</td>\n",
              "      <td>0</td>\n",
              "      <td>0</td>\n",
              "      <td>0</td>\n",
              "      <td>1</td>\n",
              "      <td>0</td>\n",
              "    </tr>\n",
              "    <tr>\n",
              "      <th>3</th>\n",
              "      <td>0</td>\n",
              "      <td>0</td>\n",
              "      <td>0</td>\n",
              "      <td>0</td>\n",
              "      <td>0</td>\n",
              "      <td>1</td>\n",
              "    </tr>\n",
              "    <tr>\n",
              "      <th>4</th>\n",
              "      <td>0</td>\n",
              "      <td>0</td>\n",
              "      <td>0</td>\n",
              "      <td>1</td>\n",
              "      <td>0</td>\n",
              "      <td>0</td>\n",
              "    </tr>\n",
              "    <tr>\n",
              "      <th>5</th>\n",
              "      <td>0</td>\n",
              "      <td>0</td>\n",
              "      <td>0</td>\n",
              "      <td>1</td>\n",
              "      <td>0</td>\n",
              "      <td>0</td>\n",
              "    </tr>\n",
              "    <tr>\n",
              "      <th>6</th>\n",
              "      <td>0</td>\n",
              "      <td>0</td>\n",
              "      <td>1</td>\n",
              "      <td>0</td>\n",
              "      <td>0</td>\n",
              "      <td>0</td>\n",
              "    </tr>\n",
              "    <tr>\n",
              "      <th>7</th>\n",
              "      <td>0</td>\n",
              "      <td>0</td>\n",
              "      <td>1</td>\n",
              "      <td>0</td>\n",
              "      <td>0</td>\n",
              "      <td>0</td>\n",
              "    </tr>\n",
              "  </tbody>\n",
              "</table>\n",
              "</div>\n",
              "      <button class=\"colab-df-convert\" onclick=\"convertToInteractive('df-95e5d7a9-288b-4dc9-8aca-39a332d674e8')\"\n",
              "              title=\"Convert this dataframe to an interactive table.\"\n",
              "              style=\"display:none;\">\n",
              "        \n",
              "  <svg xmlns=\"http://www.w3.org/2000/svg\" height=\"24px\"viewBox=\"0 0 24 24\"\n",
              "       width=\"24px\">\n",
              "    <path d=\"M0 0h24v24H0V0z\" fill=\"none\"/>\n",
              "    <path d=\"M18.56 5.44l.94 2.06.94-2.06 2.06-.94-2.06-.94-.94-2.06-.94 2.06-2.06.94zm-11 1L8.5 8.5l.94-2.06 2.06-.94-2.06-.94L8.5 2.5l-.94 2.06-2.06.94zm10 10l.94 2.06.94-2.06 2.06-.94-2.06-.94-.94-2.06-.94 2.06-2.06.94z\"/><path d=\"M17.41 7.96l-1.37-1.37c-.4-.4-.92-.59-1.43-.59-.52 0-1.04.2-1.43.59L10.3 9.45l-7.72 7.72c-.78.78-.78 2.05 0 2.83L4 21.41c.39.39.9.59 1.41.59.51 0 1.02-.2 1.41-.59l7.78-7.78 2.81-2.81c.8-.78.8-2.07 0-2.86zM5.41 20L4 18.59l7.72-7.72 1.47 1.35L5.41 20z\"/>\n",
              "  </svg>\n",
              "      </button>\n",
              "      \n",
              "  <style>\n",
              "    .colab-df-container {\n",
              "      display:flex;\n",
              "      flex-wrap:wrap;\n",
              "      gap: 12px;\n",
              "    }\n",
              "\n",
              "    .colab-df-convert {\n",
              "      background-color: #E8F0FE;\n",
              "      border: none;\n",
              "      border-radius: 50%;\n",
              "      cursor: pointer;\n",
              "      display: none;\n",
              "      fill: #1967D2;\n",
              "      height: 32px;\n",
              "      padding: 0 0 0 0;\n",
              "      width: 32px;\n",
              "    }\n",
              "\n",
              "    .colab-df-convert:hover {\n",
              "      background-color: #E2EBFA;\n",
              "      box-shadow: 0px 1px 2px rgba(60, 64, 67, 0.3), 0px 1px 3px 1px rgba(60, 64, 67, 0.15);\n",
              "      fill: #174EA6;\n",
              "    }\n",
              "\n",
              "    [theme=dark] .colab-df-convert {\n",
              "      background-color: #3B4455;\n",
              "      fill: #D2E3FC;\n",
              "    }\n",
              "\n",
              "    [theme=dark] .colab-df-convert:hover {\n",
              "      background-color: #434B5C;\n",
              "      box-shadow: 0px 1px 3px 1px rgba(0, 0, 0, 0.15);\n",
              "      filter: drop-shadow(0px 1px 2px rgba(0, 0, 0, 0.3));\n",
              "      fill: #FFFFFF;\n",
              "    }\n",
              "  </style>\n",
              "\n",
              "      <script>\n",
              "        const buttonEl =\n",
              "          document.querySelector('#df-95e5d7a9-288b-4dc9-8aca-39a332d674e8 button.colab-df-convert');\n",
              "        buttonEl.style.display =\n",
              "          google.colab.kernel.accessAllowed ? 'block' : 'none';\n",
              "\n",
              "        async function convertToInteractive(key) {\n",
              "          const element = document.querySelector('#df-95e5d7a9-288b-4dc9-8aca-39a332d674e8');\n",
              "          const dataTable =\n",
              "            await google.colab.kernel.invokeFunction('convertToInteractive',\n",
              "                                                     [key], {});\n",
              "          if (!dataTable) return;\n",
              "\n",
              "          const docLinkHtml = 'Like what you see? Visit the ' +\n",
              "            '<a target=\"_blank\" href=https://colab.research.google.com/notebooks/data_table.ipynb>data table notebook</a>'\n",
              "            + ' to learn more about interactive tables.';\n",
              "          element.innerHTML = '';\n",
              "          dataTable['output_type'] = 'display_data';\n",
              "          await google.colab.output.renderOutput(dataTable, element);\n",
              "          const docLink = document.createElement('div');\n",
              "          docLink.innerHTML = docLinkHtml;\n",
              "          element.appendChild(docLink);\n",
              "        }\n",
              "      </script>\n",
              "    </div>\n",
              "  </div>\n",
              "  "
            ]
          },
          "metadata": {},
          "execution_count": 10
        }
      ]
    },
    {
      "cell_type": "markdown",
      "metadata": {
        "id": "99410402"
      },
      "source": [
        "## # Escape character 탈출문자(특수문자)\n",
        "  * \\ 혹은 역슬래쉬\n",
        "  * 파이썬에서 자동으로 식별자로 인식하는 ( 예) \", ' 등) 걸 방지하는 식별자"
      ],
      "id": "99410402"
    },
    {
      "cell_type": "code",
      "execution_count": null,
      "metadata": {
        "id": "7417693a"
      },
      "outputs": [],
      "source": [
        "print('Life is short.\\nYou need Python.')\n",
        "print()\n",
        "\n",
        "print('Life is short.\\rYou need Python.')\n",
        "print()\n",
        "\n",
        "print('Life is short.\\r\\nYou \\tneed \\'Python.\\'')\n",
        "print()\n",
        "\n",
        "print('Life is short.\\r\\nYou \\t\\bneed \\'Python.\\'')\n",
        "print()\n",
        "\n",
        "print('Life is \\\"short\\\".\\r\\nYou \\t\\bneed \\'Python.\\'')\n",
        "print()"
      ],
      "id": "7417693a"
    },
    {
      "cell_type": "markdown",
      "metadata": {
        "id": "073af8b6"
      },
      "source": [
        "## ## random 함수"
      ],
      "id": "073af8b6"
    },
    {
      "cell_type": "code",
      "execution_count": null,
      "metadata": {
        "id": "69dccd6c"
      },
      "outputs": [],
      "source": [
        "import random \n",
        "\n",
        "numbers = list(range(1, 46))\n",
        "\n",
        "lottery = [] \n",
        "\n",
        "for i in range(6) :\n",
        "    lottery.append(random.choice(numbers))\n",
        "\n",
        "print(lottery)"
      ],
      "id": "69dccd6c"
    },
    {
      "cell_type": "markdown",
      "source": [
        "## ## random()\n",
        "  * 0 이상 1 미만의 숫자 중에서 아무 숫자나 하나 뽑아서 돌려주는 일을 한답니다."
      ],
      "metadata": {
        "id": "8Pc9M0BcrSaP"
      },
      "id": "8Pc9M0BcrSaP"
    },
    {
      "cell_type": "code",
      "source": [
        "m = [random.random() for n in range(1000)]\n",
        "print(m)"
      ],
      "metadata": {
        "id": "qrRyKLm_raY-"
      },
      "id": "qrRyKLm_raY-",
      "execution_count": null,
      "outputs": []
    },
    {
      "cell_type": "markdown",
      "metadata": {
        "id": "AAA8N_rOuliy"
      },
      "source": [
        "# 공공데이터 Open API 데이터 읽어오기"
      ],
      "id": "AAA8N_rOuliy"
    },
    {
      "cell_type": "code",
      "execution_count": null,
      "metadata": {
        "id": "K6GM5hhbuoLH"
      },
      "outputs": [],
      "source": [
        "import pandas\n",
        "from bs4 import BeautifulSoup\n",
        "import requests\n",
        "from openpyxl.workbook import Workbook"
      ],
      "id": "K6GM5hhbuoLH"
    },
    {
      "cell_type": "code",
      "execution_count": null,
      "metadata": {
        "id": "oU635QciupTx"
      },
      "outputs": [],
      "source": [
        "# api key 입력\n",
        "\n",
        "apikey='2iBxaKFKnzeyq04AkTe7ZCYjXgKOO6sXWOegK0YOWsgfPk%2FyFKrzqSaEiKFNMSUDX9qffhdPG0ajf0ydWGVzFQ%3D%3D'\n",
        "\n",
        "# 약국정보서비스 URL\n",
        "api = \"http://apis.data.go.kr/B551182/pharmacyInfoService/getParmacyBasisList?serviceKey=2iBxaKFKnzeyq04AkTe7ZCYjXgKOO6sXWOegK0YOWsgfPk%2FyFKrzqSaEiKFNMSUDX9qffhdPG0ajf0ydWGVzFQ%3D%3D&pageNo=1&numOfRows=10&sidoCd=110000&sgguCd=110019&emdongNm=%EC%8B%A0%EB%82%B4%EB%8F%99&yadmNm=%EC%98%A8%EB%88%84%EB%A6%AC%EA%B1%B4%EA%B0%95&type=json&APPID={key}\"\n",
        "\n",
        "# 약국정보 컬럼(제목) 정의\n",
        "list_drugs = [\"병원명\", \"종목코드명\", \"시도명\", \"주소\", \"전화번호\"]"
      ],
      "id": "oU635QciupTx"
    },
    {
      "cell_type": "code",
      "execution_count": null,
      "metadata": {
        "id": "In-uj7mbuyMQ"
      },
      "outputs": [],
      "source": [
        "# API 정보 가지고 오기\n",
        "for list_drug in list_drugs : \n",
        "    url = api.format(list_drugs = list_drug,\n",
        "                    key = apikey)\n",
        "    \n",
        "    req = requests.get(url)\n",
        "    re = req.text\n",
        "    soup = BeautifulSoup(re, \"html.parser\")\n",
        "    # print(soup)\n",
        "    \n",
        "    yadmnm = soup.find_all(\"yadmnm\")\n",
        "    sggucdnm = soup.find_all(\"sggucdnm\")\n",
        "    sidocdnm = soup.find_all(\"sidocdnm\")\n",
        "    addr = soup.find_all(\"addr\")\n",
        "    telno = soup.find_all(\"telno\")\n",
        "    \n",
        "    print(\"병원명 : \", yadmnm)\n",
        "    print(\"종목코드명 : \", sggucdnm)\n",
        "    print(\"시도명 : \", sidocdnm)\n",
        "    print(\"주소 : \", addr)\n",
        "    print(\"전화번호 : \", telno)\n",
        "    print(\"==========================\")"
      ],
      "id": "In-uj7mbuyMQ"
    },
    {
      "cell_type": "markdown",
      "metadata": {
        "id": "CuqbXl4QHu1W"
      },
      "source": [
        "# ㅁㅁㅁㅁㅁㅁㅁㅁㅁㅁㅁㅁㅁㅁㅁㅁㅁㅁㅁㅁㅁㅁㅁㅁㅁㅁㅁㅁㅁㅁㅁㅁㅁㅁㅁ"
      ],
      "id": "CuqbXl4QHu1W"
    },
    {
      "cell_type": "markdown",
      "metadata": {
        "id": "wcCrljMGwDhs"
      },
      "source": [
        "# # 데이터 전처리 과정 실습\n",
        "  * 관광객 데이터"
      ],
      "id": "wcCrljMGwDhs"
    },
    {
      "cell_type": "markdown",
      "metadata": {
        "id": "jbw7APFwwPRa"
      },
      "source": [
        "## ## 데이터 불러오기"
      ],
      "id": "jbw7APFwwPRa"
    },
    {
      "cell_type": "code",
      "execution_count": null,
      "metadata": {
        "id": "9p3HHwOYwHho"
      },
      "outputs": [],
      "source": [
        "import pandas as pd\n",
        "\n",
        "# 파일 경로 지정\n",
        "file_path = \"/content/drive/MyDrive/Colab Notebooks/data_python 정리.ipynb/files_관광데이터/kto_201901.xlsx\"\n",
        "\n",
        "# 파일을 읽어 들여서 DataFrame 형태로 읽어드리기\n",
        "kto_201901 = pd.read_excel(file_path,\n",
        "                           header=1, # 컬럼명 위치. 기본값은 0.\n",
        "                          skipfooter = 4, # 제일 밑 행에서 부터 삭제할 행 번호\n",
        "                           usecols = \"A:G\" # 사용할 열 선택\n",
        "                          )\n",
        "kto_201901"
      ],
      "id": "9p3HHwOYwHho"
    },
    {
      "cell_type": "markdown",
      "metadata": {
        "id": "GRprUoBhHac9"
      },
      "source": [
        "## ## 결측치 유무 확인"
      ],
      "id": "GRprUoBhHac9"
    },
    {
      "cell_type": "code",
      "execution_count": null,
      "metadata": {
        "id": "1jP3xb3FHRBK"
      },
      "outputs": [],
      "source": [
        "kto_201901.info()"
      ],
      "id": "1jP3xb3FHRBK"
    },
    {
      "cell_type": "markdown",
      "metadata": {
        "id": "4jKpbhhwHhZc"
      },
      "source": [
        "## ## 기초통계 확인\n",
        "  * 의심스러운 값 확인\n",
        "    - 이 경우 최소값에 0이 보인다."
      ],
      "id": "4jKpbhhwHhZc"
    },
    {
      "cell_type": "code",
      "execution_count": null,
      "metadata": {
        "id": "nhHdWu09Hdf1"
      },
      "outputs": [],
      "source": [
        "kto_201901.describe()"
      ],
      "id": "nhHdWu09Hdf1"
    },
    {
      "cell_type": "code",
      "execution_count": null,
      "metadata": {
        "id": "XEpkmZAxHliM"
      },
      "outputs": [],
      "source": [
        ""
      ],
      "id": "XEpkmZAxHliM"
    }
  ],
  "metadata": {
    "colab": {
      "name": "python 정리.ipynb",
      "provenance": [],
      "collapsed_sections": [
        "vSs1qHDTjFSL",
        "S9oIE-CXjHLt",
        "W9HynPoMjLk7",
        "-Q39n4JWjNKz",
        "rAX9jmcfjPcz",
        "_Up4GyXhjRnT",
        "SzvPewjkjTuD",
        "0WR_OuAfjVej",
        "2X_BqtZhjYCj",
        "JBW6zV_zjZsc",
        "jHgYghoOjbLk",
        "jML2Gy9UjdDK",
        "beNcugysnNaN",
        "5PXSz1TAjlQK",
        "Tl0LHVCPjuNL",
        "W8lNIlKNjvlV",
        "N7aEITW2oJ4t",
        "TijAlcfpjxxq",
        "ze5N9chwjzai",
        "Z6wGHdxDoRo8",
        "lz7N_G-mj04e",
        "p-SZNivOj4kL",
        "iVXBXFYRj6Us",
        "V5ZKQvktj8Zs",
        "f0Yh7u1wj-WD",
        "cBdZi64KkAyb",
        "EnSM3wQskDDj",
        "sVl62aUXkEnl",
        "bnMFeilloZ_M",
        "lVnY_u84kNYr",
        "CBjXTXOekTzC",
        "RGfIXkZckWeT",
        "WmNaC-_2kYpK",
        "wO2TgFk8kbBz",
        "24UJ82_DkdCS",
        "smD6kXvxkkFb",
        "xJqjqd21opr8",
        "ZIdC-q15kpVU",
        "TrDOpVTzkq7L",
        "tpCAep-Ok19D",
        "oa1ZyP5Poymb",
        "b98EHD6Ppcsv",
        "ae3a48ce",
        "2dhZbof3stGo",
        "T2maqzBkpkB3",
        "VEAiI657qARr",
        "-VFEVt9iu8ZI",
        "uSqxhJdDveeH",
        "vp6hB7nEvjY6",
        "E5xLZa_dqEgk",
        "998a26aa",
        "9f54a3d2",
        "18cf5b70",
        "ba5460ae",
        "b_nR9ERNpyul",
        "01292d69",
        "99410402",
        "073af8b6",
        "AAA8N_rOuliy",
        "CuqbXl4QHu1W",
        "wcCrljMGwDhs",
        "jbw7APFwwPRa",
        "GRprUoBhHac9",
        "4jKpbhhwHhZc"
      ],
      "toc_visible": true,
      "include_colab_link": true
    },
    "kernelspec": {
      "display_name": "Python 3 (ipykernel)",
      "language": "python",
      "name": "python3"
    },
    "language_info": {
      "codemirror_mode": {
        "name": "ipython",
        "version": 3
      },
      "file_extension": ".py",
      "mimetype": "text/x-python",
      "name": "python",
      "nbconvert_exporter": "python",
      "pygments_lexer": "ipython3",
      "version": "3.9.7"
    }
  },
  "nbformat": 4,
  "nbformat_minor": 5
}